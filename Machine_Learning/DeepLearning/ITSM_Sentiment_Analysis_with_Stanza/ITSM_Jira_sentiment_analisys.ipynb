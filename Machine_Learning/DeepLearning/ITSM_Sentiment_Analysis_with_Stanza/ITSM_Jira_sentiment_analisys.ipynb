{
  "cells": [
    {
      "cell_type": "markdown",
      "id": "5024daa2",
      "metadata": {
        "id": "5024daa2",
        "lines_to_next_cell": 2
      },
      "source": [
        "Análisis de Sentimientos en ITSM usando Stanza\n",
        "\n",
        "Fuente: https://www.kaggle.com/datasets/tobiasbueck/capterra-reviews\n",
        "Autoría: Ana Ndongo (24/01/2024)\n",
        "\n",
        "Objetivo:\n",
        "Evaluar diferencias entre dos datasets relacionados para decidir cuál utilizar como base para un análisis de sentimientos.\n",
        "Comparar y analizar comentarios del proyecto ZooKeeper (Jira).\n",
        "\n",
        "Nota sobre el dataset:\n",
        "Este dataset incluye columnas derivadas como Benchmark_results_of_politeness y Benchmark_results_of_sentiment,\n",
        "generadas previamente mediante herramientas de análisis de sentimientos y cortesía.\n",
        "\n",
        "Dado que el objetivo del ejercicio es analizar y visualizar sentimientos, se parte de estas métricas ya calculadas\n",
        "para centrarse en los resultados y su interpretación, en lugar de en la generación de las mismas."
      ]
    },
    {
      "cell_type": "code",
      "execution_count": 215,
      "id": "90477c34",
      "metadata": {
        "id": "90477c34"
      },
      "outputs": [],
      "source": [
        "import pandas as pd\n",
        "import chardet\n",
        "from difflib import unified_diff"
      ]
    },
    {
      "cell_type": "code",
      "execution_count": 216,
      "id": "24c2c7b8",
      "metadata": {
        "colab": {
          "base_uri": "https://localhost:8080/"
        },
        "id": "24c2c7b8",
        "outputId": "f91494cd-d4c0-404c-cf09-b0dc1d8b2ac4"
      },
      "outputs": [
        {
          "name": "stdout",
          "output_type": "stream",
          "text": [
            "Columnas comunes: {'Comment', 'Benchmark_results_of_politeness', 'Benchmark_results_of_sentiment'}\n",
            "Tamaño del Excel: (13644, 3), CSV: (13644, 8)\n"
          ]
        }
      ],
      "source": [
        "# Cargar archivos\n",
        "path_excel = '/content/sample_data/ZooKeeper_Project_Dataset.xlsx'\n",
        "path_csv = '/content/sample_data/data_results.csv'\n",
        "\n",
        "df1 = pd.read_excel(path_excel)  # Dataset RAW\n",
        "df2 = pd.read_csv(path_csv, encoding='MacRoman')  # Dataset procesado\n",
        "\n",
        "# Resumen inicial\n",
        "print(f\"Columnas comunes: {set(df1.columns).intersection(df2.columns)}\")\n",
        "print(f\"Tamaño del Excel: {df1.shape}, CSV: {df2.shape}\")"
      ]
    },
    {
      "cell_type": "code",
      "execution_count": 217,
      "id": "99835331",
      "metadata": {
        "colab": {
          "base_uri": "https://localhost:8080/",
          "height": 105
        },
        "id": "99835331",
        "outputId": "ff2667da-b403-41fd-fc70-4c10db2fdbc1"
      },
      "outputs": [
        {
          "name": "stdout",
          "output_type": "stream",
          "text": [
            "¿'Comment' es igual en ambos datasets?: False\n",
            "¿'Benchmark_results_of_politeness' es igual en ambos datasets?: True\n",
            "¿'Benchmark_results_of_sentiment' es igual en ambos datasets?: True\n"
          ]
        },
        {
          "data": {
            "application/vnd.google.colaboratory.intrinsic+json": {
              "type": "string"
            },
            "text/plain": [
              "\"\\n¿'Comment' es igual en ambos datasets?: False\\n¿'Benchmark_results_of_politeness' es igual en ambos datasets?: True\\n¿'Benchmark_results_of_sentiment' es igual en ambos datasets?: True\\n\\nSe profundiza un poco más en Comment\\n\""
            ]
          },
          "execution_count": 217,
          "metadata": {},
          "output_type": "execute_result"
        }
      ],
      "source": [
        "# Verificar igualdad en columnas clave\n",
        "for col in ['Comment', 'Benchmark_results_of_politeness', 'Benchmark_results_of_sentiment']:\n",
        "    iguales = df1[col].equals(df2[col])\n",
        "    print(f\"¿'{col}' es igual en ambos datasets?: {iguales}\")\n",
        "'''\n",
        "¿'Comment' es igual en ambos datasets?: False\n",
        "¿'Benchmark_results_of_politeness' es igual en ambos datasets?: True\n",
        "¿'Benchmark_results_of_sentiment' es igual en ambos datasets?: True\n",
        "\n",
        "Se profundiza un poco más en Comment\n",
        "'''"
      ]
    },
    {
      "cell_type": "code",
      "execution_count": 218,
      "id": "613bba51",
      "metadata": {
        "id": "613bba51"
      },
      "outputs": [],
      "source": [
        "# Limpieza y normalización para la columna Comment\n",
        "df1['Comment'] = df1['Comment'].str.replace(r'(_x000D_|\\n)', '', regex=True).str.lower().str.strip().str.replace(r'\\s+', ' ', regex=True)\n",
        "df2['Comment'] = df2['Comment'].str.lower().str.strip().str.replace(r'\\s+', ' ', regex=True)"
      ]
    },
    {
      "cell_type": "code",
      "execution_count": 219,
      "id": "3e5de10a",
      "metadata": {
        "colab": {
          "base_uri": "https://localhost:8080/",
          "height": 53
        },
        "id": "3e5de10a",
        "outputId": "ae6f1117-dceb-4624-8e91-1fe26a43fbe8"
      },
      "outputs": [
        {
          "name": "stdout",
          "output_type": "stream",
          "text": [
            "¿Comentarios iguales tras normalización?: False\n"
          ]
        },
        {
          "data": {
            "application/vnd.google.colaboratory.intrinsic+json": {
              "type": "string"
            },
            "text/plain": [
              "'\\nSe siguen detectando diferencias\\n'"
            ]
          },
          "execution_count": 219,
          "metadata": {},
          "output_type": "execute_result"
        }
      ],
      "source": [
        "# Comparación después de limpiar\n",
        "print(f\"¿Comentarios iguales tras normalización?: {df1['Comment'].equals(df2['Comment'])}\")\n",
        "'''\n",
        "Se siguen detectando diferencias\n",
        "'''"
      ]
    },
    {
      "cell_type": "code",
      "execution_count": 220,
      "id": "c0414451",
      "metadata": {
        "colab": {
          "base_uri": "https://localhost:8080/",
          "height": 229
        },
        "id": "c0414451",
        "outputId": "ce4ede23-be2e-4556-8c6f-2ab447134057"
      },
      "outputs": [
        {
          "name": "stdout",
          "output_type": "stream",
          "text": [
            "Diferencia en fila 0:\n",
            "--- \n",
            "\n",
            "+++ \n",
            "\n",
            "@@ -1 +1 @@\n",
            "\n",
            "-bq. on 2011-05-20 04:15:05, benjamin reed wrote:bq. > src/c/include/zookeeper.h, line 1119bq. > <https://reviews.apache.org/r/739/diff/4/?file=19416#file19416line1119>bq. >bq. > it isn't clear to me that we should expose check outside of a multitransaction.that's a valid point. i did it for completeness, but there's really no need to have a check op outside a multi op. it would clean up the code as well if i removed it. i'll try to get that done tonight as well.bq. on 2011-05-20 04:15:05, benjamin reed wrote:bq. > src/java/main/org/apache/zookeeper/transaction.java, line 57bq. > <https://reviews.apache.org/r/739/diff/4/?file=19425#file19425line57>bq. >bq. > should we also have an asynchronous version?agreed. ted's created a new jira case for this.bq. on 2011-05-20 04:15:05, benjamin reed wrote:bq. > src/java/main/org/apache/zookeeper/zookeeper.java, line 801bq. > <https://reviews.apache.org/r/739/diff/4/?file=19427#file19427line801>bq. >bq. > i think we also need an asynchronous version.agreed. ted's created a new jira case for this.bq. on 2011-05-20 04:15:05, benjamin reed wrote:bq. > src/java/main/org/apache/zookeeper/server/datatree.java, line 817bq. > <https://reviews.apache.org/r/739/diff/4/?file=19428#file19428line817>bq. >bq. > if stat didn't return anything, we could skip this altogether. if we are going to return something, should we return more than the version?i'm not sure i understand... can you elaborate ?bq. on 2011-05-20 04:15:05, benjamin reed wrote:bq. > src/java/main/org/apache/zookeeper/server/preprequestprocessor.java, line 483bq. > <https://reviews.apache.org/r/739/diff/4/?file=19430#file19430line483>bq. >bq. > i don't think we want to log this at all do we?agreed. i'll clean that up tonight.bq. on 2011-05-20 04:15:05, benjamin reed wrote:bq. > src/java/main/org/apache/zookeeper/server/preprequestprocessor.java, line 484bq. > <https://reviews.apache.org/r/739/diff/4/?file=19430#file19430line484>bq. >bq. > don't use tabs. spaces!sorry... at my day job we use tabs (i know) and i forgot to switch my settings around -- i'm usually very careful about that ;-).bq. on 2011-05-20 04:15:05, benjamin reed wrote:bq. > src/java/main/org/apache/zookeeper/server/preprequestprocessor.java, line 489bq. > <https://reviews.apache.org/r/739/diff/4/?file=19430#file19430line489>bq. >bq. > i think we are only half atomic here. if the multi txn fails half way through, it will not be applied to the database, but we will still have recorded it as pending, so we may fail later changes.bq. > bq. > for example, if there is a create for a znode that would otherwise succeed, but fails do to a later (in the multi txn) check failing. there will be a pending change record created, so even though the create failed, later creates to that znode will result in a node exists error.i thought not applying it to the database was sufficient, but perhaps i'm wrong. i thought the pending change records would get discarded if the multi op failed. do i need to do that explicitly somehow? what are your thoughts on how to deal with this? bq. on 2011-05-20 04:15:05, benjamin reed wrote:bq. > src/zookeeper.jute, line 267bq. > <https://reviews.apache.org/r/739/diff/4/?file=19440#file19440line267>bq. >bq. > i don't think we should use txnheader since all we need is the type.agreed. i'll see about refactoring that.bq. on 2011-05-20 04:15:05, benjamin reed wrote:bq. > src/c/include/zookeeper.h, line 273bq. > <https://reviews.apache.org/r/739/diff/4/?file=19416#file19416line273>bq. >bq. > shouldn't this be a unionit originally was a union but i ran into some annoyances when trying to use the c api from c++ code as c++ won't let you use designated initializers unless you compile with a newer --std flag (which, when enabled, caused other zookeeper code not to compile from c++). e.g. you get warnings\n",
            "+bq. on 2011-05-20 04:15:05, benjamin reed wrote: bq. > src/c/include/zookeeper.h, line 1119 bq. > <https://reviews.apache.org/r/739/diff/4/?file=19416#file19416line1119> bq. > bq. > it isn't clear to me that we should expose check outside of a multitransaction. that's a valid point. i did it for completeness, but there's really no need to have a check op outside a multi op. it would clean up the code as well if i removed it. i'll try to get that done tonight as well. bq. on 2011-05-20 04:15:05, benjamin reed wrote: bq. > src/java/main/org/apache/zookeeper/transaction.java, line 57 bq. > <https://reviews.apache.org/r/739/diff/4/?file=19425#file19425line57> bq. > bq. > should we also have an asynchronous version? agreed. ted's created a new jira case for this. bq. on 2011-05-20 04:15:05, benjamin reed wrote: bq. > src/java/main/org/apache/zookeeper/zookeeper.java, line 801 bq. > <https://reviews.apache.org/r/739/diff/4/?file=19427#file19427line801> bq. > bq. > i think we also need an asynchronous version. agreed. ted's created a new jira case for this. bq. on 2011-05-20 04:15:05, benjamin reed wrote: bq. > src/java/main/org/apache/zookeeper/server/datatree.java, line 817 bq. > <https://reviews.apache.org/r/739/diff/4/?file=19428#file19428line817> bq. > bq. > if stat didn't return anything, we could skip this altogether. if we are going to return something, should we return more than the version? i'm not sure i understand... can you elaborate ? bq. on 2011-05-20 04:15:05, benjamin reed wrote: bq. > src/java/main/org/apache/zookeeper/server/preprequestprocessor.java, line 483 bq. > <https://reviews.apache.org/r/739/diff/4/?file=19430#file19430line483> bq. > bq. > i don't think we want to log this at all do we? agreed. i'll clean that up tonight. bq. on 2011-05-20 04:15:05, benjamin reed wrote: bq. > src/java/main/org/apache/zookeeper/server/preprequestprocessor.java, line 484 bq. > <https://reviews.apache.org/r/739/diff/4/?file=19430#file19430line484> bq. > bq. > don't use tabs. spaces! sorry... at my day job we use tabs (i know) and i forgot to switch my settings around -- i'm usually very careful about that ;-). bq. on 2011-05-20 04:15:05, benjamin reed wrote: bq. > src/java/main/org/apache/zookeeper/server/preprequestprocessor.java, line 489 bq. > <https://reviews.apache.org/r/739/diff/4/?file=19430#file19430line489> bq. > bq. > i think we are only half atomic here. if the multi txn fails half way through, it will not be applied to the database, but we will still have recorded it as pending, so we may fail later changes. bq. > bq. > for example, if there is a create for a znode that would otherwise succeed, but fails do to a later (in the multi txn) check failing. there will be a pending change record created, so even though the create failed, later creates to that znode will result in a node exists error. i thought not applying it to the database was sufficient, but perhaps i'm wrong. i thought the pending change records would get discarded if the multi op failed. do i need to do that explicitly somehow? what are your thoughts on how to deal with this? bq. on 2011-05-20 04:15:05, benjamin reed wrote: bq. > src/zookeeper.jute, line 267 bq. > <https://reviews.apache.org/r/739/diff/4/?file=19440#file19440line267> bq. > bq. > i don't think we should use txnheader since all we need is the type. agreed. i'll see about refactoring that. bq. on 2011-05-20 04:15:05, benjamin reed wrote: bq. > src/c/include/zookeeper.h, line 273 bq. > <https://reviews.apache.org/r/739/diff/4/?file=19416#file19416line273> bq. > bq. > shouldn't this be a union it originally was a union but i ran into some annoyances when trying to use the c api from c++ code as c++ won't let you use designated initializers unless you compile with a newer --std flag (which, when enabled, caused other zookeeper code not to compile from c++). e.g. you get warnings\n"
          ]
        },
        {
          "data": {
            "application/vnd.google.colaboratory.intrinsic+json": {
              "type": "string"
            },
            "text/plain": [
              "'\\nConclusión: Se usará el Excel como base (RAW) por ser el dataset más completo y adecuado para este análisis.\\nSe hace este ejercicio para ratificar la información con la que vamos a trabajar\\n'"
            ]
          },
          "execution_count": 220,
          "metadata": {},
          "output_type": "execute_result"
        }
      ],
      "source": [
        "# Mostrar primera diferencia significativa\n",
        "for i, (c1, c2) in enumerate(zip(df1['Comment'], df2['Comment'])):\n",
        "    if c1 != c2:\n",
        "        print(f\"Diferencia en fila {i}:\\n\" + '\\n'.join(unified_diff(c1.splitlines(), c2.splitlines())))\n",
        "        break\n",
        "'''\n",
        "Conclusión: Se usará el Excel como base (RAW) por ser el dataset más completo y adecuado para este análisis.\n",
        "Se hace este ejercicio para ratificar la información con la que vamos a trabajar\n",
        "'''"
      ]
    },
    {
      "cell_type": "code",
      "execution_count": 221,
      "id": "bf46deb2",
      "metadata": {
        "colab": {
          "base_uri": "https://localhost:8080/"
        },
        "id": "bf46deb2",
        "outputId": "be2d007c-a211-49d7-fb05-77d5b20930bc"
      },
      "outputs": [
        {
          "name": "stdout",
          "output_type": "stream",
          "text": [
            "Número de filas: 13644\n",
            "Número de columnas: 3\n",
            "Nombres de las columnas: ['Comment', 'Benchmark_results_of_politeness', 'Benchmark_results_of_sentiment']\n",
            "\n",
            "Información del dataset:\n",
            "<class 'pandas.core.frame.DataFrame'>\n",
            "RangeIndex: 13644 entries, 0 to 13643\n",
            "Data columns (total 3 columns):\n",
            " #   Column                           Non-Null Count  Dtype  \n",
            "---  ------                           --------------  -----  \n",
            " 0   Comment                          13610 non-null  object \n",
            " 1   Benchmark_results_of_politeness  13644 non-null  object \n",
            " 2   Benchmark_results_of_sentiment   13644 non-null  float64\n",
            "dtypes: float64(1), object(2)\n",
            "memory usage: 319.9+ KB\n",
            "None\n",
            "\n",
            "Valores nulos por columna:\n",
            "Comment                            34\n",
            "Benchmark_results_of_politeness     0\n",
            "Benchmark_results_of_sentiment      0\n",
            "dtype: int64\n",
            "\n",
            "¿Hay columnas duplicadas? False\n",
            "\n",
            "Número de filas duplicadas: 244\n"
          ]
        }
      ],
      "source": [
        "#--- ANALISIS INICIAL DE CONTENIDO DEL DATASET ---#\n",
        "print(f\"Número de filas: {df1.shape[0]}\")\n",
        "print(f\"Número de columnas: {df1.shape[1]}\")\n",
        "print(\"Nombres de las columnas:\", df1.columns.tolist())\n",
        "print(\"\\nInformación del dataset:\")\n",
        "print(df1.info())\n",
        "print(\"\\nValores nulos por columna:\")\n",
        "print(df1.isnull().sum())\n",
        "print(\"\\n¿Hay columnas duplicadas?\", df1.columns.duplicated().any())\n",
        "print(\"\\nNúmero de filas duplicadas:\", df1.duplicated().sum())"
      ]
    },
    {
      "cell_type": "code",
      "execution_count": 222,
      "id": "071a78f2",
      "metadata": {
        "colab": {
          "base_uri": "https://localhost:8080/"
        },
        "id": "071a78f2",
        "outputId": "1219b1e7-83b1-4686-9fd2-816c1ccd211a"
      },
      "outputs": [
        {
          "name": "stdout",
          "output_type": "stream",
          "text": [
            "\n",
            "Columnas categóricas: ['Comment', 'Benchmark_results_of_politeness']\n",
            "\n",
            "Columnas numéricas: ['Benchmark_results_of_sentiment']\n"
          ]
        }
      ],
      "source": [
        "# Identificación de tipos de columnas\n",
        "print(\"\\nColumnas categóricas:\", df1.select_dtypes(include=['object']).columns.tolist())\n",
        "print(\"\\nColumnas numéricas:\", df1.select_dtypes(include=['number']).columns.tolist())"
      ]
    },
    {
      "cell_type": "code",
      "execution_count": 223,
      "id": "1bd4a95e",
      "metadata": {
        "colab": {
          "base_uri": "https://localhost:8080/"
        },
        "id": "1bd4a95e",
        "outputId": "2f05a747-c74c-483e-ea3f-3d5435ee63e0"
      },
      "outputs": [
        {
          "name": "stdout",
          "output_type": "stream",
          "text": [
            "\n",
            "Valores únicos por columna:\n",
            "Comment: 13391 únicos\n",
            "Benchmark_results_of_politeness: 2 únicos\n",
            "Benchmark_results_of_sentiment: 2428 únicos\n",
            "\n",
            "Valores únicos en 'Benchmark_results_of_politeness':\n",
            "Benchmark_results_of_politeness\n",
            "POLITE      7598\n",
            "IMPOLITE    6046\n",
            "Name: count, dtype: int64\n",
            "\n",
            "Estadísticas descriptivas de 'Benchmark_results_of_sentiment':\n",
            "count    13644.000000\n",
            "mean         0.100767\n",
            "std          0.221702\n",
            "min         -1.000000\n",
            "25%          0.000000\n",
            "50%          0.037500\n",
            "75%          0.200000\n",
            "max          1.000000\n",
            "Name: Benchmark_results_of_sentiment, dtype: float64\n",
            "\n",
            "Distribución de valores en 'Benchmark_results_of_sentiment':\n",
            "(-0.2, 0.0]       5597\n",
            "(0.0, 0.2]        4008\n",
            "(0.2, 0.4]        2071\n",
            "(0.4, 0.6]         792\n",
            "(-0.4, -0.2]       484\n",
            "(0.6, 0.8]         353\n",
            "(-0.6, -0.4]       212\n",
            "(0.8, 1.0]          83\n",
            "(-0.8, -0.6]        36\n",
            "(-1.003, -0.8]       8\n",
            "Name: count, dtype: int64\n"
          ]
        }
      ],
      "source": [
        "# Análisis de valores únicos y distribución\n",
        "print(\"\\nValores únicos por columna:\")\n",
        "for col in df1.columns:\n",
        "    print(f\"{col}: {df1[col].nunique()} únicos\")\n",
        "print(\"\\nValores únicos en 'Benchmark_results_of_politeness':\")\n",
        "print(df1['Benchmark_results_of_politeness'].value_counts())\n",
        "print(\"\\nEstadísticas descriptivas de 'Benchmark_results_of_sentiment':\")\n",
        "print(df1['Benchmark_results_of_sentiment'].describe())\n",
        "print(\"\\nDistribución de valores en 'Benchmark_results_of_sentiment':\")\n",
        "print(df1['Benchmark_results_of_sentiment'].value_counts(bins=10))"
      ]
    },
    {
      "cell_type": "code",
      "execution_count": 224,
      "id": "f7ce5b31",
      "metadata": {
        "colab": {
          "base_uri": "https://localhost:8080/"
        },
        "id": "f7ce5b31",
        "outputId": "5bb54553-c799-4b33-b991-b31760d105dd"
      },
      "outputs": [
        {
          "name": "stdout",
          "output_type": "stream",
          "text": [
            "\n",
            "Filas con valores nulos en 'Comment':\n",
            "      Comment Benchmark_results_of_politeness  Benchmark_results_of_sentiment\n",
            "244       NaN                        IMPOLITE                             0.0\n",
            "245       NaN                        IMPOLITE                            -0.2\n",
            "692       NaN                        IMPOLITE                             0.0\n",
            "694       NaN                        IMPOLITE                             0.0\n",
            "718       NaN                          POLITE                             0.7\n",
            "1178      NaN                        IMPOLITE                             0.0\n",
            "1188      NaN                        IMPOLITE                             0.0\n",
            "11044     NaN                        IMPOLITE                             0.0\n",
            "11097     NaN                        IMPOLITE                             0.0\n",
            "11192     NaN                        IMPOLITE                             0.0\n",
            "11522     NaN                        IMPOLITE                             0.0\n",
            "11547     NaN                          POLITE                             0.7\n",
            "11561     NaN                        IMPOLITE                             0.0\n",
            "11709     NaN                        IMPOLITE                             0.0\n",
            "11826     NaN                        IMPOLITE                             0.0\n",
            "11922     NaN                        IMPOLITE                             0.0\n",
            "11926     NaN                        IMPOLITE                             0.0\n",
            "12197     NaN                        IMPOLITE                             0.0\n",
            "12355     NaN                        IMPOLITE                            -0.2\n",
            "12412     NaN                        IMPOLITE                             0.0\n",
            "12414     NaN                        IMPOLITE                             0.0\n",
            "12573     NaN                        IMPOLITE                             0.0\n",
            "12734     NaN                        IMPOLITE                             0.0\n",
            "12738     NaN                        IMPOLITE                             0.0\n",
            "12801     NaN                        IMPOLITE                             0.0\n",
            "12802     NaN                        IMPOLITE                             0.0\n",
            "12877     NaN                        IMPOLITE                             0.0\n",
            "12897     NaN                        IMPOLITE                             0.0\n",
            "12972     NaN                        IMPOLITE                             0.0\n",
            "13033     NaN                        IMPOLITE                             0.0\n",
            "13212     NaN                        IMPOLITE                             0.0\n",
            "13218     NaN                        IMPOLITE                             0.0\n",
            "13261     NaN                        IMPOLITE                             0.0\n",
            "13280     NaN                        IMPOLITE                             0.0\n"
          ]
        }
      ],
      "source": [
        "# Análisis de NaN\n",
        "print(\"\\nFilas con valores nulos en 'Comment':\")\n",
        "print(df1[df1['Comment'].isnull()])"
      ]
    },
    {
      "cell_type": "code",
      "execution_count": 225,
      "id": "261c3e17",
      "metadata": {
        "colab": {
          "base_uri": "https://localhost:8080/"
        },
        "id": "261c3e17",
        "outputId": "69bcb896-b5b6-4b2d-edba-f12c27b27d31"
      },
      "outputs": [
        {
          "name": "stdout",
          "output_type": "stream",
          "text": [
            "\n",
            "Duplicados encontrados: 430\n",
            "\n",
            "Ejemplo de filas duplicadas:\n",
            "                                                                                                                                                                                                                                                                                                                                                                                                                                                                                                                                                                                                                                                                                                                                                                                                                                                                                                                                                                                                                                                                                                                                                                                                                                                                                                                                                                                                                                                                                                                                                                                                                                                                                                                                                                                                                                                                                                                                                                                                                                                                                                                                                                                                                                                                                                                                                                                                                                                                                                                                                                                                                                                                                                                                                                                                                                                                                                                                                                                                                                                                                                                                                                                                                                                                                                                                                                                                                                                                                                                                                                                                                                                                                                                                                                                                                                                                                                                                                                                                                                               Comment  \\\n",
            "0                                                           bq. on 2011-05-20 04:15:05, benjamin reed wrote:bq. > src/c/include/zookeeper.h, line 1119bq. > <https://reviews.apache.org/r/739/diff/4/?file=19416#file19416line1119>bq. >bq. > it isn't clear to me that we should expose check outside of a multitransaction.that's a valid point. i did it for completeness, but there's really no need to have a check op outside a multi op. it would clean up the code as well if i removed it. i'll try to get that done tonight as well.bq. on 2011-05-20 04:15:05, benjamin reed wrote:bq. > src/java/main/org/apache/zookeeper/transaction.java, line 57bq. > <https://reviews.apache.org/r/739/diff/4/?file=19425#file19425line57>bq. >bq. > should we also have an asynchronous version?agreed. ted's created a new jira case for this.bq. on 2011-05-20 04:15:05, benjamin reed wrote:bq. > src/java/main/org/apache/zookeeper/zookeeper.java, line 801bq. > <https://reviews.apache.org/r/739/diff/4/?file=19427#file19427line801>bq. >bq. > i think we also need an asynchronous version.agreed. ted's created a new jira case for this.bq. on 2011-05-20 04:15:05, benjamin reed wrote:bq. > src/java/main/org/apache/zookeeper/server/datatree.java, line 817bq. > <https://reviews.apache.org/r/739/diff/4/?file=19428#file19428line817>bq. >bq. > if stat didn't return anything, we could skip this altogether. if we are going to return something, should we return more than the version?i'm not sure i understand... can you elaborate ?bq. on 2011-05-20 04:15:05, benjamin reed wrote:bq. > src/java/main/org/apache/zookeeper/server/preprequestprocessor.java, line 483bq. > <https://reviews.apache.org/r/739/diff/4/?file=19430#file19430line483>bq. >bq. > i don't think we want to log this at all do we?agreed. i'll clean that up tonight.bq. on 2011-05-20 04:15:05, benjamin reed wrote:bq. > src/java/main/org/apache/zookeeper/server/preprequestprocessor.java, line 484bq. > <https://reviews.apache.org/r/739/diff/4/?file=19430#file19430line484>bq. >bq. > don't use tabs. spaces!sorry... at my day job we use tabs (i know) and i forgot to switch my settings around -- i'm usually very careful about that ;-).bq. on 2011-05-20 04:15:05, benjamin reed wrote:bq. > src/java/main/org/apache/zookeeper/server/preprequestprocessor.java, line 489bq. > <https://reviews.apache.org/r/739/diff/4/?file=19430#file19430line489>bq. >bq. > i think we are only half atomic here. if the multi txn fails half way through, it will not be applied to the database, but we will still have recorded it as pending, so we may fail later changes.bq. > bq. > for example, if there is a create for a znode that would otherwise succeed, but fails do to a later (in the multi txn) check failing. there will be a pending change record created, so even though the create failed, later creates to that znode will result in a node exists error.i thought not applying it to the database was sufficient, but perhaps i'm wrong. i thought the pending change records would get discarded if the multi op failed. do i need to do that explicitly somehow? what are your thoughts on how to deal with this? bq. on 2011-05-20 04:15:05, benjamin reed wrote:bq. > src/zookeeper.jute, line 267bq. > <https://reviews.apache.org/r/739/diff/4/?file=19440#file19440line267>bq. >bq. > i don't think we should use txnheader since all we need is the type.agreed. i'll see about refactoring that.bq. on 2011-05-20 04:15:05, benjamin reed wrote:bq. > src/c/include/zookeeper.h, line 273bq. > <https://reviews.apache.org/r/739/diff/4/?file=19416#file19416line273>bq. >bq. > shouldn't this be a unionit originally was a union but i ran into some annoyances when trying to use the c api from c++ code as c++ won't let you use designated initializers unless you compile with a newer --std flag (which, when enabled, caused other zookeeper code not to compile from c++). e.g. you get warnings   \n",
            "4                                                                                                      bq. on 2011-07-07 23:40:32, patrick hunt wrote:bq. > the documentation (src/docs) need to be updated - specifically the cleanup section in the admin guide.bq. > bq. > have you considered hooking this into jmx or the 4letterwords? it would be nice for operators to get basic information. in jmx they could also control the settings... consider for a follow-on jira?fixed the documentation part.@pat: i guess i'm not clear about how \"hooking into jmx or 4 letter-words\" will be helpful. can you please explain this idea? i can takeup this task in separate jira.bq. on 2011-07-07 23:40:32, patrick hunt wrote:bq. > ./conf/zoo_sample.cfg, lines 15-21bq. > <https://reviews.apache.org/r/1043/diff/1/?file=22148#file22148line15>bq. >bq. > my personal belief is that this should be turned off by default - i.e. comment out the parameters in the sample config.fixed. also, renamed the configuration keys to make them inline with existing.bq. on 2011-07-07 23:40:32, patrick hunt wrote:bq. > ./src/java/test/org/apache/zookeeper/zookeeperpurgetest.java, line 37bq. > <https://reviews.apache.org/r/1043/diff/1/?file=22151#file22151line37>bq. >bq. > nice!corrected code format issues.bq. on 2011-07-07 23:40:32, patrick hunt wrote:bq. > ./src/java/main/org/apache/zookeeper/server/quorum/quorumpeerconfig.java, lines 384-385bq. > <https://reviews.apache.org/r/1043/diff/1/?file=22150#file22150line384>bq. >bq. > what does \"time\" refer to. elapsed time? what are the units.fixed.bq. on 2011-07-07 23:40:32, patrick hunt wrote:bq. > ./src/java/main/org/apache/zookeeper/server/quorum/quorumpeerconfig.java, lines 374-375bq. > <https://reviews.apache.org/r/1043/diff/1/?file=22150#file22150line374>bq. >bq. > the docs should reflect that this only controls the number of snaps to keep, the logs are purged based on the corresponding purged snaps.fixed. comments are moved to applicable class datadircleanupmanager and also documented in admin guide as suggested.bq. on 2011-07-07 23:40:32, patrick hunt wrote:bq. > ./src/java/main/org/apache/zookeeper/server/quorum/quorumpeerconfig.java, line 73bq. > <https://reviews.apache.org/r/1043/diff/1/?file=22150#file22150line73>bq. >bq. > specify explicit default - e.g. 0.fixed.bq. on 2011-07-07 23:40:32, patrick hunt wrote:bq. > ./src/java/main/org/apache/zookeeper/server/quorum/quorumpeerconfig.java, line 72bq. > <https://reviews.apache.org/r/1043/diff/1/?file=22150#file22150line72>bq. >bq. > specify explicit default, 3?fixed.bq. on 2011-07-07 23:40:32, patrick hunt wrote:bq. > ./src/java/main/org/apache/zookeeper/zookeeperpurger.java, line 142bq. > <https://reviews.apache.org/r/1043/diff/1/?file=22149#file22149line142>bq. >bq. > zookeeper should be referred to as \"zookeeper\"fixed. redundant information in logs has been removed.bq. on 2011-07-07 23:40:32, patrick hunt wrote:bq. > ./src/java/main/org/apache/zookeeper/zookeeperpurger.java, line 118bq. > <https://reviews.apache.org/r/1043/diff/1/?file=22149#file22149line118>bq. >bq. > i would rather we check if the state is started. (log warning if not)fixed.bq. on 2011-07-07 23:40:32, patrick hunt wrote:bq. > ./src/java/main/org/apache/zookeeper/zookeeperpurger.java, line 104bq. > <https://reviews.apache.org/r/1043/diff/1/?file=22149#file22149line104>bq. >bq. > given we are tracking the state shouldn't we be testing that here?fixed.bq. on 2011-07-07 23:40:32, patrick hunt wrote:bq. > ./src/java/main/org/apache/zookeeper/zookeeperpurger.java, line 103bq. > <https://reviews.apache.org/r/1043/diff/1/?file=22149#file22149line103>bq. >bq. > i see tests, which is great, however where is this method being called in zookeeper server code proper? (what i mean is the server doesn't seem to be running this)called in quorumpeermain. changes included in the latest patch. bq. on 2011-07-07 23:   \n",
            "7                                                                           bq. on 2011-07-19 22:46:10, patrick hunt wrote:bq. > ./bin/zkenv.sh, lines 31-35bq. > <https://reviews.apache.org/r/1143/diff/1/?file=26344#file26344line31>bq. >bq. > this was recently changed by zookeeper-1084 to either use the variable if passed, or use ../conf (but not ../etc)hadoop stack software used the same pattern *_home/conf for configuration directory. this naming convention doesn't work when *_home/conf is collapsed into a single directory, (i.e. /usr) a proposal maded in hadoop-6255 to address this issue. for packaged software, $prefix/etc/$project will be the naming convention for configuration directory. for developer, it will use $prefix/conf for source code build. this patch already merged change for zookeeper-1084, it will honor $zoocfgdir if it is defined.bq. on 2011-07-19 22:46:10, patrick hunt wrote:bq. > ./build.xml, line 155bq. > <https://reviews.apache.org/r/1143/diff/1/?file=26346#file26346line155>bq. >bq. > in my case aclocal does not reside in /usr/local... (ubuntu natty) but rather /usr/sharebq. > bq. > can we determine this in some other way?i am fine to use /usr/share as default. it is also possible to overwrite this in build.properties. conditional checking to set property is not pretty in ant, it may be better to leave this as a property for now.bq. on 2011-07-19 22:46:10, patrick hunt wrote:bq. > ./build.xml, line 627bq. > <https://reviews.apache.org/r/1143/diff/1/?file=26346#file26346line627>bq. >bq. > i think this is going to cause problems for our normal release - we don't compile the c bindings as part of this process. this should be separated out.bq. > bq. > i think what we'd really need is to have separate targets for building the source artifact, and any additional \"binary convenience\" artifacts. avro does this very successfully.bq. > bq. > how about separating out the building of packages entirely from building/testing the java code? say by having a separate build-packages.xml (ant build file) instead?we can skip compile-native. there is a package-native target for rpm. i will make the change.bq. on 2011-07-19 22:46:10, patrick hunt wrote:bq. > ./ivy.xml, line 52bq. > <https://reviews.apache.org/r/1143/diff/1/?file=26347#file26347line52>bq. >bq. > jdeb is listed as a default dependency, shouldn't this only be used for building, not default? (similar to say rat)i will change from \"default\" to \"package\" to be sure jdeb is not included in release tarball.bq. on 2011-07-19 22:46:10, patrick hunt wrote:bq. > ./src/contrib/zkpython/ivy.xml, line 1bq. > <https://reviews.apache.org/r/1143/diff/1/?file=26351#file26351line1>bq. >bq. > sorry, why do we need this in zkpython?only jdeb is required for packaging. i will trim down the ivy.xml.bq. on 2011-07-19 22:46:10, patrick hunt wrote:bq. > ./src/packages/update-zookeeper-env.sh, line 131bq. > <https://reviews.apache.org/r/1143/diff/1/?file=26365#file26365line131>bq. >bq. > the group used is hadoop? (seems fine, just wondering...)i set the full stack of the software to be ownership by group hadoop for easier file ownership management.bq. on 2011-07-19 22:46:10, patrick hunt wrote:bq. > ./src/packages/templates/conf/zoo.cfg, lines 1-12bq. > <https://reviews.apache.org/r/1143/diff/1/?file=26364#file26364line1>bq. >bq. > is there a way to not duplicate this? (a sample is also in conf)how about generate conf/zoo_sample.cfg from src/packages/templates/conf/zoo.cfg as part of the build process?- eric-----------------------------------------------------------this is an automatically generated e-mail. to reply, visit:https://reviews.apache.org/r/1143/#review1120-----------------------------------------------------------on 2011-07-19 22:15:38, patrick hunt wrote:bq. bq. -----------------------------------------------------------bq. this is an automatically generated e-mail. to r   \n",
            "8  bq. on 2011-07-19 22:46:10, patrick hunt wrote:bq. > 1) src/recipes/election has been added recently to trunk, are changes needed there as well? (see my comments below - seems like if we separated out pkg building from regular build it would make this more explicit/obvious)bq. > bq. > 2) i've been wondering for a while, perhaps we should have different scripts for zkserver.sh depending upon whether running in \"development mode\" and running in \"package mode\". there's alot of cruft in there having to do with determining which mode we are in and then setting up appropriately (zkcli, zkserver, zkcleanup, etc...).what do you think of this idea (2 in particular?) i guess hadoop is fine with this mixed use? perhaps we can take some ideas from there an apply?bq. on 2011-07-19 22:46:10, patrick hunt wrote:bq. > ./bin/zkenv.sh, lines 31-35bq. > <https://reviews.apache.org/r/1143/diff/1/?file=26344#file26344line31>bq. >bq. > this was recently changed by zookeeper-1084 to either use the variable if passed, or use ../conf (but not ../etc)bq. bq. eric yang wrote:bq. hadoop stack software used the same pattern *_home/conf for configuration directory. this naming convention doesn't work when *_home/conf is collapsed into a single directory, (i.e. /usr) a proposal maded in hadoop-6255 to address this issue. for packaged software, $prefix/etc/$project will be the naming convention for configuration directory. for developer, it will use $prefix/conf for source code build. this patch already merged change for zookeeper-1084, it will honor $zoocfgdir if it is defined.we should look at moving to best practices, esp if hadoop already figured this out. would you mind starting a zk wiki page detailing both the bin/* scripts and how it fits into packaging? or perhaps we can document it within the scripts themselves? i'd like to see us start deprecating (and eventually removing) the old ways of doing things an moving people to whatever our current best practices are.bq. on 2011-07-19 22:46:10, patrick hunt wrote:bq. > ./build.xml, line 155bq. > <https://reviews.apache.org/r/1143/diff/1/?file=26346#file26346line155>bq. >bq. > in my case aclocal does not reside in /usr/local... (ubuntu natty) but rather /usr/sharebq. > bq. > can we determine this in some other way?bq. bq. eric yang wrote:bq. i am fine to use /usr/share as default. it is also possible to overwrite this in build.properties. conditional checking to set property is not pretty in ant, it may be better to leave this as a property for now.i'm fine either way - as long as it doesn't impact the ability for people to easily checkout the code and build. i wasn't sure how this would effect that.bq. on 2011-07-19 22:46:10, patrick hunt wrote:bq. > ./src/packages/update-zookeeper-env.sh, line 131bq. > <https://reviews.apache.org/r/1143/diff/1/?file=26365#file26365line131>bq. >bq. > the group used is hadoop? (seems fine, just wondering...)bq. bq. eric yang wrote:bq. i set the full stack of the software to be ownership by group hadoop for easier file ownership management.seems fine. are you planning to participate in bigtop? would love to have you involved. it would be great to nail all this type of thing down so that it will be consistent. (or make it easy to configure if there's no consensus, ie figure out what ppl agree on and what not).bq. on 2011-07-19 22:46:10, patrick hunt wrote:bq. > ./src/packages/templates/conf/zoo.cfg, lines 1-12bq. > <https://reviews.apache.org/r/1143/diff/1/?file=26364#file26364line1>bq. >bq. > is there a way to not duplicate this? (a sample is also in conf)bq. bq. eric yang wrote:bq. how about generate conf/zoo_sample.cfg from src/packages/templates/conf/zoo.cfg as part of the build process?my concerns are: 1) make it easy for ppl to get started with development, 2) try to limit duplication, esp stuff we're likely to forget to update, 3) generated code should go into   \n",
            "9                                                                                                             bq. on 2011-07-19 22:46:10, patrick hunt wrote:bq. > 1) src/recipes/election has been added recently to trunk, are changes needed there as well? (see my comments below - seems like if we separated out pkg building from regular build it would make this more explicit/obvious)bq. > bq. > 2) i've been wondering for a while, perhaps we should have different scripts for zkserver.sh depending upon whether running in \"development mode\" and running in \"package mode\". there's alot of cruft in there having to do with determining which mode we are in and then setting up appropriately (zkcli, zkserver, zkcleanup, etc...).bq. bq. patrick hunt wrote:bq. what do you think of this idea (2 in particular?) i guess hadoop is fine with this mixed use? perhaps we can take some ideas from there an apply?1) is there a plan to grow more recipes? if yes, i would recommend to use maven for build script because it allows submodule to call parent build profiles. we can have a centralized template for creating recipes rpm/deb packages. ant recursive structure is difficult to maintain because the subdirectory build.xml file needs to refer to parent build.xml to include packaging templates, which generates too much repetitive tasks. let's put recipes packaging as a separate task for future enhancement.2) code reuse would be ideal. i am not sure if we want to have different scripts, perhaps consolidated functions would be sufficient to make organization cleaner.- eric-----------------------------------------------------------this is an automatically generated e-mail. to reply, visit:https://reviews.apache.org/r/1143/#review1120-----------------------------------------------------------on 2011-07-19 22:15:38, patrick hunt wrote:bq. bq. -----------------------------------------------------------bq. this is an automatically generated e-mail. to reply, visit:bq. https://reviews.apache.org/r/1143/bq. -----------------------------------------------------------bq. bq. (updated 2011-07-19 22:15:38)bq. bq. bq. review request for zookeeper and mahadev konar.bq. bq. bq. summarybq. -------bq. bq. this goal of this ticket is to generate a set of rpm/debian package which integrate well with rpm sets created by hadoop-6255.bq. bq. bq. this addresses bug zookeeper-999.bq. https://issues.apache.org/jira/browse/zookeeper-999bq. bq. bq. diffsbq. -----bq. bq. ./bin/zkcleanup.sh 1141173 bq. ./bin/zkcli.sh 1141173 bq. ./bin/zkenv.sh 1141173 bq. ./bin/zkserver.sh 1141173 bq. ./build.xml 1141176 bq. ./ivy.xml 1141173 bq. ./src/contrib/build-contrib.xml 1141173 bq. ./src/contrib/build.xml 1141173 bq. ./src/contrib/zkpython/build.xml 1141173 bq. ./src/contrib/zkpython/ivy.xml pre-creation bq. ./src/contrib/zkpython/src/packages/deb/zkpython.control/control pre-creation bq. ./src/contrib/zkpython/src/packages/rpm/spec/zkpython.spec pre-creation bq. ./src/contrib/zkpython/src/python/setup.py 1141173 bq. ./src/packages/deb/init.d/zookeeper pre-creation bq. ./src/packages/deb/zookeeper.control/conffile pre-creation bq. ./src/packages/deb/zookeeper.control/control pre-creation bq. ./src/packages/deb/zookeeper.control/postinst pre-creation bq. ./src/packages/deb/zookeeper.control/postrm pre-creation bq. ./src/packages/deb/zookeeper.control/preinst pre-creation bq. ./src/packages/deb/zookeeper.control/prerm pre-creation bq. ./src/packages/rpm/init.d/zookeeper pre-creation bq. ./src/packages/rpm/spec/zookeeper.spec pre-creation bq. ./src/packages/templates/conf/zoo.cfg pre-creation bq. ./src/packages/update-zookeeper-env.sh pre-creation bq. ./src/recipes/build-recipes.xml 1141173 bq. ./src/recipes/build.xml 1141173 bq. ./src/recipes/lock/build.xml 1141173 bq. ./src/recipes/queue/build.xml 1141173 bq. bq. diff: https://reviews.apache.org/r/1143/diffbq. bq. bq. testingbq. -------bq.   \n",
            "\n",
            "  Benchmark_results_of_politeness  Benchmark_results_of_sentiment  \n",
            "0                          POLITE                         -0.0216  \n",
            "4                          POLITE                          0.1114  \n",
            "7                          POLITE                          0.1301  \n",
            "8                          POLITE                          0.2354  \n",
            "9                          POLITE                          0.1365  \n"
          ]
        }
      ],
      "source": [
        "# --- Análisis de duplicados ---\n",
        "duplicados = df1[df1.duplicated(subset=['Comment'], keep=False)]\n",
        "print(f\"\\nDuplicados encontrados: {len(duplicados)}\")\n",
        "print(\"\\nEjemplo de filas duplicadas:\")\n",
        "print(duplicados.head())"
      ]
    },
    {
      "cell_type": "code",
      "execution_count": 226,
      "id": "e318898e",
      "metadata": {
        "id": "e318898e"
      },
      "outputs": [],
      "source": [
        "# Identificar diferencias significativas entre duplicados\n",
        "diferencias_duplicados = duplicados.groupby('Comment').agg({\n",
        "    'Benchmark_results_of_politeness': pd.Series.nunique,\n",
        "    'Benchmark_results_of_sentiment': pd.Series.nunique\n",
        "}).reset_index()"
      ]
    },
    {
      "cell_type": "code",
      "execution_count": 227,
      "id": "7a59e4a6",
      "metadata": {
        "colab": {
          "base_uri": "https://localhost:8080/"
        },
        "id": "7a59e4a6",
        "outputId": "95de2da4-f17a-4a03-80e0-b43ed2acfb32"
      },
      "outputs": [
        {
          "name": "stdout",
          "output_type": "stream",
          "text": [
            "\n",
            "Número de comentarios duplicados con diferencias significativas: 6\n",
            "                                   Comment  Benchmark_results_of_politeness  \\\n",
            "88   i just committed this. thanks flavio.                                2   \n",
            "89    i just committed this. thanks jakob.                                2   \n",
            "90    i just committed this. thanks nitay.                                2   \n",
            "133                        thanks mahadev!                                2   \n",
            "134                          thanks michi!                                2   \n",
            "135                         thanks thomas!                                2   \n",
            "\n",
            "     Benchmark_results_of_sentiment  \n",
            "88                                1  \n",
            "89                                1  \n",
            "90                                1  \n",
            "133                               1  \n",
            "134                               1  \n",
            "135                               1  \n"
          ]
        }
      ],
      "source": [
        "diferencias_significativas = diferencias_duplicados[\n",
        "    (diferencias_duplicados['Benchmark_results_of_politeness'] > 1) |\n",
        "    (diferencias_duplicados['Benchmark_results_of_sentiment'] > 1)\n",
        "]\n",
        "print(f\"\\nNúmero de comentarios duplicados con diferencias significativas: {len(diferencias_significativas)}\")\n",
        "print(diferencias_significativas)"
      ]
    },
    {
      "cell_type": "code",
      "execution_count": 228,
      "id": "323408d2",
      "metadata": {
        "colab": {
          "base_uri": "https://localhost:8080/"
        },
        "id": "323408d2",
        "outputId": "6ff391e4-e544-4d0c-e83b-7d5cb0c713ef"
      },
      "outputs": [
        {
          "name": "stdout",
          "output_type": "stream",
          "text": [
            "\n",
            "Ejemplo de diferencias significativas:\n",
            "                                    Comment Benchmark_results_of_politeness  \\\n",
            "5793  i just committed this. thanks flavio.                          POLITE   \n",
            "5794  i just committed this. thanks flavio.                          POLITE   \n",
            "5795  i just committed this. thanks flavio.                          POLITE   \n",
            "5796  i just committed this. thanks flavio.                          POLITE   \n",
            "5798  i just committed this. thanks flavio.                        IMPOLITE   \n",
            "\n",
            "      Benchmark_results_of_sentiment  \n",
            "5793                             0.2  \n",
            "5794                             0.2  \n",
            "5795                             0.2  \n",
            "5796                             0.2  \n",
            "5798                             0.2  \n"
          ]
        }
      ],
      "source": [
        "# Ejemplo de diferencias significativas\n",
        "if not diferencias_significativas.empty:\n",
        "    ejemplo = duplicados[duplicados['Comment'] == diferencias_significativas.iloc[0]['Comment']]\n",
        "    print(\"\\nEjemplo de diferencias significativas:\")\n",
        "    print(ejemplo)"
      ]
    },
    {
      "cell_type": "code",
      "execution_count": 229,
      "id": "c41b980e",
      "metadata": {
        "colab": {
          "base_uri": "https://localhost:8080/"
        },
        "id": "c41b980e",
        "outputId": "5fac4119-df14-4486-b1eb-a56bb1f558b2"
      },
      "outputs": [
        {
          "name": "stdout",
          "output_type": "stream",
          "text": [
            "\n",
            "Duplicados con inconsistencias o NaN:\n",
            "                                     Comment Benchmark_results_of_politeness  \\\n",
            "5793   i just committed this. thanks flavio.                          POLITE   \n",
            "5794   i just committed this. thanks flavio.                          POLITE   \n",
            "5795   i just committed this. thanks flavio.                          POLITE   \n",
            "5796   i just committed this. thanks flavio.                          POLITE   \n",
            "5798   i just committed this. thanks flavio.                        IMPOLITE   \n",
            "5811    i just committed this. thanks jakob.                          POLITE   \n",
            "5812    i just committed this. thanks jakob.                        IMPOLITE   \n",
            "5820    i just committed this. thanks nitay.                          POLITE   \n",
            "5821    i just committed this. thanks nitay.                        IMPOLITE   \n",
            "10369                        thanks mahadev!                        IMPOLITE   \n",
            "10370                        thanks mahadev!                          POLITE   \n",
            "10382                          thanks michi!                          POLITE   \n",
            "10383                          thanks michi!                        IMPOLITE   \n",
            "10433                         thanks thomas!                          POLITE   \n",
            "10434                         thanks thomas!                        IMPOLITE   \n",
            "\n",
            "       Benchmark_results_of_sentiment  \n",
            "5793                             0.20  \n",
            "5794                             0.20  \n",
            "5795                             0.20  \n",
            "5796                             0.20  \n",
            "5798                             0.20  \n",
            "5811                             0.20  \n",
            "5812                             0.20  \n",
            "5820                             0.20  \n",
            "5821                             0.20  \n",
            "10369                            0.25  \n",
            "10370                            0.25  \n",
            "10382                            0.25  \n",
            "10383                            0.25  \n",
            "10433                            0.25  \n",
            "10434                            0.25  \n"
          ]
        }
      ],
      "source": [
        "# Filtrar duplicados con inconsistencias o NaN\n",
        "duplicados_con_inconsistencias_y_nan = duplicados.groupby('Comment').filter(\n",
        "    lambda x: (\n",
        "        len(x['Benchmark_results_of_politeness'].unique()) > 1 or\n",
        "        len(x['Benchmark_results_of_sentiment'].unique()) > 1 or\n",
        "        x['Comment'].isnull().any()\n",
        "    )\n",
        ")\n",
        "print(\"\\nDuplicados con inconsistencias o NaN:\")\n",
        "print(duplicados_con_inconsistencias_y_nan)"
      ]
    },
    {
      "cell_type": "code",
      "execution_count": 230,
      "id": "81ceed04",
      "metadata": {
        "colab": {
          "base_uri": "https://localhost:8080/"
        },
        "id": "81ceed04",
        "outputId": "d6f956a0-eb6b-4275-ccd7-665331615759"
      },
      "outputs": [
        {
          "name": "stdout",
          "output_type": "stream",
          "text": [
            "\n",
            "Número de comentarios afectados por ambigüedad o NaN: 6\n"
          ]
        }
      ],
      "source": [
        "# Número de comentarios afectados\n",
        "num_comentarios_afectados = duplicados_con_inconsistencias_y_nan['Comment'].nunique()\n",
        "print(f\"\\nNúmero de comentarios afectados por ambigüedad o NaN: {num_comentarios_afectados}\")"
      ]
    },
    {
      "cell_type": "markdown",
      "id": "1fb60e7f",
      "metadata": {
        "id": "1fb60e7f"
      },
      "source": [
        "--- Procedemos a eliminar las columnas que no aportan valor"
      ]
    },
    {
      "cell_type": "code",
      "execution_count": 231,
      "id": "57fe4f53",
      "metadata": {
        "id": "57fe4f53"
      },
      "outputs": [],
      "source": [
        "# Eliminar filas con valores NaN en la columna 'Comment'\n",
        "df1 = df1.dropna(subset=['Comment'])"
      ]
    },
    {
      "cell_type": "code",
      "execution_count": 232,
      "id": "d7316dd1",
      "metadata": {
        "id": "d7316dd1"
      },
      "outputs": [],
      "source": [
        "# Eliminar filas duplicadas (incluyendo aquellas con inconsistencias detectadas)\n",
        "df = df1.drop_duplicates()"
      ]
    },
    {
      "cell_type": "code",
      "execution_count": 233,
      "id": "a9616d44",
      "metadata": {
        "colab": {
          "base_uri": "https://localhost:8080/",
          "height": 88
        },
        "id": "a9616d44",
        "outputId": "a96e6f53-c239-4464-f74a-44e5ec668d3a"
      },
      "outputs": [
        {
          "name": "stdout",
          "output_type": "stream",
          "text": [
            "Número de filas después de limpiar: 13397\n",
            "Número esperado de filas eliminadas: 247\n"
          ]
        },
        {
          "data": {
            "application/vnd.google.colaboratory.intrinsic+json": {
              "type": "string"
            },
            "text/plain": [
              "'\\nTras analisis se procede al borrado (decisión comentada en el documento Análisis.md)\\nde aquellas filas que no nos aportan, un total del 2% del total del dataSet\\n'"
            ]
          },
          "execution_count": 233,
          "metadata": {},
          "output_type": "execute_result"
        }
      ],
      "source": [
        "# Mostrar el nuevo tamaño del dataset\n",
        "print(f\"Número de filas después de limpiar: {df.shape[0]}\")\n",
        "print(f\"Número esperado de filas eliminadas: {13644 - df.shape[0]}\")\n",
        "'''\n",
        "Tras analisis se procede al borrado (decisión comentada en el documento Análisis.md)\n",
        "de aquellas filas que no nos aportan, un total del 2% del total del dataSet\n",
        "'''"
      ]
    },
    {
      "cell_type": "code",
      "execution_count": 234,
      "id": "13ec15e5",
      "metadata": {
        "colab": {
          "base_uri": "https://localhost:8080/"
        },
        "id": "13ec15e5",
        "outputId": "f63c4e5c-e871-4981-b2b2-8db5c0bd533f"
      },
      "outputs": [
        {
          "name": "stdout",
          "output_type": "stream",
          "text": [
            "Número de filas finales en el dataset limpio: 13397\n"
          ]
        }
      ],
      "source": [
        "# Mostrar el tamaño del dataset limpio\n",
        "print(f\"Número de filas finales en el dataset limpio: {df.shape[0]}\")"
      ]
    },
    {
      "cell_type": "markdown",
      "id": "6671af3a",
      "metadata": {
        "id": "6671af3a"
      },
      "source": [
        "---TRATAMIENTO DE LA COLUMNA CATEGÓRICA"
      ]
    },
    {
      "cell_type": "code",
      "execution_count": 235,
      "id": "47f438ef",
      "metadata": {
        "id": "47f438ef",
        "lines_to_next_cell": 1
      },
      "outputs": [],
      "source": [
        "# Crear una nueva columna con categorías basadas en los rangos de 'Benchmark_results_of_sentiment'\n",
        "def categorizar_sentimiento(valor):\n",
        "    if -1 <= valor <= -0.6:\n",
        "        return 'Muy negativo'\n",
        "    elif -0.6 < valor <= -0.2:\n",
        "        return 'Negativo'\n",
        "    elif -0.2 < valor <= 0.2:\n",
        "        return 'Neutral'\n",
        "    elif 0.2 < valor <= 0.6:\n",
        "        return 'Positivo'\n",
        "    elif 0.6 < valor <= 1:\n",
        "        return 'Muy positivo'"
      ]
    },
    {
      "cell_type": "code",
      "execution_count": 236,
      "id": "b967e66b",
      "metadata": {
        "colab": {
          "base_uri": "https://localhost:8080/"
        },
        "id": "b967e66b",
        "outputId": "d4881e5a-183b-476e-f8f3-485b896d4984"
      },
      "outputs": [
        {
          "name": "stderr",
          "output_type": "stream",
          "text": [
            "<ipython-input-236-1e92d96d076b>:2: SettingWithCopyWarning: \n",
            "A value is trying to be set on a copy of a slice from a DataFrame.\n",
            "Try using .loc[row_indexer,col_indexer] = value instead\n",
            "\n",
            "See the caveats in the documentation: https://pandas.pydata.org/pandas-docs/stable/user_guide/indexing.html#returning-a-view-versus-a-copy\n",
            "  df['Sentiment_category'] = df['Benchmark_results_of_sentiment'].apply(categorizar_sentimiento)\n"
          ]
        }
      ],
      "source": [
        "# Aplicar la función para crear la nueva columna\n",
        "df['Sentiment_category'] = df['Benchmark_results_of_sentiment'].apply(categorizar_sentimiento)"
      ]
    },
    {
      "cell_type": "code",
      "execution_count": 237,
      "id": "496b852f",
      "metadata": {
        "colab": {
          "base_uri": "https://localhost:8080/"
        },
        "id": "496b852f",
        "outputId": "1840a337-b3af-4a47-a452-f6dd6b59a431"
      },
      "outputs": [
        {
          "name": "stdout",
          "output_type": "stream",
          "text": [
            "Sentiment_category\n",
            "Neutral         9410\n",
            "Positivo        2838\n",
            "Negativo         678\n",
            "Muy positivo     427\n",
            "Muy negativo      44\n",
            "Name: count, dtype: int64\n"
          ]
        }
      ],
      "source": [
        "# Mostrar un resumen rápido\n",
        "print(df['Sentiment_category'].value_counts())"
      ]
    },
    {
      "cell_type": "code",
      "execution_count": 238,
      "id": "18a08ceb",
      "metadata": {
        "colab": {
          "base_uri": "https://localhost:8080/",
          "height": 36
        },
        "id": "18a08ceb",
        "outputId": "9a0b7ddb-acc8-4250-8e40-4231bc3b374b"
      },
      "outputs": [
        {
          "data": {
            "application/vnd.google.colaboratory.intrinsic+json": {
              "type": "string"
            },
            "text/plain": [
              "'Información correcta y esperada, existe una nueva columna basada en la clasificacion del preprocesamiento'"
            ]
          },
          "execution_count": 238,
          "metadata": {},
          "output_type": "execute_result"
        }
      ],
      "source": [
        "df.describe\n",
        "'''Información correcta y esperada, existe una nueva columna basada en la clasificacion del preprocesamiento'''"
      ]
    },
    {
      "cell_type": "code",
      "execution_count": 239,
      "id": "c4511cc5",
      "metadata": {
        "id": "c4511cc5"
      },
      "outputs": [],
      "source": [
        "#--- REVIsAMOS LA CALIDAD DE LOS COMENTARIOS (evitaremos un preprocesaminto si procede)\n",
        "import pandas as pd\n",
        "import re"
      ]
    },
    {
      "cell_type": "code",
      "execution_count": 240,
      "id": "c1b88755",
      "metadata": {
        "colab": {
          "base_uri": "https://localhost:8080/"
        },
        "id": "c1b88755",
        "outputId": "95e8052f-f175-4db1-c2fc-6812e35c69fe"
      },
      "outputs": [
        {
          "name": "stdout",
          "output_type": "stream",
          "text": [
            "Antes de extraer fechas y usuarios:\n",
            "0    bq. on 2011-05-20 04:15:05, benjamin reed wrote:bq. > src/c/include/zookeeper.h, line 1119bq. > <https://reviews.apache.org/r/739/diff/4/?file=19416#file19416line1119>bq. >bq. > it isn't clear to me that we should expose check outside of a multitransaction.that's a valid point. i did it for completeness, but there's really no need to have a check op outside a multi op. it would clean up the code as well if i removed it. i'll try to get that done tonight as well.bq. on 2011-05-20 04:15:05, benjamin reed wrote:bq. > src/java/main/org/apache/zookeeper/transaction.java, line 57bq. > <https://reviews.apache.org/r/739/diff/4/?file=19425#file19425line57>bq. >bq. > should we also have an asynchronous version?agreed. ted's created a new jira case for this.bq. on 2011-05-20 04:15:05, benjamin reed wrote:bq. > src/java/main/org/apache/zookeeper/zookeeper.java, line 801bq. > <https://reviews.apache.org/r/739/diff/4/?file=19427#file19427line801>bq. >bq. > i think we also need an asynchronous version.agreed. ted's created a new jira case for this.bq. on 2011-05-20 04:15:05, benjamin reed wrote:bq. > src/java/main/org/apache/zookeeper/server/datatree.java, line 817bq. > <https://reviews.apache.org/r/739/diff/4/?file=19428#file19428line817>bq. >bq. > if stat didn't return anything, we could skip this altogether. if we are going to return something, should we return more than the version?i'm not sure i understand... can you elaborate ?bq. on 2011-05-20 04:15:05, benjamin reed wrote:bq. > src/java/main/org/apache/zookeeper/server/preprequestprocessor.java, line 483bq. > <https://reviews.apache.org/r/739/diff/4/?file=19430#file19430line483>bq. >bq. > i don't think we want to log this at all do we?agreed. i'll clean that up tonight.bq. on 2011-05-20 04:15:05, benjamin reed wrote:bq. > src/java/main/org/apache/zookeeper/server/preprequestprocessor.java, line 484bq. > <https://reviews.apache.org/r/739/diff/4/?file=19430#file19430line484>bq. >bq. > don't use tabs. spaces!sorry... at my day job we use tabs (i know) and i forgot to switch my settings around -- i'm usually very careful about that ;-).bq. on 2011-05-20 04:15:05, benjamin reed wrote:bq. > src/java/main/org/apache/zookeeper/server/preprequestprocessor.java, line 489bq. > <https://reviews.apache.org/r/739/diff/4/?file=19430#file19430line489>bq. >bq. > i think we are only half atomic here. if the multi txn fails half way through, it will not be applied to the database, but we will still have recorded it as pending, so we may fail later changes.bq. > bq. > for example, if there is a create for a znode that would otherwise succeed, but fails do to a later (in the multi txn) check failing. there will be a pending change record created, so even though the create failed, later creates to that znode will result in a node exists error.i thought not applying it to the database was sufficient, but perhaps i'm wrong. i thought the pending change records would get discarded if the multi op failed. do i need to do that explicitly somehow? what are your thoughts on how to deal with this? bq. on 2011-05-20 04:15:05, benjamin reed wrote:bq. > src/zookeeper.jute, line 267bq. > <https://reviews.apache.org/r/739/diff/4/?file=19440#file19440line267>bq. >bq. > i don't think we should use txnheader since all we need is the type.agreed. i'll see about refactoring that.bq. on 2011-05-20 04:15:05, benjamin reed wrote:bq. > src/c/include/zookeeper.h, line 273bq. > <https://reviews.apache.org/r/739/diff/4/?file=19416#file19416line273>bq. >bq. > shouldn't this be a unionit originally was a union but i ran into some annoyances when trying to use the c api from c++ code as c++ won't let you use designated initializers unless you compile with a newer --std flag (which, when enabled, caused other zookeeper code not to compile from c++). e.g. you get warnings\n",
            "1                                                                                                                                                                                                                                                                                                                                                                                                                                                                                                                        bq. on 2011-05-21 02:00:22, ted dunning wrote:bq. > src/java/main/org/apache/zookeeper/zookeeper.java, line 801bq. > <https://reviews.apache.org/r/739/diff/4/?file=19427#file19427line801>bq. >bq. > what would you say about deferring this to a separate jira?does the separate jira you created address both of benjamin's async requests? i think he wanted an async multi method as well as an async commit method...?- marshall-----------------------------------------------------------this is an automatically generated e-mail. to reply, visit:https://reviews.apache.org/r/739/#review706-----------------------------------------------------------on 2011-05-19 02:13:14, ted dunning wrote:bq. bq. -----------------------------------------------------------bq. this is an automatically generated e-mail. to reply, visit:bq. https://reviews.apache.org/r/739/bq. -----------------------------------------------------------bq. bq. (updated 2011-05-19 02:13:14)bq. bq. bq. review request for zookeeper and benjamin reed.bq. bq. bq. summarybq. -------bq. bq. this mega-patch adds the multi-op capability to zk. this allows a batch of create, delete, update or version-check operations to bq. succeed or fail together. both c and java bindings are provided.bq. bq. bq. this addresses bug zookeeper-965.bq. https://issues.apache.org/jira/browse/zookeeper-965bq. bq. bq. diffsbq. -----bq. bq. src/c/makefile.am 65830fe bq. src/c/include/proto.h 843032f bq. src/c/include/zookeeper.h c055edb bq. src/c/src/zookeeper.c db715b0 bq. src/c/tests/testmulti.cc pre-creation bq. src/c/tests/testoperations.cc f9441ea bq. src/c/tests/zkmocks.cc a75dce6 bq. src/java/main/org/apache/zookeeper/multiresponse.java pre-creation bq. src/java/main/org/apache/zookeeper/multitransactionrecord.java pre-creation bq. src/java/main/org/apache/zookeeper/op.java pre-creation bq. src/java/main/org/apache/zookeeper/opresult.java pre-creation bq. src/java/main/org/apache/zookeeper/transaction.java pre-creation bq. src/java/main/org/apache/zookeeper/zoodefs.java 832976f bq. src/java/main/org/apache/zookeeper/zookeeper.java 00b4012 bq. src/java/main/org/apache/zookeeper/server/datatree.java d16537e bq. src/java/main/org/apache/zookeeper/server/finalrequestprocessor.java 2538cf7 bq. src/java/main/org/apache/zookeeper/server/preprequestprocessor.java 50f208d bq. src/java/main/org/apache/zookeeper/server/request.java a5c57e2 bq. src/java/main/org/apache/zookeeper/server/requestprocessor.java 5c3e8ff bq. src/java/main/org/apache/zookeeper/server/traceformatter.java 8ece929 bq. src/java/main/org/apache/zookeeper/server/package.html 3ec7656 bq. src/java/main/org/apache/zookeeper/server/quorum/commitprocessor.java 49affd5 bq. src/java/main/org/apache/zookeeper/server/util/serializeutils.java 0ad4dd6 bq. src/java/test/org/apache/zookeeper/multiresponsetest.java pre-creation bq. src/java/test/org/apache/zookeeper/multitransactionrecordtest.java pre-creation bq. src/java/test/org/apache/zookeeper/test/multitransactiontest.java pre-creation bq. src/zookeeper.jute 7d96f32 bq. bq. diff: https://reviews.apache.org/r/739/diffbq. bq. bq. testingbq. -------bq. bq. a number of unit tests have been implemented. test coverage is very good.bq. bq. a sample application has been written to do simple operations on a graph of nodes.bq. bq. bq. thanks,bq. bq. tedbq. bq.\n",
            "2                                                                                                                                                                                                                                                                                                                                                                                                                                                                                                                                                                                                                                                                                                                                                                                                                                                                                                                                                                                                                                                                                                                                                                                                                                                                                                                                                                                                                                                                                                                                                                                                                                                                                                                                                                                                                                                                                                                                                                                                                                                                                   bq. on 2011-07-07 23:34:13, camille fournier wrote:bq. > are people just supposed to create their own new zookeeperpurger and call start on it? i don't see any hooks for starting this anywhere, or even a main method to use to start it. would be nice to give that to people so they have a utility they can run easily.heh, you beat me to it. ;-) i think it should be started by the server, but the config defaults should have it turned off (time=0) by default. (more in my comments)- patrick-----------------------------------------------------------this is an automatically generated e-mail. to reply, visit:https://reviews.apache.org/r/1043/#review1000-----------------------------------------------------------on 2011-07-07 23:10:13, patrick hunt wrote:bq. bq. -----------------------------------------------------------bq. this is an automatically generated e-mail. to reply, visit:bq. https://reviews.apache.org/r/1043/bq. -----------------------------------------------------------bq. bq. (updated 2011-07-07 23:10:13)bq. bq. bq. review request for zookeeper, patrick hunt, benjamin reed, and mahadev konar.bq. bq. bq. summarybq. -------bq. bq. i like to have zk itself manage the amount of snapshots and logs kept, instead of relying on the purgetxnlog utility.bq. bq. bq. this addresses bug zookeeper-1107.bq. https://issues.apache.org/jira/browse/zookeeper-1107bq. bq. bq. diffsbq. -----bq. bq. ./conf/zoo_sample.cfg 1141901 bq. ./src/java/main/org/apache/zookeeper/zookeeperpurger.java pre-creation bq. ./src/java/main/org/apache/zookeeper/server/quorum/quorumpeerconfig.java 1141901 bq. ./src/java/test/org/apache/zookeeper/zookeeperpurgetest.java pre-creation bq. bq. diff: https://reviews.apache.org/r/1043/diffbq. bq. bq. testingbq. -------bq. bq. test added, passing hudson qa bot.bq. bq. bq. thanks,bq. bq. patrickbq. bq.\n",
            "3                                                                                                                                                                                                                                                                                                                                                                                                                                                                                                                                                                                                                                                                                                                                                                                                                                                                                                                                                                                                                                                                                                                                                                                                                                                                                                                                                                                                                                                                                                                                                                                                                                                                                                                                                                                                                                                                                                                                                                                                                                                                                                                                                               bq. on 2011-07-07 23:40:32, patrick hunt wrote:bq. > ./src/java/main/org/apache/zookeeper/zookeeperpurger.java, lines 74-77bq. > <https://reviews.apache.org/r/1043/diff/1/?file=22149#file22149line74>bq. >bq. > move this check to the start method.bq. > bq. > 1) info level log if turned offbq. > 2) exit the thread if turned offsorry, meant exit the start method if turned off (don't start the timer/task).- patrick-----------------------------------------------------------this is an automatically generated e-mail. to reply, visit:https://reviews.apache.org/r/1043/#review998-----------------------------------------------------------on 2011-07-07 23:10:13, patrick hunt wrote:bq. bq. -----------------------------------------------------------bq. this is an automatically generated e-mail. to reply, visit:bq. https://reviews.apache.org/r/1043/bq. -----------------------------------------------------------bq. bq. (updated 2011-07-07 23:10:13)bq. bq. bq. review request for zookeeper, patrick hunt, benjamin reed, and mahadev konar.bq. bq. bq. summarybq. -------bq. bq. i like to have zk itself manage the amount of snapshots and logs kept, instead of relying on the purgetxnlog utility.bq. bq. bq. this addresses bug zookeeper-1107.bq. https://issues.apache.org/jira/browse/zookeeper-1107bq. bq. bq. diffsbq. -----bq. bq. ./conf/zoo_sample.cfg 1141901 bq. ./src/java/main/org/apache/zookeeper/zookeeperpurger.java pre-creation bq. ./src/java/main/org/apache/zookeeper/server/quorum/quorumpeerconfig.java 1141901 bq. ./src/java/test/org/apache/zookeeper/zookeeperpurgetest.java pre-creation bq. bq. diff: https://reviews.apache.org/r/1043/diffbq. bq. bq. testingbq. -------bq. bq. test added, passing hudson qa bot.bq. bq. bq. thanks,bq. bq. patrickbq. bq.\n",
            "4                                               bq. on 2011-07-07 23:40:32, patrick hunt wrote:bq. > the documentation (src/docs) need to be updated - specifically the cleanup section in the admin guide.bq. > bq. > have you considered hooking this into jmx or the 4letterwords? it would be nice for operators to get basic information. in jmx they could also control the settings... consider for a follow-on jira?fixed the documentation part.@pat: i guess i'm not clear about how \"hooking into jmx or 4 letter-words\" will be helpful. can you please explain this idea? i can takeup this task in separate jira.bq. on 2011-07-07 23:40:32, patrick hunt wrote:bq. > ./conf/zoo_sample.cfg, lines 15-21bq. > <https://reviews.apache.org/r/1043/diff/1/?file=22148#file22148line15>bq. >bq. > my personal belief is that this should be turned off by default - i.e. comment out the parameters in the sample config.fixed. also, renamed the configuration keys to make them inline with existing.bq. on 2011-07-07 23:40:32, patrick hunt wrote:bq. > ./src/java/test/org/apache/zookeeper/zookeeperpurgetest.java, line 37bq. > <https://reviews.apache.org/r/1043/diff/1/?file=22151#file22151line37>bq. >bq. > nice!corrected code format issues.bq. on 2011-07-07 23:40:32, patrick hunt wrote:bq. > ./src/java/main/org/apache/zookeeper/server/quorum/quorumpeerconfig.java, lines 384-385bq. > <https://reviews.apache.org/r/1043/diff/1/?file=22150#file22150line384>bq. >bq. > what does \"time\" refer to. elapsed time? what are the units.fixed.bq. on 2011-07-07 23:40:32, patrick hunt wrote:bq. > ./src/java/main/org/apache/zookeeper/server/quorum/quorumpeerconfig.java, lines 374-375bq. > <https://reviews.apache.org/r/1043/diff/1/?file=22150#file22150line374>bq. >bq. > the docs should reflect that this only controls the number of snaps to keep, the logs are purged based on the corresponding purged snaps.fixed. comments are moved to applicable class datadircleanupmanager and also documented in admin guide as suggested.bq. on 2011-07-07 23:40:32, patrick hunt wrote:bq. > ./src/java/main/org/apache/zookeeper/server/quorum/quorumpeerconfig.java, line 73bq. > <https://reviews.apache.org/r/1043/diff/1/?file=22150#file22150line73>bq. >bq. > specify explicit default - e.g. 0.fixed.bq. on 2011-07-07 23:40:32, patrick hunt wrote:bq. > ./src/java/main/org/apache/zookeeper/server/quorum/quorumpeerconfig.java, line 72bq. > <https://reviews.apache.org/r/1043/diff/1/?file=22150#file22150line72>bq. >bq. > specify explicit default, 3?fixed.bq. on 2011-07-07 23:40:32, patrick hunt wrote:bq. > ./src/java/main/org/apache/zookeeper/zookeeperpurger.java, line 142bq. > <https://reviews.apache.org/r/1043/diff/1/?file=22149#file22149line142>bq. >bq. > zookeeper should be referred to as \"zookeeper\"fixed. redundant information in logs has been removed.bq. on 2011-07-07 23:40:32, patrick hunt wrote:bq. > ./src/java/main/org/apache/zookeeper/zookeeperpurger.java, line 118bq. > <https://reviews.apache.org/r/1043/diff/1/?file=22149#file22149line118>bq. >bq. > i would rather we check if the state is started. (log warning if not)fixed.bq. on 2011-07-07 23:40:32, patrick hunt wrote:bq. > ./src/java/main/org/apache/zookeeper/zookeeperpurger.java, line 104bq. > <https://reviews.apache.org/r/1043/diff/1/?file=22149#file22149line104>bq. >bq. > given we are tracking the state shouldn't we be testing that here?fixed.bq. on 2011-07-07 23:40:32, patrick hunt wrote:bq. > ./src/java/main/org/apache/zookeeper/zookeeperpurger.java, line 103bq. > <https://reviews.apache.org/r/1043/diff/1/?file=22149#file22149line103>bq. >bq. > i see tests, which is great, however where is this method being called in zookeeper server code proper? (what i mean is the server doesn't seem to be running this)called in quorumpeermain. changes included in the latest patch. bq. on 2011-07-07 23:\n",
            "Name: Comment, dtype: object\n"
          ]
        }
      ],
      "source": [
        "# Ver un fragmento antes de extraer fechas y usuarios\n",
        "print(\"Antes de extraer fechas y usuarios:\")\n",
        "print(df['Comment'].head())"
      ]
    },
    {
      "cell_type": "code",
      "execution_count": 241,
      "id": "f32caf35",
      "metadata": {
        "colab": {
          "base_uri": "https://localhost:8080/"
        },
        "id": "f32caf35",
        "outputId": "e0213be5-0c4f-48d3-d181-c825ab1a2395"
      },
      "outputs": [
        {
          "name": "stderr",
          "output_type": "stream",
          "text": [
            "<ipython-input-241-5bd0f5b8d63d>:2: SettingWithCopyWarning: \n",
            "A value is trying to be set on a copy of a slice from a DataFrame.\n",
            "Try using .loc[row_indexer,col_indexer] = value instead\n",
            "\n",
            "See the caveats in the documentation: https://pandas.pydata.org/pandas-docs/stable/user_guide/indexing.html#returning-a-view-versus-a-copy\n",
            "  df['Date'] = df['Comment'].apply(lambda x: re.findall(r'\\d{4}-\\d{2}-\\d{2} \\d{2}:\\d{2}:\\d{2}', x))\n"
          ]
        }
      ],
      "source": [
        "# Extraer las fechas y crear una nueva columna 'Date'\n",
        "df['Date'] = df['Comment'].apply(lambda x: re.findall(r'\\d{4}-\\d{2}-\\d{2} \\d{2}:\\d{2}:\\d{2}', x))"
      ]
    },
    {
      "cell_type": "code",
      "execution_count": 242,
      "id": "d58a82c9",
      "metadata": {
        "colab": {
          "base_uri": "https://localhost:8080/"
        },
        "id": "d58a82c9",
        "outputId": "dd6c738f-2869-4efe-9241-b2e700de4fcb"
      },
      "outputs": [
        {
          "name": "stderr",
          "output_type": "stream",
          "text": [
            "<ipython-input-242-133bd86eb174>:2: SettingWithCopyWarning: \n",
            "A value is trying to be set on a copy of a slice from a DataFrame.\n",
            "Try using .loc[row_indexer,col_indexer] = value instead\n",
            "\n",
            "See the caveats in the documentation: https://pandas.pydata.org/pandas-docs/stable/user_guide/indexing.html#returning-a-view-versus-a-copy\n",
            "  df['Date'] = pd.to_datetime(df['Date'].str[0], errors='coerce')\n"
          ]
        }
      ],
      "source": [
        "# Convertir la nueva columna 'Date' a datetime (se asume que las fechas están en formato correcto)\n",
        "df['Date'] = pd.to_datetime(df['Date'].str[0], errors='coerce')"
      ]
    },
    {
      "cell_type": "code",
      "execution_count": 243,
      "id": "9298a7b0",
      "metadata": {
        "colab": {
          "base_uri": "https://localhost:8080/"
        },
        "id": "9298a7b0",
        "outputId": "ce9198cc-b956-49b2-8dfb-b6f1c592a330"
      },
      "outputs": [
        {
          "name": "stderr",
          "output_type": "stream",
          "text": [
            "<ipython-input-243-cd5966f46fcc>:2: SettingWithCopyWarning: \n",
            "A value is trying to be set on a copy of a slice from a DataFrame.\n",
            "Try using .loc[row_indexer,col_indexer] = value instead\n",
            "\n",
            "See the caveats in the documentation: https://pandas.pydata.org/pandas-docs/stable/user_guide/indexing.html#returning-a-view-versus-a-copy\n",
            "  df['User'] = df['Comment'].apply(lambda x: re.findall(r'([a-zA-Z]+(?: [a-zA-Z]+)*)(?= wrote:)', x))\n"
          ]
        }
      ],
      "source": [
        "# Extraer los nombres de los usuarios que están antes de \"wrote:\"\n",
        "df['User'] = df['Comment'].apply(lambda x: re.findall(r'([a-zA-Z]+(?: [a-zA-Z]+)*)(?= wrote:)', x))"
      ]
    },
    {
      "cell_type": "code",
      "execution_count": 244,
      "id": "435da75a",
      "metadata": {
        "colab": {
          "base_uri": "https://localhost:8080/"
        },
        "id": "435da75a",
        "outputId": "025ae104-bc66-4fcb-b669-2f07c5b21d62"
      },
      "outputs": [
        {
          "name": "stderr",
          "output_type": "stream",
          "text": [
            "<ipython-input-244-96835c539f5a>:2: SettingWithCopyWarning: \n",
            "A value is trying to be set on a copy of a slice from a DataFrame.\n",
            "Try using .loc[row_indexer,col_indexer] = value instead\n",
            "\n",
            "See the caveats in the documentation: https://pandas.pydata.org/pandas-docs/stable/user_guide/indexing.html#returning-a-view-versus-a-copy\n",
            "  df['User'] = df['User'].apply(lambda x: x[0] if len(x) > 0 else None)\n"
          ]
        }
      ],
      "source": [
        "# Tomamos solo el primer nombre encontrado (en caso de que haya más de un nombre)\n",
        "df['User'] = df['User'].apply(lambda x: x[0] if len(x) > 0 else None)"
      ]
    },
    {
      "cell_type": "code",
      "execution_count": 245,
      "id": "7d5eb989",
      "metadata": {
        "colab": {
          "base_uri": "https://localhost:8080/"
        },
        "id": "7d5eb989",
        "outputId": "c60fae6b-c80b-45ea-f078-8f566cbde5af"
      },
      "outputs": [
        {
          "name": "stdout",
          "output_type": "stream",
          "text": [
            "\n",
            "Después de extraer y limpiar las fechas y usuarios:\n",
            "                                                                                                                                                                                                                                                                                                                                                                                                                                                                                                                                                                                                                                                                                                                                                                                                                                                                                                                                                                                                                                                                                                                                                                                                                                                                                                                                                                                                                                                                                                                                                                                                                                                                                                                                                                                                                                                                                                                                                                                                                                                                                                                                                                                                                                                                                                                                                                                                                                                                                                                                                                                                                                                                                                                                                                                                                                                                                                                                                                                                                                                                                                                                                                                                                                                                                                                                                                                                                                                                                                                                                                                                                                                                                                                                                                                                                                                                                                                                                                                      Comment  \\\n",
            "0  bq. on 2011-05-20 04:15:05, benjamin reed wrote:bq. > src/c/include/zookeeper.h, line 1119bq. > <https://reviews.apache.org/r/739/diff/4/?file=19416#file19416line1119>bq. >bq. > it isn't clear to me that we should expose check outside of a multitransaction.that's a valid point. i did it for completeness, but there's really no need to have a check op outside a multi op. it would clean up the code as well if i removed it. i'll try to get that done tonight as well.bq. on 2011-05-20 04:15:05, benjamin reed wrote:bq. > src/java/main/org/apache/zookeeper/transaction.java, line 57bq. > <https://reviews.apache.org/r/739/diff/4/?file=19425#file19425line57>bq. >bq. > should we also have an asynchronous version?agreed. ted's created a new jira case for this.bq. on 2011-05-20 04:15:05, benjamin reed wrote:bq. > src/java/main/org/apache/zookeeper/zookeeper.java, line 801bq. > <https://reviews.apache.org/r/739/diff/4/?file=19427#file19427line801>bq. >bq. > i think we also need an asynchronous version.agreed. ted's created a new jira case for this.bq. on 2011-05-20 04:15:05, benjamin reed wrote:bq. > src/java/main/org/apache/zookeeper/server/datatree.java, line 817bq. > <https://reviews.apache.org/r/739/diff/4/?file=19428#file19428line817>bq. >bq. > if stat didn't return anything, we could skip this altogether. if we are going to return something, should we return more than the version?i'm not sure i understand... can you elaborate ?bq. on 2011-05-20 04:15:05, benjamin reed wrote:bq. > src/java/main/org/apache/zookeeper/server/preprequestprocessor.java, line 483bq. > <https://reviews.apache.org/r/739/diff/4/?file=19430#file19430line483>bq. >bq. > i don't think we want to log this at all do we?agreed. i'll clean that up tonight.bq. on 2011-05-20 04:15:05, benjamin reed wrote:bq. > src/java/main/org/apache/zookeeper/server/preprequestprocessor.java, line 484bq. > <https://reviews.apache.org/r/739/diff/4/?file=19430#file19430line484>bq. >bq. > don't use tabs. spaces!sorry... at my day job we use tabs (i know) and i forgot to switch my settings around -- i'm usually very careful about that ;-).bq. on 2011-05-20 04:15:05, benjamin reed wrote:bq. > src/java/main/org/apache/zookeeper/server/preprequestprocessor.java, line 489bq. > <https://reviews.apache.org/r/739/diff/4/?file=19430#file19430line489>bq. >bq. > i think we are only half atomic here. if the multi txn fails half way through, it will not be applied to the database, but we will still have recorded it as pending, so we may fail later changes.bq. > bq. > for example, if there is a create for a znode that would otherwise succeed, but fails do to a later (in the multi txn) check failing. there will be a pending change record created, so even though the create failed, later creates to that znode will result in a node exists error.i thought not applying it to the database was sufficient, but perhaps i'm wrong. i thought the pending change records would get discarded if the multi op failed. do i need to do that explicitly somehow? what are your thoughts on how to deal with this? bq. on 2011-05-20 04:15:05, benjamin reed wrote:bq. > src/zookeeper.jute, line 267bq. > <https://reviews.apache.org/r/739/diff/4/?file=19440#file19440line267>bq. >bq. > i don't think we should use txnheader since all we need is the type.agreed. i'll see about refactoring that.bq. on 2011-05-20 04:15:05, benjamin reed wrote:bq. > src/c/include/zookeeper.h, line 273bq. > <https://reviews.apache.org/r/739/diff/4/?file=19416#file19416line273>bq. >bq. > shouldn't this be a unionit originally was a union but i ran into some annoyances when trying to use the c api from c++ code as c++ won't let you use designated initializers unless you compile with a newer --std flag (which, when enabled, caused other zookeeper code not to compile from c++). e.g. you get warnings   \n",
            "1                                                                                                                                                                                                                                                                                                                                                                                                                                                                                                                      bq. on 2011-05-21 02:00:22, ted dunning wrote:bq. > src/java/main/org/apache/zookeeper/zookeeper.java, line 801bq. > <https://reviews.apache.org/r/739/diff/4/?file=19427#file19427line801>bq. >bq. > what would you say about deferring this to a separate jira?does the separate jira you created address both of benjamin's async requests? i think he wanted an async multi method as well as an async commit method...?- marshall-----------------------------------------------------------this is an automatically generated e-mail. to reply, visit:https://reviews.apache.org/r/739/#review706-----------------------------------------------------------on 2011-05-19 02:13:14, ted dunning wrote:bq. bq. -----------------------------------------------------------bq. this is an automatically generated e-mail. to reply, visit:bq. https://reviews.apache.org/r/739/bq. -----------------------------------------------------------bq. bq. (updated 2011-05-19 02:13:14)bq. bq. bq. review request for zookeeper and benjamin reed.bq. bq. bq. summarybq. -------bq. bq. this mega-patch adds the multi-op capability to zk. this allows a batch of create, delete, update or version-check operations to bq. succeed or fail together. both c and java bindings are provided.bq. bq. bq. this addresses bug zookeeper-965.bq. https://issues.apache.org/jira/browse/zookeeper-965bq. bq. bq. diffsbq. -----bq. bq. src/c/makefile.am 65830fe bq. src/c/include/proto.h 843032f bq. src/c/include/zookeeper.h c055edb bq. src/c/src/zookeeper.c db715b0 bq. src/c/tests/testmulti.cc pre-creation bq. src/c/tests/testoperations.cc f9441ea bq. src/c/tests/zkmocks.cc a75dce6 bq. src/java/main/org/apache/zookeeper/multiresponse.java pre-creation bq. src/java/main/org/apache/zookeeper/multitransactionrecord.java pre-creation bq. src/java/main/org/apache/zookeeper/op.java pre-creation bq. src/java/main/org/apache/zookeeper/opresult.java pre-creation bq. src/java/main/org/apache/zookeeper/transaction.java pre-creation bq. src/java/main/org/apache/zookeeper/zoodefs.java 832976f bq. src/java/main/org/apache/zookeeper/zookeeper.java 00b4012 bq. src/java/main/org/apache/zookeeper/server/datatree.java d16537e bq. src/java/main/org/apache/zookeeper/server/finalrequestprocessor.java 2538cf7 bq. src/java/main/org/apache/zookeeper/server/preprequestprocessor.java 50f208d bq. src/java/main/org/apache/zookeeper/server/request.java a5c57e2 bq. src/java/main/org/apache/zookeeper/server/requestprocessor.java 5c3e8ff bq. src/java/main/org/apache/zookeeper/server/traceformatter.java 8ece929 bq. src/java/main/org/apache/zookeeper/server/package.html 3ec7656 bq. src/java/main/org/apache/zookeeper/server/quorum/commitprocessor.java 49affd5 bq. src/java/main/org/apache/zookeeper/server/util/serializeutils.java 0ad4dd6 bq. src/java/test/org/apache/zookeeper/multiresponsetest.java pre-creation bq. src/java/test/org/apache/zookeeper/multitransactionrecordtest.java pre-creation bq. src/java/test/org/apache/zookeeper/test/multitransactiontest.java pre-creation bq. src/zookeeper.jute 7d96f32 bq. bq. diff: https://reviews.apache.org/r/739/diffbq. bq. bq. testingbq. -------bq. bq. a number of unit tests have been implemented. test coverage is very good.bq. bq. a sample application has been written to do simple operations on a graph of nodes.bq. bq. bq. thanks,bq. bq. tedbq. bq.   \n",
            "2                                                                                                                                                                                                                                                                                                                                                                                                                                                                                                                                                                                                                                                                                                                                                                                                                                                                                                                                                                                                                                                                                                                                                                                                                                                                                                                                                                                                                                                                                                                                                                                                                                                                                                                                                                                                                                                                                                                                                                                                                                                                                 bq. on 2011-07-07 23:34:13, camille fournier wrote:bq. > are people just supposed to create their own new zookeeperpurger and call start on it? i don't see any hooks for starting this anywhere, or even a main method to use to start it. would be nice to give that to people so they have a utility they can run easily.heh, you beat me to it. ;-) i think it should be started by the server, but the config defaults should have it turned off (time=0) by default. (more in my comments)- patrick-----------------------------------------------------------this is an automatically generated e-mail. to reply, visit:https://reviews.apache.org/r/1043/#review1000-----------------------------------------------------------on 2011-07-07 23:10:13, patrick hunt wrote:bq. bq. -----------------------------------------------------------bq. this is an automatically generated e-mail. to reply, visit:bq. https://reviews.apache.org/r/1043/bq. -----------------------------------------------------------bq. bq. (updated 2011-07-07 23:10:13)bq. bq. bq. review request for zookeeper, patrick hunt, benjamin reed, and mahadev konar.bq. bq. bq. summarybq. -------bq. bq. i like to have zk itself manage the amount of snapshots and logs kept, instead of relying on the purgetxnlog utility.bq. bq. bq. this addresses bug zookeeper-1107.bq. https://issues.apache.org/jira/browse/zookeeper-1107bq. bq. bq. diffsbq. -----bq. bq. ./conf/zoo_sample.cfg 1141901 bq. ./src/java/main/org/apache/zookeeper/zookeeperpurger.java pre-creation bq. ./src/java/main/org/apache/zookeeper/server/quorum/quorumpeerconfig.java 1141901 bq. ./src/java/test/org/apache/zookeeper/zookeeperpurgetest.java pre-creation bq. bq. diff: https://reviews.apache.org/r/1043/diffbq. bq. bq. testingbq. -------bq. bq. test added, passing hudson qa bot.bq. bq. bq. thanks,bq. bq. patrickbq. bq.   \n",
            "3                                                                                                                                                                                                                                                                                                                                                                                                                                                                                                                                                                                                                                                                                                                                                                                                                                                                                                                                                                                                                                                                                                                                                                                                                                                                                                                                                                                                                                                                                                                                                                                                                                                                                                                                                                                                                                                                                                                                                                                                                                                                                                                                                             bq. on 2011-07-07 23:40:32, patrick hunt wrote:bq. > ./src/java/main/org/apache/zookeeper/zookeeperpurger.java, lines 74-77bq. > <https://reviews.apache.org/r/1043/diff/1/?file=22149#file22149line74>bq. >bq. > move this check to the start method.bq. > bq. > 1) info level log if turned offbq. > 2) exit the thread if turned offsorry, meant exit the start method if turned off (don't start the timer/task).- patrick-----------------------------------------------------------this is an automatically generated e-mail. to reply, visit:https://reviews.apache.org/r/1043/#review998-----------------------------------------------------------on 2011-07-07 23:10:13, patrick hunt wrote:bq. bq. -----------------------------------------------------------bq. this is an automatically generated e-mail. to reply, visit:bq. https://reviews.apache.org/r/1043/bq. -----------------------------------------------------------bq. bq. (updated 2011-07-07 23:10:13)bq. bq. bq. review request for zookeeper, patrick hunt, benjamin reed, and mahadev konar.bq. bq. bq. summarybq. -------bq. bq. i like to have zk itself manage the amount of snapshots and logs kept, instead of relying on the purgetxnlog utility.bq. bq. bq. this addresses bug zookeeper-1107.bq. https://issues.apache.org/jira/browse/zookeeper-1107bq. bq. bq. diffsbq. -----bq. bq. ./conf/zoo_sample.cfg 1141901 bq. ./src/java/main/org/apache/zookeeper/zookeeperpurger.java pre-creation bq. ./src/java/main/org/apache/zookeeper/server/quorum/quorumpeerconfig.java 1141901 bq. ./src/java/test/org/apache/zookeeper/zookeeperpurgetest.java pre-creation bq. bq. diff: https://reviews.apache.org/r/1043/diffbq. bq. bq. testingbq. -------bq. bq. test added, passing hudson qa bot.bq. bq. bq. thanks,bq. bq. patrickbq. bq.   \n",
            "4                                             bq. on 2011-07-07 23:40:32, patrick hunt wrote:bq. > the documentation (src/docs) need to be updated - specifically the cleanup section in the admin guide.bq. > bq. > have you considered hooking this into jmx or the 4letterwords? it would be nice for operators to get basic information. in jmx they could also control the settings... consider for a follow-on jira?fixed the documentation part.@pat: i guess i'm not clear about how \"hooking into jmx or 4 letter-words\" will be helpful. can you please explain this idea? i can takeup this task in separate jira.bq. on 2011-07-07 23:40:32, patrick hunt wrote:bq. > ./conf/zoo_sample.cfg, lines 15-21bq. > <https://reviews.apache.org/r/1043/diff/1/?file=22148#file22148line15>bq. >bq. > my personal belief is that this should be turned off by default - i.e. comment out the parameters in the sample config.fixed. also, renamed the configuration keys to make them inline with existing.bq. on 2011-07-07 23:40:32, patrick hunt wrote:bq. > ./src/java/test/org/apache/zookeeper/zookeeperpurgetest.java, line 37bq. > <https://reviews.apache.org/r/1043/diff/1/?file=22151#file22151line37>bq. >bq. > nice!corrected code format issues.bq. on 2011-07-07 23:40:32, patrick hunt wrote:bq. > ./src/java/main/org/apache/zookeeper/server/quorum/quorumpeerconfig.java, lines 384-385bq. > <https://reviews.apache.org/r/1043/diff/1/?file=22150#file22150line384>bq. >bq. > what does \"time\" refer to. elapsed time? what are the units.fixed.bq. on 2011-07-07 23:40:32, patrick hunt wrote:bq. > ./src/java/main/org/apache/zookeeper/server/quorum/quorumpeerconfig.java, lines 374-375bq. > <https://reviews.apache.org/r/1043/diff/1/?file=22150#file22150line374>bq. >bq. > the docs should reflect that this only controls the number of snaps to keep, the logs are purged based on the corresponding purged snaps.fixed. comments are moved to applicable class datadircleanupmanager and also documented in admin guide as suggested.bq. on 2011-07-07 23:40:32, patrick hunt wrote:bq. > ./src/java/main/org/apache/zookeeper/server/quorum/quorumpeerconfig.java, line 73bq. > <https://reviews.apache.org/r/1043/diff/1/?file=22150#file22150line73>bq. >bq. > specify explicit default - e.g. 0.fixed.bq. on 2011-07-07 23:40:32, patrick hunt wrote:bq. > ./src/java/main/org/apache/zookeeper/server/quorum/quorumpeerconfig.java, line 72bq. > <https://reviews.apache.org/r/1043/diff/1/?file=22150#file22150line72>bq. >bq. > specify explicit default, 3?fixed.bq. on 2011-07-07 23:40:32, patrick hunt wrote:bq. > ./src/java/main/org/apache/zookeeper/zookeeperpurger.java, line 142bq. > <https://reviews.apache.org/r/1043/diff/1/?file=22149#file22149line142>bq. >bq. > zookeeper should be referred to as \"zookeeper\"fixed. redundant information in logs has been removed.bq. on 2011-07-07 23:40:32, patrick hunt wrote:bq. > ./src/java/main/org/apache/zookeeper/zookeeperpurger.java, line 118bq. > <https://reviews.apache.org/r/1043/diff/1/?file=22149#file22149line118>bq. >bq. > i would rather we check if the state is started. (log warning if not)fixed.bq. on 2011-07-07 23:40:32, patrick hunt wrote:bq. > ./src/java/main/org/apache/zookeeper/zookeeperpurger.java, line 104bq. > <https://reviews.apache.org/r/1043/diff/1/?file=22149#file22149line104>bq. >bq. > given we are tracking the state shouldn't we be testing that here?fixed.bq. on 2011-07-07 23:40:32, patrick hunt wrote:bq. > ./src/java/main/org/apache/zookeeper/zookeeperpurger.java, line 103bq. > <https://reviews.apache.org/r/1043/diff/1/?file=22149#file22149line103>bq. >bq. > i see tests, which is great, however where is this method being called in zookeeper server code proper? (what i mean is the server doesn't seem to be running this)called in quorumpeermain. changes included in the latest patch. bq. on 2011-07-07 23:   \n",
            "\n",
            "                 Date              User  \n",
            "0 2011-05-20 04:15:05     benjamin reed  \n",
            "1 2011-05-21 02:00:22       ted dunning  \n",
            "2 2011-07-07 23:34:13  camille fournier  \n",
            "3 2011-07-07 23:40:32      patrick hunt  \n",
            "4 2011-07-07 23:40:32      patrick hunt  \n"
          ]
        }
      ],
      "source": [
        "# Ver un fragmento después de extraer fechas, usuarios y limpiar el texto\n",
        "print(\"\\nDespués de extraer y limpiar las fechas y usuarios:\")\n",
        "print(df[['Comment', 'Date', 'User']].head())"
      ]
    },
    {
      "cell_type": "markdown",
      "id": "9671fce8",
      "metadata": {
        "id": "9671fce8"
      },
      "source": [
        "Eliminamos de la columna Comments cositas que no aportan valor en dicha columna"
      ]
    },
    {
      "cell_type": "code",
      "execution_count": 246,
      "id": "1444d10e",
      "metadata": {
        "colab": {
          "base_uri": "https://localhost:8080/"
        },
        "id": "1444d10e",
        "outputId": "2341a81a-31a8-414d-c36b-8dfda01367b1"
      },
      "outputs": [
        {
          "name": "stdout",
          "output_type": "stream",
          "text": [
            "                                                                                                                                                                                                                                                                                                                                                                                                                                                                                                                                                                                                                                                                                                                                                                                                                                                                                                                                                                                                                                                                                                                                                                                                                                                                                                                                                                                                                                                                                                                                                                                                                                                                                                                                                                                                                                                                                                                                                                                                                                                                                                                                                                                                                                                                                                                                                                                                                                                                                                                                                                                                                                                                                                                                                                                                                                                                                                                                                                                                                                                                                                                                                                                                                                                                                                                                                                                                                                                                                                                                                                                                                                                                                                                                                                                                                                                                                                                                                                                      Comment\n",
            "0  bq. on 2011-05-20 04:15:05, benjamin reed wrote:bq. > src/c/include/zookeeper.h, line 1119bq. > <https://reviews.apache.org/r/739/diff/4/?file=19416#file19416line1119>bq. >bq. > it isn't clear to me that we should expose check outside of a multitransaction.that's a valid point. i did it for completeness, but there's really no need to have a check op outside a multi op. it would clean up the code as well if i removed it. i'll try to get that done tonight as well.bq. on 2011-05-20 04:15:05, benjamin reed wrote:bq. > src/java/main/org/apache/zookeeper/transaction.java, line 57bq. > <https://reviews.apache.org/r/739/diff/4/?file=19425#file19425line57>bq. >bq. > should we also have an asynchronous version?agreed. ted's created a new jira case for this.bq. on 2011-05-20 04:15:05, benjamin reed wrote:bq. > src/java/main/org/apache/zookeeper/zookeeper.java, line 801bq. > <https://reviews.apache.org/r/739/diff/4/?file=19427#file19427line801>bq. >bq. > i think we also need an asynchronous version.agreed. ted's created a new jira case for this.bq. on 2011-05-20 04:15:05, benjamin reed wrote:bq. > src/java/main/org/apache/zookeeper/server/datatree.java, line 817bq. > <https://reviews.apache.org/r/739/diff/4/?file=19428#file19428line817>bq. >bq. > if stat didn't return anything, we could skip this altogether. if we are going to return something, should we return more than the version?i'm not sure i understand... can you elaborate ?bq. on 2011-05-20 04:15:05, benjamin reed wrote:bq. > src/java/main/org/apache/zookeeper/server/preprequestprocessor.java, line 483bq. > <https://reviews.apache.org/r/739/diff/4/?file=19430#file19430line483>bq. >bq. > i don't think we want to log this at all do we?agreed. i'll clean that up tonight.bq. on 2011-05-20 04:15:05, benjamin reed wrote:bq. > src/java/main/org/apache/zookeeper/server/preprequestprocessor.java, line 484bq. > <https://reviews.apache.org/r/739/diff/4/?file=19430#file19430line484>bq. >bq. > don't use tabs. spaces!sorry... at my day job we use tabs (i know) and i forgot to switch my settings around -- i'm usually very careful about that ;-).bq. on 2011-05-20 04:15:05, benjamin reed wrote:bq. > src/java/main/org/apache/zookeeper/server/preprequestprocessor.java, line 489bq. > <https://reviews.apache.org/r/739/diff/4/?file=19430#file19430line489>bq. >bq. > i think we are only half atomic here. if the multi txn fails half way through, it will not be applied to the database, but we will still have recorded it as pending, so we may fail later changes.bq. > bq. > for example, if there is a create for a znode that would otherwise succeed, but fails do to a later (in the multi txn) check failing. there will be a pending change record created, so even though the create failed, later creates to that znode will result in a node exists error.i thought not applying it to the database was sufficient, but perhaps i'm wrong. i thought the pending change records would get discarded if the multi op failed. do i need to do that explicitly somehow? what are your thoughts on how to deal with this? bq. on 2011-05-20 04:15:05, benjamin reed wrote:bq. > src/zookeeper.jute, line 267bq. > <https://reviews.apache.org/r/739/diff/4/?file=19440#file19440line267>bq. >bq. > i don't think we should use txnheader since all we need is the type.agreed. i'll see about refactoring that.bq. on 2011-05-20 04:15:05, benjamin reed wrote:bq. > src/c/include/zookeeper.h, line 273bq. > <https://reviews.apache.org/r/739/diff/4/?file=19416#file19416line273>bq. >bq. > shouldn't this be a unionit originally was a union but i ran into some annoyances when trying to use the c api from c++ code as c++ won't let you use designated initializers unless you compile with a newer --std flag (which, when enabled, caused other zookeeper code not to compile from c++). e.g. you get warnings\n",
            "1                                                                                                                                                                                                                                                                                                                                                                                                                                                                                                                      bq. on 2011-05-21 02:00:22, ted dunning wrote:bq. > src/java/main/org/apache/zookeeper/zookeeper.java, line 801bq. > <https://reviews.apache.org/r/739/diff/4/?file=19427#file19427line801>bq. >bq. > what would you say about deferring this to a separate jira?does the separate jira you created address both of benjamin's async requests? i think he wanted an async multi method as well as an async commit method...?- marshall-----------------------------------------------------------this is an automatically generated e-mail. to reply, visit:https://reviews.apache.org/r/739/#review706-----------------------------------------------------------on 2011-05-19 02:13:14, ted dunning wrote:bq. bq. -----------------------------------------------------------bq. this is an automatically generated e-mail. to reply, visit:bq. https://reviews.apache.org/r/739/bq. -----------------------------------------------------------bq. bq. (updated 2011-05-19 02:13:14)bq. bq. bq. review request for zookeeper and benjamin reed.bq. bq. bq. summarybq. -------bq. bq. this mega-patch adds the multi-op capability to zk. this allows a batch of create, delete, update or version-check operations to bq. succeed or fail together. both c and java bindings are provided.bq. bq. bq. this addresses bug zookeeper-965.bq. https://issues.apache.org/jira/browse/zookeeper-965bq. bq. bq. diffsbq. -----bq. bq. src/c/makefile.am 65830fe bq. src/c/include/proto.h 843032f bq. src/c/include/zookeeper.h c055edb bq. src/c/src/zookeeper.c db715b0 bq. src/c/tests/testmulti.cc pre-creation bq. src/c/tests/testoperations.cc f9441ea bq. src/c/tests/zkmocks.cc a75dce6 bq. src/java/main/org/apache/zookeeper/multiresponse.java pre-creation bq. src/java/main/org/apache/zookeeper/multitransactionrecord.java pre-creation bq. src/java/main/org/apache/zookeeper/op.java pre-creation bq. src/java/main/org/apache/zookeeper/opresult.java pre-creation bq. src/java/main/org/apache/zookeeper/transaction.java pre-creation bq. src/java/main/org/apache/zookeeper/zoodefs.java 832976f bq. src/java/main/org/apache/zookeeper/zookeeper.java 00b4012 bq. src/java/main/org/apache/zookeeper/server/datatree.java d16537e bq. src/java/main/org/apache/zookeeper/server/finalrequestprocessor.java 2538cf7 bq. src/java/main/org/apache/zookeeper/server/preprequestprocessor.java 50f208d bq. src/java/main/org/apache/zookeeper/server/request.java a5c57e2 bq. src/java/main/org/apache/zookeeper/server/requestprocessor.java 5c3e8ff bq. src/java/main/org/apache/zookeeper/server/traceformatter.java 8ece929 bq. src/java/main/org/apache/zookeeper/server/package.html 3ec7656 bq. src/java/main/org/apache/zookeeper/server/quorum/commitprocessor.java 49affd5 bq. src/java/main/org/apache/zookeeper/server/util/serializeutils.java 0ad4dd6 bq. src/java/test/org/apache/zookeeper/multiresponsetest.java pre-creation bq. src/java/test/org/apache/zookeeper/multitransactionrecordtest.java pre-creation bq. src/java/test/org/apache/zookeeper/test/multitransactiontest.java pre-creation bq. src/zookeeper.jute 7d96f32 bq. bq. diff: https://reviews.apache.org/r/739/diffbq. bq. bq. testingbq. -------bq. bq. a number of unit tests have been implemented. test coverage is very good.bq. bq. a sample application has been written to do simple operations on a graph of nodes.bq. bq. bq. thanks,bq. bq. tedbq. bq.\n",
            "2                                                                                                                                                                                                                                                                                                                                                                                                                                                                                                                                                                                                                                                                                                                                                                                                                                                                                                                                                                                                                                                                                                                                                                                                                                                                                                                                                                                                                                                                                                                                                                                                                                                                                                                                                                                                                                                                                                                                                                                                                                                                                 bq. on 2011-07-07 23:34:13, camille fournier wrote:bq. > are people just supposed to create their own new zookeeperpurger and call start on it? i don't see any hooks for starting this anywhere, or even a main method to use to start it. would be nice to give that to people so they have a utility they can run easily.heh, you beat me to it. ;-) i think it should be started by the server, but the config defaults should have it turned off (time=0) by default. (more in my comments)- patrick-----------------------------------------------------------this is an automatically generated e-mail. to reply, visit:https://reviews.apache.org/r/1043/#review1000-----------------------------------------------------------on 2011-07-07 23:10:13, patrick hunt wrote:bq. bq. -----------------------------------------------------------bq. this is an automatically generated e-mail. to reply, visit:bq. https://reviews.apache.org/r/1043/bq. -----------------------------------------------------------bq. bq. (updated 2011-07-07 23:10:13)bq. bq. bq. review request for zookeeper, patrick hunt, benjamin reed, and mahadev konar.bq. bq. bq. summarybq. -------bq. bq. i like to have zk itself manage the amount of snapshots and logs kept, instead of relying on the purgetxnlog utility.bq. bq. bq. this addresses bug zookeeper-1107.bq. https://issues.apache.org/jira/browse/zookeeper-1107bq. bq. bq. diffsbq. -----bq. bq. ./conf/zoo_sample.cfg 1141901 bq. ./src/java/main/org/apache/zookeeper/zookeeperpurger.java pre-creation bq. ./src/java/main/org/apache/zookeeper/server/quorum/quorumpeerconfig.java 1141901 bq. ./src/java/test/org/apache/zookeeper/zookeeperpurgetest.java pre-creation bq. bq. diff: https://reviews.apache.org/r/1043/diffbq. bq. bq. testingbq. -------bq. bq. test added, passing hudson qa bot.bq. bq. bq. thanks,bq. bq. patrickbq. bq.\n",
            "3                                                                                                                                                                                                                                                                                                                                                                                                                                                                                                                                                                                                                                                                                                                                                                                                                                                                                                                                                                                                                                                                                                                                                                                                                                                                                                                                                                                                                                                                                                                                                                                                                                                                                                                                                                                                                                                                                                                                                                                                                                                                                                                                                             bq. on 2011-07-07 23:40:32, patrick hunt wrote:bq. > ./src/java/main/org/apache/zookeeper/zookeeperpurger.java, lines 74-77bq. > <https://reviews.apache.org/r/1043/diff/1/?file=22149#file22149line74>bq. >bq. > move this check to the start method.bq. > bq. > 1) info level log if turned offbq. > 2) exit the thread if turned offsorry, meant exit the start method if turned off (don't start the timer/task).- patrick-----------------------------------------------------------this is an automatically generated e-mail. to reply, visit:https://reviews.apache.org/r/1043/#review998-----------------------------------------------------------on 2011-07-07 23:10:13, patrick hunt wrote:bq. bq. -----------------------------------------------------------bq. this is an automatically generated e-mail. to reply, visit:bq. https://reviews.apache.org/r/1043/bq. -----------------------------------------------------------bq. bq. (updated 2011-07-07 23:10:13)bq. bq. bq. review request for zookeeper, patrick hunt, benjamin reed, and mahadev konar.bq. bq. bq. summarybq. -------bq. bq. i like to have zk itself manage the amount of snapshots and logs kept, instead of relying on the purgetxnlog utility.bq. bq. bq. this addresses bug zookeeper-1107.bq. https://issues.apache.org/jira/browse/zookeeper-1107bq. bq. bq. diffsbq. -----bq. bq. ./conf/zoo_sample.cfg 1141901 bq. ./src/java/main/org/apache/zookeeper/zookeeperpurger.java pre-creation bq. ./src/java/main/org/apache/zookeeper/server/quorum/quorumpeerconfig.java 1141901 bq. ./src/java/test/org/apache/zookeeper/zookeeperpurgetest.java pre-creation bq. bq. diff: https://reviews.apache.org/r/1043/diffbq. bq. bq. testingbq. -------bq. bq. test added, passing hudson qa bot.bq. bq. bq. thanks,bq. bq. patrickbq. bq.\n",
            "4                                             bq. on 2011-07-07 23:40:32, patrick hunt wrote:bq. > the documentation (src/docs) need to be updated - specifically the cleanup section in the admin guide.bq. > bq. > have you considered hooking this into jmx or the 4letterwords? it would be nice for operators to get basic information. in jmx they could also control the settings... consider for a follow-on jira?fixed the documentation part.@pat: i guess i'm not clear about how \"hooking into jmx or 4 letter-words\" will be helpful. can you please explain this idea? i can takeup this task in separate jira.bq. on 2011-07-07 23:40:32, patrick hunt wrote:bq. > ./conf/zoo_sample.cfg, lines 15-21bq. > <https://reviews.apache.org/r/1043/diff/1/?file=22148#file22148line15>bq. >bq. > my personal belief is that this should be turned off by default - i.e. comment out the parameters in the sample config.fixed. also, renamed the configuration keys to make them inline with existing.bq. on 2011-07-07 23:40:32, patrick hunt wrote:bq. > ./src/java/test/org/apache/zookeeper/zookeeperpurgetest.java, line 37bq. > <https://reviews.apache.org/r/1043/diff/1/?file=22151#file22151line37>bq. >bq. > nice!corrected code format issues.bq. on 2011-07-07 23:40:32, patrick hunt wrote:bq. > ./src/java/main/org/apache/zookeeper/server/quorum/quorumpeerconfig.java, lines 384-385bq. > <https://reviews.apache.org/r/1043/diff/1/?file=22150#file22150line384>bq. >bq. > what does \"time\" refer to. elapsed time? what are the units.fixed.bq. on 2011-07-07 23:40:32, patrick hunt wrote:bq. > ./src/java/main/org/apache/zookeeper/server/quorum/quorumpeerconfig.java, lines 374-375bq. > <https://reviews.apache.org/r/1043/diff/1/?file=22150#file22150line374>bq. >bq. > the docs should reflect that this only controls the number of snaps to keep, the logs are purged based on the corresponding purged snaps.fixed. comments are moved to applicable class datadircleanupmanager and also documented in admin guide as suggested.bq. on 2011-07-07 23:40:32, patrick hunt wrote:bq. > ./src/java/main/org/apache/zookeeper/server/quorum/quorumpeerconfig.java, line 73bq. > <https://reviews.apache.org/r/1043/diff/1/?file=22150#file22150line73>bq. >bq. > specify explicit default - e.g. 0.fixed.bq. on 2011-07-07 23:40:32, patrick hunt wrote:bq. > ./src/java/main/org/apache/zookeeper/server/quorum/quorumpeerconfig.java, line 72bq. > <https://reviews.apache.org/r/1043/diff/1/?file=22150#file22150line72>bq. >bq. > specify explicit default, 3?fixed.bq. on 2011-07-07 23:40:32, patrick hunt wrote:bq. > ./src/java/main/org/apache/zookeeper/zookeeperpurger.java, line 142bq. > <https://reviews.apache.org/r/1043/diff/1/?file=22149#file22149line142>bq. >bq. > zookeeper should be referred to as \"zookeeper\"fixed. redundant information in logs has been removed.bq. on 2011-07-07 23:40:32, patrick hunt wrote:bq. > ./src/java/main/org/apache/zookeeper/zookeeperpurger.java, line 118bq. > <https://reviews.apache.org/r/1043/diff/1/?file=22149#file22149line118>bq. >bq. > i would rather we check if the state is started. (log warning if not)fixed.bq. on 2011-07-07 23:40:32, patrick hunt wrote:bq. > ./src/java/main/org/apache/zookeeper/zookeeperpurger.java, line 104bq. > <https://reviews.apache.org/r/1043/diff/1/?file=22149#file22149line104>bq. >bq. > given we are tracking the state shouldn't we be testing that here?fixed.bq. on 2011-07-07 23:40:32, patrick hunt wrote:bq. > ./src/java/main/org/apache/zookeeper/zookeeperpurger.java, line 103bq. > <https://reviews.apache.org/r/1043/diff/1/?file=22149#file22149line103>bq. >bq. > i see tests, which is great, however where is this method being called in zookeeper server code proper? (what i mean is the server doesn't seem to be running this)called in quorumpeermain. changes included in the latest patch. bq. on 2011-07-07 23:\n"
          ]
        }
      ],
      "source": [
        "# Ajustar el máximo de caracteres a mostrar por columna y ver el total del contenido para identificar patrones y eliminar ocntenido inecesario\n",
        "pd.set_option('display.max_colwidth', None)\n",
        "print(df[['Comment']].head())"
      ]
    },
    {
      "cell_type": "code",
      "execution_count": 247,
      "id": "8d5ebf66",
      "metadata": {
        "id": "8d5ebf66"
      },
      "outputs": [],
      "source": [
        "import re"
      ]
    },
    {
      "cell_type": "code",
      "execution_count": 248,
      "id": "fcf2e5bb",
      "metadata": {
        "id": "fcf2e5bb"
      },
      "outputs": [],
      "source": [
        "# Patrones mejorados\n",
        "patterns = [\n",
        "        r'bq\\.',  # \"bq.\"\n",
        "        r'on \\d{4}-\\d{2}-\\d{2} \\d{2}:\\d{2}:\\d{2}, [a-zA-Z\\s]+ wrote:', # Elimina el patron \"on fecha, usuario wrote:\"\"\n",
        "        r'<https://reviews.apache.org/[^\\s]+>', # Elimina cualquier patrón tras \"<https://reviews.apache.org/\"\n",
        "        r'src/[\\w/.-]+',  # Esto captura la ruta del archivo\n",
        "        r',?\\s*line\\s*\\d+\\s*>',  # Esto captura \"line\" con espacios alrededor y el número de línea\n",
        "        r'\\s*>\\s*', # Nuevo patrón para eliminar los \">\" respetando los espacios entre palabras\n",
        "        ]"
      ]
    },
    {
      "cell_type": "code",
      "execution_count": 249,
      "id": "3c574c86",
      "metadata": {
        "id": "3c574c86",
        "lines_to_next_cell": 1
      },
      "outputs": [],
      "source": [
        "# Función para limpiar el texto\n",
        "def clean_text(text):\n",
        "    for pattern in patterns:\n",
        "        text = re.sub(pattern, ' ', text)\n",
        "    return text.strip()"
      ]
    },
    {
      "cell_type": "code",
      "execution_count": 250,
      "id": "ba8baf64",
      "metadata": {
        "colab": {
          "base_uri": "https://localhost:8080/"
        },
        "id": "ba8baf64",
        "outputId": "232b9452-5c10-4e6f-8fc4-fd0c3ca6488f"
      },
      "outputs": [
        {
          "name": "stderr",
          "output_type": "stream",
          "text": [
            "<ipython-input-250-06b5f1ee97fd>:2: SettingWithCopyWarning: \n",
            "A value is trying to be set on a copy of a slice from a DataFrame.\n",
            "Try using .loc[row_indexer,col_indexer] = value instead\n",
            "\n",
            "See the caveats in the documentation: https://pandas.pydata.org/pandas-docs/stable/user_guide/indexing.html#returning-a-view-versus-a-copy\n",
            "  df['Cleaned_Comment'] = df['Comment'].apply(clean_text)\n"
          ]
        }
      ],
      "source": [
        "# Aplicamos la limpieza a la columna de comentarios\n",
        "df['Cleaned_Comment'] = df['Comment'].apply(clean_text)"
      ]
    },
    {
      "cell_type": "code",
      "execution_count": 251,
      "id": "9a84b52e",
      "metadata": {
        "colab": {
          "base_uri": "https://localhost:8080/"
        },
        "id": "9a84b52e",
        "outputId": "73283610-ebfa-43e1-b596-3da43de9f9d3"
      },
      "outputs": [
        {
          "name": "stdout",
          "output_type": "stream",
          "text": [
            "                                                                                                                                                                                                                                                                                                                                                                                                                                                                                                                                                                                                                                                                                                                                                                                                                                                                                                                                                                                                                                                                                                                                                                                                                                                                                                                                                                                                                                                                                                                                                                                                                                                                                                                                                                                                                                                                                                                                                                                                                                                                                                                                                                                                                                                                                                                                                                                                                                                                                                                                                                                                                                                                                                                                                                                                                                                                                                                                                                                                                                                                                                                                                                                                                                                                                                                                                                                                                                                                                                                                                                                                                                                                                                                                                                                                                                                                                                                                                                                          Comment  \\\n",
            "0      bq. on 2011-05-20 04:15:05, benjamin reed wrote:bq. > src/c/include/zookeeper.h, line 1119bq. > <https://reviews.apache.org/r/739/diff/4/?file=19416#file19416line1119>bq. >bq. > it isn't clear to me that we should expose check outside of a multitransaction.that's a valid point. i did it for completeness, but there's really no need to have a check op outside a multi op. it would clean up the code as well if i removed it. i'll try to get that done tonight as well.bq. on 2011-05-20 04:15:05, benjamin reed wrote:bq. > src/java/main/org/apache/zookeeper/transaction.java, line 57bq. > <https://reviews.apache.org/r/739/diff/4/?file=19425#file19425line57>bq. >bq. > should we also have an asynchronous version?agreed. ted's created a new jira case for this.bq. on 2011-05-20 04:15:05, benjamin reed wrote:bq. > src/java/main/org/apache/zookeeper/zookeeper.java, line 801bq. > <https://reviews.apache.org/r/739/diff/4/?file=19427#file19427line801>bq. >bq. > i think we also need an asynchronous version.agreed. ted's created a new jira case for this.bq. on 2011-05-20 04:15:05, benjamin reed wrote:bq. > src/java/main/org/apache/zookeeper/server/datatree.java, line 817bq. > <https://reviews.apache.org/r/739/diff/4/?file=19428#file19428line817>bq. >bq. > if stat didn't return anything, we could skip this altogether. if we are going to return something, should we return more than the version?i'm not sure i understand... can you elaborate ?bq. on 2011-05-20 04:15:05, benjamin reed wrote:bq. > src/java/main/org/apache/zookeeper/server/preprequestprocessor.java, line 483bq. > <https://reviews.apache.org/r/739/diff/4/?file=19430#file19430line483>bq. >bq. > i don't think we want to log this at all do we?agreed. i'll clean that up tonight.bq. on 2011-05-20 04:15:05, benjamin reed wrote:bq. > src/java/main/org/apache/zookeeper/server/preprequestprocessor.java, line 484bq. > <https://reviews.apache.org/r/739/diff/4/?file=19430#file19430line484>bq. >bq. > don't use tabs. spaces!sorry... at my day job we use tabs (i know) and i forgot to switch my settings around -- i'm usually very careful about that ;-).bq. on 2011-05-20 04:15:05, benjamin reed wrote:bq. > src/java/main/org/apache/zookeeper/server/preprequestprocessor.java, line 489bq. > <https://reviews.apache.org/r/739/diff/4/?file=19430#file19430line489>bq. >bq. > i think we are only half atomic here. if the multi txn fails half way through, it will not be applied to the database, but we will still have recorded it as pending, so we may fail later changes.bq. > bq. > for example, if there is a create for a znode that would otherwise succeed, but fails do to a later (in the multi txn) check failing. there will be a pending change record created, so even though the create failed, later creates to that znode will result in a node exists error.i thought not applying it to the database was sufficient, but perhaps i'm wrong. i thought the pending change records would get discarded if the multi op failed. do i need to do that explicitly somehow? what are your thoughts on how to deal with this? bq. on 2011-05-20 04:15:05, benjamin reed wrote:bq. > src/zookeeper.jute, line 267bq. > <https://reviews.apache.org/r/739/diff/4/?file=19440#file19440line267>bq. >bq. > i don't think we should use txnheader since all we need is the type.agreed. i'll see about refactoring that.bq. on 2011-05-20 04:15:05, benjamin reed wrote:bq. > src/c/include/zookeeper.h, line 273bq. > <https://reviews.apache.org/r/739/diff/4/?file=19416#file19416line273>bq. >bq. > shouldn't this be a unionit originally was a union but i ran into some annoyances when trying to use the c api from c++ code as c++ won't let you use designated initializers unless you compile with a newer --std flag (which, when enabled, caused other zookeeper code not to compile from c++). e.g. you get warnings   \n",
            "1                                                                                                                                                                                                                                                                                                                                                                                                                                                                                                                          bq. on 2011-05-21 02:00:22, ted dunning wrote:bq. > src/java/main/org/apache/zookeeper/zookeeper.java, line 801bq. > <https://reviews.apache.org/r/739/diff/4/?file=19427#file19427line801>bq. >bq. > what would you say about deferring this to a separate jira?does the separate jira you created address both of benjamin's async requests? i think he wanted an async multi method as well as an async commit method...?- marshall-----------------------------------------------------------this is an automatically generated e-mail. to reply, visit:https://reviews.apache.org/r/739/#review706-----------------------------------------------------------on 2011-05-19 02:13:14, ted dunning wrote:bq. bq. -----------------------------------------------------------bq. this is an automatically generated e-mail. to reply, visit:bq. https://reviews.apache.org/r/739/bq. -----------------------------------------------------------bq. bq. (updated 2011-05-19 02:13:14)bq. bq. bq. review request for zookeeper and benjamin reed.bq. bq. bq. summarybq. -------bq. bq. this mega-patch adds the multi-op capability to zk. this allows a batch of create, delete, update or version-check operations to bq. succeed or fail together. both c and java bindings are provided.bq. bq. bq. this addresses bug zookeeper-965.bq. https://issues.apache.org/jira/browse/zookeeper-965bq. bq. bq. diffsbq. -----bq. bq. src/c/makefile.am 65830fe bq. src/c/include/proto.h 843032f bq. src/c/include/zookeeper.h c055edb bq. src/c/src/zookeeper.c db715b0 bq. src/c/tests/testmulti.cc pre-creation bq. src/c/tests/testoperations.cc f9441ea bq. src/c/tests/zkmocks.cc a75dce6 bq. src/java/main/org/apache/zookeeper/multiresponse.java pre-creation bq. src/java/main/org/apache/zookeeper/multitransactionrecord.java pre-creation bq. src/java/main/org/apache/zookeeper/op.java pre-creation bq. src/java/main/org/apache/zookeeper/opresult.java pre-creation bq. src/java/main/org/apache/zookeeper/transaction.java pre-creation bq. src/java/main/org/apache/zookeeper/zoodefs.java 832976f bq. src/java/main/org/apache/zookeeper/zookeeper.java 00b4012 bq. src/java/main/org/apache/zookeeper/server/datatree.java d16537e bq. src/java/main/org/apache/zookeeper/server/finalrequestprocessor.java 2538cf7 bq. src/java/main/org/apache/zookeeper/server/preprequestprocessor.java 50f208d bq. src/java/main/org/apache/zookeeper/server/request.java a5c57e2 bq. src/java/main/org/apache/zookeeper/server/requestprocessor.java 5c3e8ff bq. src/java/main/org/apache/zookeeper/server/traceformatter.java 8ece929 bq. src/java/main/org/apache/zookeeper/server/package.html 3ec7656 bq. src/java/main/org/apache/zookeeper/server/quorum/commitprocessor.java 49affd5 bq. src/java/main/org/apache/zookeeper/server/util/serializeutils.java 0ad4dd6 bq. src/java/test/org/apache/zookeeper/multiresponsetest.java pre-creation bq. src/java/test/org/apache/zookeeper/multitransactionrecordtest.java pre-creation bq. src/java/test/org/apache/zookeeper/test/multitransactiontest.java pre-creation bq. src/zookeeper.jute 7d96f32 bq. bq. diff: https://reviews.apache.org/r/739/diffbq. bq. bq. testingbq. -------bq. bq. a number of unit tests have been implemented. test coverage is very good.bq. bq. a sample application has been written to do simple operations on a graph of nodes.bq. bq. bq. thanks,bq. bq. tedbq. bq.   \n",
            "2                                                                                                                                                                                                                                                                                                                                                                                                                                                                                                                                                                                                                                                                                                                                                                                                                                                                                                                                                                                                                                                                                                                                                                                                                                                                                                                                                                                                                                                                                                                                                                                                                                                                                                                                                                                                                                                                                                                                                                                                                                                                                     bq. on 2011-07-07 23:34:13, camille fournier wrote:bq. > are people just supposed to create their own new zookeeperpurger and call start on it? i don't see any hooks for starting this anywhere, or even a main method to use to start it. would be nice to give that to people so they have a utility they can run easily.heh, you beat me to it. ;-) i think it should be started by the server, but the config defaults should have it turned off (time=0) by default. (more in my comments)- patrick-----------------------------------------------------------this is an automatically generated e-mail. to reply, visit:https://reviews.apache.org/r/1043/#review1000-----------------------------------------------------------on 2011-07-07 23:10:13, patrick hunt wrote:bq. bq. -----------------------------------------------------------bq. this is an automatically generated e-mail. to reply, visit:bq. https://reviews.apache.org/r/1043/bq. -----------------------------------------------------------bq. bq. (updated 2011-07-07 23:10:13)bq. bq. bq. review request for zookeeper, patrick hunt, benjamin reed, and mahadev konar.bq. bq. bq. summarybq. -------bq. bq. i like to have zk itself manage the amount of snapshots and logs kept, instead of relying on the purgetxnlog utility.bq. bq. bq. this addresses bug zookeeper-1107.bq. https://issues.apache.org/jira/browse/zookeeper-1107bq. bq. bq. diffsbq. -----bq. bq. ./conf/zoo_sample.cfg 1141901 bq. ./src/java/main/org/apache/zookeeper/zookeeperpurger.java pre-creation bq. ./src/java/main/org/apache/zookeeper/server/quorum/quorumpeerconfig.java 1141901 bq. ./src/java/test/org/apache/zookeeper/zookeeperpurgetest.java pre-creation bq. bq. diff: https://reviews.apache.org/r/1043/diffbq. bq. bq. testingbq. -------bq. bq. test added, passing hudson qa bot.bq. bq. bq. thanks,bq. bq. patrickbq. bq.   \n",
            "3                                                                                                                                                                                                                                                                                                                                                                                                                                                                                                                                                                                                                                                                                                                                                                                                                                                                                                                                                                                                                                                                                                                                                                                                                                                                                                                                                                                                                                                                                                                                                                                                                                                                                                                                                                                                                                                                                                                                                                                                                                                                                                                                                                 bq. on 2011-07-07 23:40:32, patrick hunt wrote:bq. > ./src/java/main/org/apache/zookeeper/zookeeperpurger.java, lines 74-77bq. > <https://reviews.apache.org/r/1043/diff/1/?file=22149#file22149line74>bq. >bq. > move this check to the start method.bq. > bq. > 1) info level log if turned offbq. > 2) exit the thread if turned offsorry, meant exit the start method if turned off (don't start the timer/task).- patrick-----------------------------------------------------------this is an automatically generated e-mail. to reply, visit:https://reviews.apache.org/r/1043/#review998-----------------------------------------------------------on 2011-07-07 23:10:13, patrick hunt wrote:bq. bq. -----------------------------------------------------------bq. this is an automatically generated e-mail. to reply, visit:bq. https://reviews.apache.org/r/1043/bq. -----------------------------------------------------------bq. bq. (updated 2011-07-07 23:10:13)bq. bq. bq. review request for zookeeper, patrick hunt, benjamin reed, and mahadev konar.bq. bq. bq. summarybq. -------bq. bq. i like to have zk itself manage the amount of snapshots and logs kept, instead of relying on the purgetxnlog utility.bq. bq. bq. this addresses bug zookeeper-1107.bq. https://issues.apache.org/jira/browse/zookeeper-1107bq. bq. bq. diffsbq. -----bq. bq. ./conf/zoo_sample.cfg 1141901 bq. ./src/java/main/org/apache/zookeeper/zookeeperpurger.java pre-creation bq. ./src/java/main/org/apache/zookeeper/server/quorum/quorumpeerconfig.java 1141901 bq. ./src/java/test/org/apache/zookeeper/zookeeperpurgetest.java pre-creation bq. bq. diff: https://reviews.apache.org/r/1043/diffbq. bq. bq. testingbq. -------bq. bq. test added, passing hudson qa bot.bq. bq. bq. thanks,bq. bq. patrickbq. bq.   \n",
            "4                                                 bq. on 2011-07-07 23:40:32, patrick hunt wrote:bq. > the documentation (src/docs) need to be updated - specifically the cleanup section in the admin guide.bq. > bq. > have you considered hooking this into jmx or the 4letterwords? it would be nice for operators to get basic information. in jmx they could also control the settings... consider for a follow-on jira?fixed the documentation part.@pat: i guess i'm not clear about how \"hooking into jmx or 4 letter-words\" will be helpful. can you please explain this idea? i can takeup this task in separate jira.bq. on 2011-07-07 23:40:32, patrick hunt wrote:bq. > ./conf/zoo_sample.cfg, lines 15-21bq. > <https://reviews.apache.org/r/1043/diff/1/?file=22148#file22148line15>bq. >bq. > my personal belief is that this should be turned off by default - i.e. comment out the parameters in the sample config.fixed. also, renamed the configuration keys to make them inline with existing.bq. on 2011-07-07 23:40:32, patrick hunt wrote:bq. > ./src/java/test/org/apache/zookeeper/zookeeperpurgetest.java, line 37bq. > <https://reviews.apache.org/r/1043/diff/1/?file=22151#file22151line37>bq. >bq. > nice!corrected code format issues.bq. on 2011-07-07 23:40:32, patrick hunt wrote:bq. > ./src/java/main/org/apache/zookeeper/server/quorum/quorumpeerconfig.java, lines 384-385bq. > <https://reviews.apache.org/r/1043/diff/1/?file=22150#file22150line384>bq. >bq. > what does \"time\" refer to. elapsed time? what are the units.fixed.bq. on 2011-07-07 23:40:32, patrick hunt wrote:bq. > ./src/java/main/org/apache/zookeeper/server/quorum/quorumpeerconfig.java, lines 374-375bq. > <https://reviews.apache.org/r/1043/diff/1/?file=22150#file22150line374>bq. >bq. > the docs should reflect that this only controls the number of snaps to keep, the logs are purged based on the corresponding purged snaps.fixed. comments are moved to applicable class datadircleanupmanager and also documented in admin guide as suggested.bq. on 2011-07-07 23:40:32, patrick hunt wrote:bq. > ./src/java/main/org/apache/zookeeper/server/quorum/quorumpeerconfig.java, line 73bq. > <https://reviews.apache.org/r/1043/diff/1/?file=22150#file22150line73>bq. >bq. > specify explicit default - e.g. 0.fixed.bq. on 2011-07-07 23:40:32, patrick hunt wrote:bq. > ./src/java/main/org/apache/zookeeper/server/quorum/quorumpeerconfig.java, line 72bq. > <https://reviews.apache.org/r/1043/diff/1/?file=22150#file22150line72>bq. >bq. > specify explicit default, 3?fixed.bq. on 2011-07-07 23:40:32, patrick hunt wrote:bq. > ./src/java/main/org/apache/zookeeper/zookeeperpurger.java, line 142bq. > <https://reviews.apache.org/r/1043/diff/1/?file=22149#file22149line142>bq. >bq. > zookeeper should be referred to as \"zookeeper\"fixed. redundant information in logs has been removed.bq. on 2011-07-07 23:40:32, patrick hunt wrote:bq. > ./src/java/main/org/apache/zookeeper/zookeeperpurger.java, line 118bq. > <https://reviews.apache.org/r/1043/diff/1/?file=22149#file22149line118>bq. >bq. > i would rather we check if the state is started. (log warning if not)fixed.bq. on 2011-07-07 23:40:32, patrick hunt wrote:bq. > ./src/java/main/org/apache/zookeeper/zookeeperpurger.java, line 104bq. > <https://reviews.apache.org/r/1043/diff/1/?file=22149#file22149line104>bq. >bq. > given we are tracking the state shouldn't we be testing that here?fixed.bq. on 2011-07-07 23:40:32, patrick hunt wrote:bq. > ./src/java/main/org/apache/zookeeper/zookeeperpurger.java, line 103bq. > <https://reviews.apache.org/r/1043/diff/1/?file=22149#file22149line103>bq. >bq. > i see tests, which is great, however where is this method being called in zookeeper server code proper? (what i mean is the server doesn't seem to be running this)called in quorumpeermain. changes included in the latest patch. bq. on 2011-07-07 23:   \n",
            "...                                                                                                                                                                                                                                                                                                                                                                                                                                                                                                                                                                                                                                                                                                                                                                                                                                                                                                                                                                                                                                                                                                                                                                                                                                                                                                                                                                                                                                                                                                                                                                                                                                                                                                                                                                                                                                                                                                                                                                                                                                                                                                                                                                                                                                                                                                                                                                                                                                                                                                                                                                                                                                                                                                                                                                                                                                                                                                                                                                                                                                                                                                                                                                                                                                                                                                                                                                                                                                                                                                                                                                                                                                                                                                                                                                                                                                                                                                                                                                                           ...   \n",
            "13632                                                                                                                                                                                                                                                                                                                                                                                                                                                                                                                                                                                                                                                                                                                                                                                                                                                                                                                                                                                                                                                                                                                                                                                                                                                                                                                                                                                                                                                                                                                                                                                                                                                                                                                                                                                                                                                                                                                                                                                                                                                                                                                                                                                                                                                                                                                                                                                                                                                                                                                                                                                                                                                                                                                                                                                                                                                                                                                                                                                                                                                                                                                                                                                                                                                                                                                                                                                                                                                                                                                                                                                                                                                                                                                                                                                                            hi gail,i tested with the last version of hibernate 3.2.6 and the error is always present. you have all the elements sent by mail yesterday to reproduce this issue.best regards   \n",
            "13633                                                                                                                                                                                                                                                                                                                                                                                                                                                                                                                                                                                                                                                                                                                                                                                                                                                                                                                                                                                                                                                                                                                                                                                                                                                                                                                                                                                                                                                                                                                                                                                                                                                                                                                                                                                                                                                                                                                                                                                                                                                                                                                                                                                                                                                                                                                                                                                                                                                                                                                                                                                                                                                                                                                                                                                                                                                                                                                                                                                                                                                                                                                                                                                                                                                                                                                                                                                                                                                                                                                                                                                                                                                                                                             i don't use junitmy issue is not so difficult, just follow this process :the url to test is http://localhost:8080/test when you click on the edit button, you have the error if you cancel the sort=\"natural\" in the action.hbm.xml file, the error disappears ... best regards   \n",
            "13634                                                                                                                                                                                                                                                                                                                                                                                                                                                                                                                                                                                                                                                                                                                                                                                                                                                                                                                                                                                                                                                                                                                                                                                                                                                                                                                                                                                                                                                                                                                                                                                                                                                                                                                                                                                                                                                                                                                                                                                                                                                                                                                                                                                                                                                                                                                                                                                                                                                                                                                                                                                                                                                                                                                                                                                                                                                                                                                                                                                                                                                                                                                                                                                                                                                                                                                                                                                                                                                                                                                                                                                                                                                                                                                                                                                                                                                                                                                   ..and we would like you to create a test without unecessary dependencies.   \n",
            "13635                                                                                                                                                                                                                                                                                                                                                                                                                                                                                                                                                                                                                                                                                                                                                                                                                                                                                                                                                                                                                                                                                                                                                                                                                                                                                                                                                                                                                                                                                                                                                                                                                                                                                                                                                                                                                                                                                                                                                                                                                                                                                                                                                                                                                                                                                                                                                                                                                                                                                                                                                                                                                                                                                                                                                                                                                                                                                                                                                                                                                                                                                                                                                                                                                                                                                                                                                                                                                                                                                                                                                                                                                                                                                                                                                                                                                                                                                                                                                                               here they are   \n",
            "13636                                                                                                                                                                                                                                                                                                                                                                                                                                                                                                                                                                                                                                                                                                                                                                                                                                                                                                                                                                                                                                                                                                                                                                                                                                                                                                                                                                                                                                                                                                                                                                                                                                                                                                                                                                                                                                                                                                                                                                                                                                                                                                                                                                                                                                                                                                                                                                                                                                                                                                                                                                                                                                                                                                                                                                                                                                                                                                                                                                                                                                                                                                                                                                                                                                                                                                                                                                                                                                                                                                                                                                                                                                                                                                                                                                                                                                                                                                                                                                     i attached all entities   \n",
            "\n",
            "                                                                                                                                                                                                                                                                                                                                                                                                                                                                                                                                                                                                                                                                                                                                                                                                                                                                                                                                                                                                                                                                                                                                                                                                                                                                                                                                                                                                                                                                                                                                                                                                                                                                                                                                                                                                                                                                                                                                                                                                                                                                                                                                        Cleaned_Comment  \n",
            "0      it isn't clear to me that we should expose check outside of a multitransaction.that's a valid point. i did it for completeness, but there's really no need to have a check op outside a multi op. it would clean up the code as well if i removed it. i'll try to get that done tonight as well.   should we also have an asynchronous version?agreed. ted's created a new jira case for this.   i think we also need an asynchronous version.agreed. ted's created a new jira case for this.   if stat didn't return anything, we could skip this altogether. if we are going to return something, should we return more than the version?i'm not sure i understand... can you elaborate ?   i don't think we want to log this at all do we?agreed. i'll clean that up tonight.   don't use tabs. spaces!sorry... at my day job we use tabs (i know) and i forgot to switch my settings around -- i'm usually very careful about that ;-).   i think we are only half atomic here. if the multi txn fails half way through, it will not be applied to the database, but we will still have recorded it as pending, so we may fail later changes.  for example, if there is a create for a znode that would otherwise succeed, but fails do to a later (in the multi txn) check failing. there will be a pending change record created, so even though the create failed, later creates to that znode will result in a node exists error.i thought not applying it to the database was sufficient, but perhaps i'm wrong. i thought the pending change records would get discarded if the multi op failed. do i need to do that explicitly somehow? what are your thoughts on how to deal with this?   i don't think we should use txnheader since all we need is the type.agreed. i'll see about refactoring that.   shouldn't this be a unionit originally was a union but i ran into some annoyances when trying to use the c api from c++ code as c++ won't let you use designated initializers unless you compile with a newer --std flag (which, when enabled, caused other zookeeper code not to compile from c++). e.g. you get warnings  \n",
            "1                                                                                                                                                                                                                                                                                                                                                                             what would you say about deferring this to a separate jira?does the separate jira you created address both of benjamin's async requests? i think he wanted an async multi method as well as an async commit method...?- marshall-----------------------------------------------------------this is an automatically generated e-mail. to reply, visit:https://reviews.apache.org/r/739/#review706-----------------------------------------------------------     -----------------------------------------------------------  this is an automatically generated e-mail. to reply, visit:  https://reviews.apache.org/r/739/  -----------------------------------------------------------    (updated 2011-05-19 02:13:14)      review request for zookeeper and benjamin reed.      summary  -------    this mega-patch adds the multi-op capability to zk. this allows a batch of create, delete, update or version-check operations to   succeed or fail together. both c and java bindings are provided.      this addresses bug zookeeper-965.  https://issues.apache.org/jira/browse/zookeeper-965      diffs  -----      65830fe     843032f     c055edb     db715b0     pre-creation     f9441ea     a75dce6     pre-creation     pre-creation     pre-creation     pre-creation     pre-creation     832976f     00b4012     d16537e     2538cf7     50f208d     a5c57e2     5c3e8ff     8ece929     3ec7656     49affd5     0ad4dd6     pre-creation     pre-creation     pre-creation     7d96f32     diff: https://reviews.apache.org/r/739/diff      testing  -------    a number of unit tests have been implemented. test coverage is very good.    a sample application has been written to do simple operations on a graph of nodes.      thanks,    ted  \n",
            "2                                                                                                                                                                                                                                                                                                                                                                                                                                                                                                                                                                                                                             are people just supposed to create their own new zookeeperpurger and call start on it? i don't see any hooks for starting this anywhere, or even a main method to use to start it. would be nice to give that to people so they have a utility they can run easily.heh, you beat me to it. ;-) i think it should be started by the server, but the config defaults should have it turned off (time=0) by default. (more in my comments)- patrick-----------------------------------------------------------this is an automatically generated e-mail. to reply, visit:https://reviews.apache.org/r/1043/#review1000-----------------------------------------------------------     -----------------------------------------------------------  this is an automatically generated e-mail. to reply, visit:  https://reviews.apache.org/r/1043/  -----------------------------------------------------------    (updated 2011-07-07 23:10:13)      review request for zookeeper, patrick hunt, benjamin reed, and mahadev konar.      summary  -------    i like to have zk itself manage the amount of snapshots and logs kept, instead of relying on the purgetxnlog utility.      this addresses bug zookeeper-1107.  https://issues.apache.org/jira/browse/zookeeper-1107      diffs  -----    ./conf/zoo_sample.cfg 1141901   ./  pre-creation   ./  1141901   ./  pre-creation     diff: https://reviews.apache.org/r/1043/diff      testing  -------    test added, passing hudson qa bot.      thanks,    patrick  \n",
            "3                                                                                                                                                                                                                                                                                                                                                                                                                                                                                                                                                                                                                                                                                                                                                                                                                                                              ./ , lines 74-77   move this check to the start method.  1) info level log if turned off 2) exit the thread if turned offsorry, meant exit the start method if turned off (don't start the timer/task).- patrick-----------------------------------------------------------this is an automatically generated e-mail. to reply, visit:https://reviews.apache.org/r/1043/#review998-----------------------------------------------------------     -----------------------------------------------------------  this is an automatically generated e-mail. to reply, visit:  https://reviews.apache.org/r/1043/  -----------------------------------------------------------    (updated 2011-07-07 23:10:13)      review request for zookeeper, patrick hunt, benjamin reed, and mahadev konar.      summary  -------    i like to have zk itself manage the amount of snapshots and logs kept, instead of relying on the purgetxnlog utility.      this addresses bug zookeeper-1107.  https://issues.apache.org/jira/browse/zookeeper-1107      diffs  -----    ./conf/zoo_sample.cfg 1141901   ./  pre-creation   ./  1141901   ./  pre-creation     diff: https://reviews.apache.org/r/1043/diff      testing  -------    test added, passing hudson qa bot.      thanks,    patrick  \n",
            "4                                                                                                                                                                                                                                                                                                                                                           the documentation ( ) need to be updated - specifically the cleanup section in the admin guide.  have you considered hooking this into jmx or the 4letterwords? it would be nice for operators to get basic information. in jmx they could also control the settings... consider for a follow-on jira?fixed the documentation part.@pat: i guess i'm not clear about how \"hooking into jmx or 4 letter-words\" will be helpful. can you please explain this idea? i can takeup this task in separate jira. ./conf/zoo_sample.cfg, lines 15-21   my personal belief is that this should be turned off by default - i.e. comment out the parameters in the sample config.fixed. also, renamed the configuration keys to make them inline with existing. ./  nice!corrected code format issues. ./ , lines 384-385   what does \"time\" refer to. elapsed time? what are the units.fixed. ./ , lines 374-375   the docs should reflect that this only controls the number of snaps to keep, the logs are purged based on the corresponding purged snaps.fixed. comments are moved to applicable class datadircleanupmanager and also documented in admin guide as suggested. ./  specify explicit default - e.g. 0.fixed. ./  specify explicit default, 3?fixed. ./  zookeeper should be referred to as \"zookeeper\"fixed. redundant information in logs has been removed. ./  i would rather we check if the state is started. (log warning if not)fixed. ./  given we are tracking the state shouldn't we be testing that here?fixed. ./  i see tests, which is great, however where is this method being called in zookeeper server code proper? (what i mean is the server doesn't seem to be running this)called in quorumpeermain. changes included in the latest patch.   on 2011-07-07 23:  \n",
            "...                                                                                                                                                                                                                                                                                                                                                                                                                                                                                                                                                                                                                                                                                                                                                                                                                                                                                                                                                                                                                                                                                                                                                                                                                                                                                                                                                                                                                                                                                                                                                                                                                                                                                                                                                                                                                                                                                                                                                                                                                                                                                                                                                 ...  \n",
            "13632                                                                                                                                                                                                                                                                                                                                                                                                                                                                                                                                                                                                                                                                                                                                                                                                                                                                                                                                                                                                                                                                                                                                                                                                                                                                                                                                                                                                                                                                                                                                                                                                                                                                                                                                                                                                                                                                                                                                                                  hi gail,i tested with the last version of hibernate 3.2.6 and the error is always present. you have all the elements sent by mail yesterday to reproduce this issue.best regards  \n",
            "13633                                                                                                                                                                                                                                                                                                                                                                                                                                                                                                                                                                                                                                                                                                                                                                                                                                                                                                                                                                                                                                                                                                                                                                                                                                                                                                                                                                                                                                                                                                                                                                                                                                                                                                                                                                                                                                                                   i don't use junitmy issue is not so difficult, just follow this process :the url to test is http://localhost:8080/test when you click on the edit button, you have the error if you cancel the sort=\"natural\" in the action.hbm.xml file, the error disappears ... best regards  \n",
            "13634                                                                                                                                                                                                                                                                                                                                                                                                                                                                                                                                                                                                                                                                                                                                                                                                                                                                                                                                                                                                                                                                                                                                                                                                                                                                                                                                                                                                                                                                                                                                                                                                                                                                                                                                                                                                                                                                                                                                                                                                                                                                         ..and we would like you to create a test without unecessary dependencies.  \n",
            "13635                                                                                                                                                                                                                                                                                                                                                                                                                                                                                                                                                                                                                                                                                                                                                                                                                                                                                                                                                                                                                                                                                                                                                                                                                                                                                                                                                                                                                                                                                                                                                                                                                                                                                                                                                                                                                                                                                                                                                                                                                                                                                                                                     here they are  \n",
            "13636                                                                                                                                                                                                                                                                                                                                                                                                                                                                                                                                                                                                                                                                                                                                                                                                                                                                                                                                                                                                                                                                                                                                                                                                                                                                                                                                                                                                                                                                                                                                                                                                                                                                                                                                                                                                                                                                                                                                                                                                                                                                                                                           i attached all entities  \n",
            "\n",
            "[13397 rows x 2 columns]\n"
          ]
        }
      ],
      "source": [
        "# Verificamos el resultado después de aplicar la limpieza\n",
        "print(df[['Comment','Cleaned_Comment']])"
      ]
    },
    {
      "cell_type": "code",
      "execution_count": 252,
      "id": "b73b55d3",
      "metadata": {
        "colab": {
          "base_uri": "https://localhost:8080/"
        },
        "id": "b73b55d3",
        "outputId": "286a87b5-af87-46f1-d926-ad23e65e187e"
      },
      "outputs": [
        {
          "name": "stdout",
          "output_type": "stream",
          "text": [
            "El archivo Excel se ha guardado correctamente.\n"
          ]
        }
      ],
      "source": [
        "# Asumiendo que df es tu DataFrame con las columnas 'Comment' y 'Cleaned_Comment'\n",
        "# Exportar a Excel\n",
        "df[['Comment', 'Cleaned_Comment']].to_excel('/content/sample_data/cleaned_comments_output.xlsx', index=False)\n",
        "print(\"El archivo Excel se ha guardado correctamente.\")"
      ]
    },
    {
      "cell_type": "code",
      "execution_count": 253,
      "id": "6aa95c80",
      "metadata": {
        "colab": {
          "base_uri": "https://localhost:8080/"
        },
        "id": "6aa95c80",
        "outputId": "4e4985c2-1045-4b2b-ce5d-db16bf324710"
      },
      "outputs": [
        {
          "name": "stdout",
          "output_type": "stream",
          "text": [
            "Nombres de las columnas: ['Comment', 'Benchmark_results_of_politeness', 'Benchmark_results_of_sentiment', 'Sentiment_category', 'Date', 'User', 'Cleaned_Comment']\n"
          ]
        }
      ],
      "source": [
        "# Se vuelve a verificar la consistencia de las columnas existentes\n",
        "print(\"Nombres de las columnas:\", df.columns.tolist())"
      ]
    },
    {
      "cell_type": "markdown",
      "id": "4e924af2",
      "metadata": {
        "id": "4e924af2"
      },
      "source": [
        "--- VISUALIZAMOS LA INFORMACION HASTA AHORA ---"
      ]
    },
    {
      "cell_type": "code",
      "execution_count": 254,
      "id": "65d1a4ee",
      "metadata": {
        "colab": {
          "base_uri": "https://localhost:8080/",
          "height": 759
        },
        "id": "65d1a4ee",
        "outputId": "abac89c8-143b-4844-8f4d-1d5759878160"
      },
      "outputs": [
        {
          "name": "stderr",
          "output_type": "stream",
          "text": [
            "<ipython-input-254-b7cfdc6409a7>:18: SettingWithCopyWarning: \n",
            "A value is trying to be set on a copy of a slice from a DataFrame.\n",
            "Try using .loc[row_indexer,col_indexer] = value instead\n",
            "\n",
            "See the caveats in the documentation: https://pandas.pydata.org/pandas-docs/stable/user_guide/indexing.html#returning-a-view-versus-a-copy\n",
            "  df['Date'] = pd.to_datetime(df['Date'], errors='coerce')\n"
          ]
        },
        {
          "data": {
            "image/png": "[encoded data removed]",
            "text/plain": [
              "<Figure size 1200x800 with 4 Axes>"
            ]
          },
          "metadata": {},
          "output_type": "display_data"
        }
      ],
      "source": [
        "# --- VISUALIZAMOS LA INFORMACION HASTA AHORA ---\n",
        "\n",
        "import matplotlib.pyplot as plt\n",
        "import seaborn as sns\n",
        "\n",
        "# Crear la figura y los subgráficos\n",
        "fig, axes = plt.subplots(2, 2, figsize=(15, 12))\n",
        "\n",
        "# --- 1. DISTRIBUCIÓN DE LOS SENTIMIENTOS ---\n",
        "sentiment_counts = df['Sentiment_category'].value_counts()\n",
        "sentiment_counts.plot(kind='bar', color=['skyblue', 'lightgreen', 'lightcoral', 'lightyellow'], ax=axes[0, 0])\n",
        "axes[0, 0].set_title('Distribución de los Sentimientos', fontsize=14)\n",
        "axes[0, 0].set_xlabel('Categoría de Sentimiento', fontsize=12)\n",
        "axes[0, 0].set_ylabel('Número de Comentarios', fontsize=12)\n",
        "axes[0, 0].tick_params(axis='x', rotation=45)\n",
        "\n",
        "# --- 2. FRECUENCIA DE COMENTARIOS POR FECHA ---\n",
        "df['Date'] = pd.to_datetime(df['Date'], errors='coerce')\n",
        "comments_by_date = df.groupby(df['Date'].dt.date).size()\n",
        "comments_by_date.plot(kind='line', color='teal', marker='o', ax=axes[0, 1])\n",
        "axes[0, 1].set_title('Frecuencia de Comentarios por Fecha', fontsize=14)\n",
        "axes[0, 1].set_xlabel('Fecha', fontsize=12)\n",
        "axes[0, 1].set_ylabel('Número de Comentarios', fontsize=12)\n",
        "axes[0, 1].tick_params(axis='x', rotation=45)\n",
        "axes[0, 1].grid(True)\n",
        "\n",
        "# --- 3. COMENTARIOS POR USUARIO Y SENTIMIENTO (BARRAS APILADAS) ---\n",
        "user_comments = df.groupby('User')['Sentiment_category'].value_counts().unstack().fillna(0)\n",
        "user_comments.plot(kind='bar', stacked=True, figsize=(12, 8), colormap='tab20c', ax=axes[1, 0])\n",
        "axes[1, 0].set_title('Comentarios por Usuario y Sentimiento', fontsize=14)\n",
        "axes[1, 0].set_xlabel('Usuario', fontsize=12)\n",
        "axes[1, 0].set_ylabel('Número de Comentarios', fontsize=12)\n",
        "axes[1, 0].tick_params(axis='x', rotation=45)\n",
        "axes[1, 0].legend(title='Sentimiento', bbox_to_anchor=(1.05, 1), loc='upper left')\n",
        "\n",
        "# --- 4. MAPA DE CALOR DE COMENTARIOS POR USUARIO Y SENTIMIENTO ---\n",
        "user_sentiment_matrix = pd.crosstab(df['User'], df['Sentiment_category'])\n",
        "sns.heatmap(user_sentiment_matrix, annot=True, fmt='d', cmap='coolwarm', cbar=False, ax=axes[1, 1])\n",
        "axes[1, 1].set_title('Mapa de Calor de Comentarios por Usuario y Sentimiento', fontsize=14)\n",
        "axes[1, 1].set_xlabel('Sentimiento', fontsize=12)\n",
        "axes[1, 1].set_ylabel('Usuario', fontsize=12)\n",
        "\n",
        "# Ajustar el layout para que no se sobrepongan los elementos\n",
        "plt.tight_layout()\n",
        "\n",
        "# Mostrar todos los gráficos\n",
        "plt.show()\n"
      ]
    },
    {
      "cell_type": "code",
      "execution_count": 256,
      "id": "b3347c4c",
      "metadata": {
        "colab": {
          "base_uri": "https://localhost:8080/",
          "height": 1000,
          "referenced_widgets": [
            "4d54e6ddac5b4d90b3899253d389e8eb",
            "273b85caa39840a38710c30d9a3a6546",
            "eb3eade01f824c0282b83698c7588b91",
            "aae317eda44044e996b02def0e7516ed",
            "f35a24fd7f584b40adbbdae49589dda5",
            "012ce132525342c69cb537e8a3c6795a",
            "f9f193af537644d0b71aa51fd46982f5",
            "895271c857cb4343bf351b7c84060d59",
            "c7315907ada24a559f16e8214d39de17",
            "6d7bbef9a3c54d329311971626bbd9cb",
            "b80aa7cdaa074e9d9924b5b448166552",
            "c4f8f3d65d4943e2ace75c1bd4e90942",
            "add06bb1018a434c8622df1cb8c29df3",
            "b8b4b9d2d6a746fe9f1dce60bdbfc5d6",
            "e11e83c8beb245a4be4f63118c3c1a7d",
            "897edf66789b45dba4bfe7599554c1eb",
            "4decee2bd7894f98986a1ff38dd31034",
            "fc90a1a82945469c9439852736e3c866",
            "fcdcd7266ea04995adc42c5d3ac9ffdb",
            "38fd3cea08604a09916f6588ef7636ab",
            "c3f34a7004cc4f1a9d4c664e61db7546",
            "484e2d0d35b94119a988ab28a5471952"
          ]
        },
        "id": "b3347c4c",
        "outputId": "c01d9b3a-3805-4edb-aed0-e5dcecbef816"
      },
      "outputs": [
        {
          "name": "stdout",
          "output_type": "stream",
          "text": [
            "Requirement already satisfied: stanza in /usr/local/lib/python3.11/dist-packages (1.10.1)\n",
            "Requirement already satisfied: emoji in /usr/local/lib/python3.11/dist-packages (from stanza) (2.14.1)\n",
            "Requirement already satisfied: numpy in /usr/local/lib/python3.11/dist-packages (from stanza) (1.26.4)\n",
            "Requirement already satisfied: protobuf>=3.15.0 in /usr/local/lib/python3.11/dist-packages (from stanza) (4.25.5)\n",
            "Requirement already satisfied: requests in /usr/local/lib/python3.11/dist-packages (from stanza) (2.32.3)\n",
            "Requirement already satisfied: networkx in /usr/local/lib/python3.11/dist-packages (from stanza) (3.4.2)\n",
            "Requirement already satisfied: torch>=1.3.0 in /usr/local/lib/python3.11/dist-packages (from stanza) (2.5.1+cu121)\n",
            "Requirement already satisfied: tqdm in /usr/local/lib/python3.11/dist-packages (from stanza) (4.67.1)\n",
            "Requirement already satisfied: filelock in /usr/local/lib/python3.11/dist-packages (from torch>=1.3.0->stanza) (3.16.1)\n",
            "Requirement already satisfied: typing-extensions>=4.8.0 in /usr/local/lib/python3.11/dist-packages (from torch>=1.3.0->stanza) (4.12.2)\n",
            "Requirement already satisfied: jinja2 in /usr/local/lib/python3.11/dist-packages (from torch>=1.3.0->stanza) (3.1.5)\n",
            "Requirement already satisfied: fsspec in /usr/local/lib/python3.11/dist-packages (from torch>=1.3.0->stanza) (2024.10.0)\n",
            "Requirement already satisfied: nvidia-cuda-nvrtc-cu12==12.1.105 in /usr/local/lib/python3.11/dist-packages (from torch>=1.3.0->stanza) (12.1.105)\n",
            "Requirement already satisfied: nvidia-cuda-runtime-cu12==12.1.105 in /usr/local/lib/python3.11/dist-packages (from torch>=1.3.0->stanza) (12.1.105)\n",
            "Requirement already satisfied: nvidia-cuda-cupti-cu12==12.1.105 in /usr/local/lib/python3.11/dist-packages (from torch>=1.3.0->stanza) (12.1.105)\n",
            "Requirement already satisfied: nvidia-cudnn-cu12==9.1.0.70 in /usr/local/lib/python3.11/dist-packages (from torch>=1.3.0->stanza) (9.1.0.70)\n",
            "Requirement already satisfied: nvidia-cublas-cu12==12.1.3.1 in /usr/local/lib/python3.11/dist-packages (from torch>=1.3.0->stanza) (12.1.3.1)\n",
            "Requirement already satisfied: nvidia-cufft-cu12==11.0.2.54 in /usr/local/lib/python3.11/dist-packages (from torch>=1.3.0->stanza) (11.0.2.54)\n",
            "Requirement already satisfied: nvidia-curand-cu12==10.3.2.106 in /usr/local/lib/python3.11/dist-packages (from torch>=1.3.0->stanza) (10.3.2.106)\n",
            "Requirement already satisfied: nvidia-cusolver-cu12==11.4.5.107 in /usr/local/lib/python3.11/dist-packages (from torch>=1.3.0->stanza) (11.4.5.107)\n",
            "Requirement already satisfied: nvidia-cusparse-cu12==12.1.0.106 in /usr/local/lib/python3.11/dist-packages (from torch>=1.3.0->stanza) (12.1.0.106)\n",
            "Requirement already satisfied: nvidia-nccl-cu12==2.21.5 in /usr/local/lib/python3.11/dist-packages (from torch>=1.3.0->stanza) (2.21.5)\n",
            "Requirement already satisfied: nvidia-nvtx-cu12==12.1.105 in /usr/local/lib/python3.11/dist-packages (from torch>=1.3.0->stanza) (12.1.105)\n",
            "Requirement already satisfied: triton==3.1.0 in /usr/local/lib/python3.11/dist-packages (from torch>=1.3.0->stanza) (3.1.0)\n",
            "Requirement already satisfied: sympy==1.13.1 in /usr/local/lib/python3.11/dist-packages (from torch>=1.3.0->stanza) (1.13.1)\n",
            "Requirement already satisfied: nvidia-nvjitlink-cu12 in /usr/local/lib/python3.11/dist-packages (from nvidia-cusolver-cu12==11.4.5.107->torch>=1.3.0->stanza) (12.6.85)\n",
            "Requirement already satisfied: mpmath<1.4,>=1.1.0 in /usr/local/lib/python3.11/dist-packages (from sympy==1.13.1->torch>=1.3.0->stanza) (1.3.0)\n",
            "Requirement already satisfied: charset-normalizer<4,>=2 in /usr/local/lib/python3.11/dist-packages (from requests->stanza) (3.4.1)\n",
            "Requirement already satisfied: idna<4,>=2.5 in /usr/local/lib/python3.11/dist-packages (from requests->stanza) (3.10)\n",
            "Requirement already satisfied: urllib3<3,>=1.21.1 in /usr/local/lib/python3.11/dist-packages (from requests->stanza) (2.3.0)\n",
            "Requirement already satisfied: certifi>=2017.4.17 in /usr/local/lib/python3.11/dist-packages (from requests->stanza) (2024.12.14)\n",
            "Requirement already satisfied: MarkupSafe>=2.0 in /usr/local/lib/python3.11/dist-packages (from jinja2->torch>=1.3.0->stanza) (3.0.2)\n"
          ]
        },
        {
          "data": {
            "application/vnd.jupyter.widget-view+json": {
              "model_id": "4d54e6ddac5b4d90b3899253d389e8eb",
              "version_major": 2,
              "version_minor": 0
            },
            "text/plain": [
              "Downloading https://raw.githubusercontent.com/stanfordnlp/stanza-resources/main/resources_1.10.0.json:   0%|  …"
            ]
          },
          "metadata": {},
          "output_type": "display_data"
        },
        {
          "name": "stderr",
          "output_type": "stream",
          "text": [
            "INFO:stanza:Downloaded file to /root/stanza_resources/resources.json\n",
            "INFO:stanza:Downloading default packages for language: en (English) ...\n",
            "INFO:stanza:File exists: /root/stanza_resources/en/default.zip\n",
            "INFO:stanza:Finished downloading models and saved to /root/stanza_resources\n",
            "INFO:stanza:Checking for updates to resources.json in case models have been updated.  Note: this behavior can be turned off with download_method=None or download_method=DownloadMethod.REUSE_RESOURCES\n"
          ]
        },
        {
          "data": {
            "application/vnd.jupyter.widget-view+json": {
              "model_id": "c4f8f3d65d4943e2ace75c1bd4e90942",
              "version_major": 2,
              "version_minor": 0
            },
            "text/plain": [
              "Downloading https://raw.githubusercontent.com/stanfordnlp/stanza-resources/main/resources_1.10.0.json:   0%|  …"
            ]
          },
          "metadata": {},
          "output_type": "display_data"
        },
        {
          "name": "stderr",
          "output_type": "stream",
          "text": [
            "INFO:stanza:Downloaded file to /root/stanza_resources/resources.json\n",
            "WARNING:stanza:Language en package default expects mwt, which has been added\n",
            "INFO:stanza:Loading these models for language: en (English):\n",
            "=================================\n",
            "| Processor | Package           |\n",
            "---------------------------------\n",
            "| tokenize  | combined          |\n",
            "| mwt       | combined          |\n",
            "| lemma     | combined_nocharlm |\n",
            "=================================\n",
            "\n",
            "INFO:stanza:Using device: cuda\n",
            "INFO:stanza:Loading: tokenize\n",
            "INFO:stanza:Loading: mwt\n",
            "INFO:stanza:Loading: lemma\n",
            "INFO:stanza:Done loading processors!\n"
          ]
        },
        {
          "name": "stdout",
          "output_type": "stream",
          "text": [
            "Columnas disponibles: ['Comment', 'Cleaned_Comment']\n"
          ]
        }
      ],
      "source": [
        "#### APLICAMOS STANZA y LDA ###\n",
        "!pip install stanza\n",
        "\n",
        "import stanza\n",
        "import pandas as pd\n",
        "\n",
        "\n",
        "# Inicializar Stanza\n",
        "stanza.download('en')  # Solo la primera vez\n",
        "nlp = stanza.Pipeline('en', processors='tokenize,lemma')  # Reducir procesadores si es necesario\n",
        "\n",
        "# Función para procesar con Stanza\n",
        "\n",
        "def process_with_stanza(text):\n",
        "    if not text or pd.isna(text):  # Manejar valores vacíos o nulos\n",
        "        return \"\"\n",
        "    doc = nlp(text)\n",
        "    lemmatized_text = \" \".join([word.lemma for sent in doc.sentences for word in sent.words])\n",
        "    return lemmatized_text\n",
        "'''\n",
        "# Crear DataFrame de ejemplo (para verificar que estanza funciona)\n",
        "df = pd.DataFrame({'Cleaned_Comment': [\"This is a test.\", \"Stanza works well!\", \"Lemmatization is useful.\", None]})\n",
        "\n",
        "# Aplicar la función con Stanza\n",
        "df['Lemmatized_Comment'] = df['Cleaned_Comment'].apply(process_with_stanza)\n",
        "\n",
        "# Verificar los resultados\n",
        "print(df)\n",
        "'''\n",
        "# Cargar el dataset desde el archivo Excel\n",
        "file_path = '/content/sample_data/cleaned_comments_output.xlsx'  # Ruta del archivo\n",
        "df = pd.read_excel(file_path)\n",
        "\n",
        "# Verificar que las columnas existen\n",
        "print(\"Columnas disponibles:\", df.columns.tolist())\n",
        "\n",
        "# Aplicar la lematización a la columna 'Cleaned_Comment'\n",
        "df['Lemmatized_Comment'] = df['Cleaned_Comment'].apply(process_with_stanza)"
      ]
    },
    {
      "cell_type": "code",
      "execution_count": 257,
      "id": "66b1181e",
      "metadata": {
        "colab": {
          "base_uri": "https://localhost:8080/"
        },
        "id": "66b1181e",
        "outputId": "c5190e26-9868-4532-92f2-715bd2d5e4a2"
      },
      "outputs": [
        {
          "name": "stdout",
          "output_type": "stream",
          "text": [
            "                                                                                                                                                                                                                                                                                                                                                                                                                                                                                                                                                                                                                                                                                                                                                                                                                                                                                                                                                                                                                                                                                                                                                                                                                                                                                                                                                                                                                                                                                                                                                                                                                                                                                                                                                                                                                                                                                                                                                                                                                                                                                                                                    Cleaned_Comment  \\\n",
            "0  it isn't clear to me that we should expose check outside of a multitransaction.that's a valid point. i did it for completeness, but there's really no need to have a check op outside a multi op. it would clean up the code as well if i removed it. i'll try to get that done tonight as well.   should we also have an asynchronous version?agreed. ted's created a new jira case for this.   i think we also need an asynchronous version.agreed. ted's created a new jira case for this.   if stat didn't return anything, we could skip this altogether. if we are going to return something, should we return more than the version?i'm not sure i understand... can you elaborate ?   i don't think we want to log this at all do we?agreed. i'll clean that up tonight.   don't use tabs. spaces!sorry... at my day job we use tabs (i know) and i forgot to switch my settings around -- i'm usually very careful about that ;-).   i think we are only half atomic here. if the multi txn fails half way through, it will not be applied to the database, but we will still have recorded it as pending, so we may fail later changes.  for example, if there is a create for a znode that would otherwise succeed, but fails do to a later (in the multi txn) check failing. there will be a pending change record created, so even though the create failed, later creates to that znode will result in a node exists error.i thought not applying it to the database was sufficient, but perhaps i'm wrong. i thought the pending change records would get discarded if the multi op failed. do i need to do that explicitly somehow? what are your thoughts on how to deal with this?   i don't think we should use txnheader since all we need is the type.agreed. i'll see about refactoring that.   shouldn't this be a unionit originally was a union but i ran into some annoyances when trying to use the c api from c++ code as c++ won't let you use designated initializers unless you compile with a newer --std flag (which, when enabled, caused other zookeeper code not to compile from c++). e.g. you get warnings   \n",
            "1                                                                                                                                                                                                                                                                                                                                                                         what would you say about deferring this to a separate jira?does the separate jira you created address both of benjamin's async requests? i think he wanted an async multi method as well as an async commit method...?- marshall-----------------------------------------------------------this is an automatically generated e-mail. to reply, visit:https://reviews.apache.org/r/739/#review706-----------------------------------------------------------     -----------------------------------------------------------  this is an automatically generated e-mail. to reply, visit:  https://reviews.apache.org/r/739/  -----------------------------------------------------------    (updated 2011-05-19 02:13:14)      review request for zookeeper and benjamin reed.      summary  -------    this mega-patch adds the multi-op capability to zk. this allows a batch of create, delete, update or version-check operations to   succeed or fail together. both c and java bindings are provided.      this addresses bug zookeeper-965.  https://issues.apache.org/jira/browse/zookeeper-965      diffs  -----      65830fe     843032f     c055edb     db715b0     pre-creation     f9441ea     a75dce6     pre-creation     pre-creation     pre-creation     pre-creation     pre-creation     832976f     00b4012     d16537e     2538cf7     50f208d     a5c57e2     5c3e8ff     8ece929     3ec7656     49affd5     0ad4dd6     pre-creation     pre-creation     pre-creation     7d96f32     diff: https://reviews.apache.org/r/739/diff      testing  -------    a number of unit tests have been implemented. test coverage is very good.    a sample application has been written to do simple operations on a graph of nodes.      thanks,    ted   \n",
            "2                                                                                                                                                                                                                                                                                                                                                                                                                                                                                                                                                                                                                         are people just supposed to create their own new zookeeperpurger and call start on it? i don't see any hooks for starting this anywhere, or even a main method to use to start it. would be nice to give that to people so they have a utility they can run easily.heh, you beat me to it. ;-) i think it should be started by the server, but the config defaults should have it turned off (time=0) by default. (more in my comments)- patrick-----------------------------------------------------------this is an automatically generated e-mail. to reply, visit:https://reviews.apache.org/r/1043/#review1000-----------------------------------------------------------     -----------------------------------------------------------  this is an automatically generated e-mail. to reply, visit:  https://reviews.apache.org/r/1043/  -----------------------------------------------------------    (updated 2011-07-07 23:10:13)      review request for zookeeper, patrick hunt, benjamin reed, and mahadev konar.      summary  -------    i like to have zk itself manage the amount of snapshots and logs kept, instead of relying on the purgetxnlog utility.      this addresses bug zookeeper-1107.  https://issues.apache.org/jira/browse/zookeeper-1107      diffs  -----    ./conf/zoo_sample.cfg 1141901   ./  pre-creation   ./  1141901   ./  pre-creation     diff: https://reviews.apache.org/r/1043/diff      testing  -------    test added, passing hudson qa bot.      thanks,    patrick   \n",
            "3                                                                                                                                                                                                                                                                                                                                                                                                                                                                                                                                                                                                                                                                                                                                                                                                                                                          ./ , lines 74-77   move this check to the start method.  1) info level log if turned off 2) exit the thread if turned offsorry, meant exit the start method if turned off (don't start the timer/task).- patrick-----------------------------------------------------------this is an automatically generated e-mail. to reply, visit:https://reviews.apache.org/r/1043/#review998-----------------------------------------------------------     -----------------------------------------------------------  this is an automatically generated e-mail. to reply, visit:  https://reviews.apache.org/r/1043/  -----------------------------------------------------------    (updated 2011-07-07 23:10:13)      review request for zookeeper, patrick hunt, benjamin reed, and mahadev konar.      summary  -------    i like to have zk itself manage the amount of snapshots and logs kept, instead of relying on the purgetxnlog utility.      this addresses bug zookeeper-1107.  https://issues.apache.org/jira/browse/zookeeper-1107      diffs  -----    ./conf/zoo_sample.cfg 1141901   ./  pre-creation   ./  1141901   ./  pre-creation     diff: https://reviews.apache.org/r/1043/diff      testing  -------    test added, passing hudson qa bot.      thanks,    patrick   \n",
            "4                                                                                                                                                                                                                                                                                                                                                       the documentation ( ) need to be updated - specifically the cleanup section in the admin guide.  have you considered hooking this into jmx or the 4letterwords? it would be nice for operators to get basic information. in jmx they could also control the settings... consider for a follow-on jira?fixed the documentation part.@pat: i guess i'm not clear about how \"hooking into jmx or 4 letter-words\" will be helpful. can you please explain this idea? i can takeup this task in separate jira. ./conf/zoo_sample.cfg, lines 15-21   my personal belief is that this should be turned off by default - i.e. comment out the parameters in the sample config.fixed. also, renamed the configuration keys to make them inline with existing. ./  nice!corrected code format issues. ./ , lines 384-385   what does \"time\" refer to. elapsed time? what are the units.fixed. ./ , lines 374-375   the docs should reflect that this only controls the number of snaps to keep, the logs are purged based on the corresponding purged snaps.fixed. comments are moved to applicable class datadircleanupmanager and also documented in admin guide as suggested. ./  specify explicit default - e.g. 0.fixed. ./  specify explicit default, 3?fixed. ./  zookeeper should be referred to as \"zookeeper\"fixed. redundant information in logs has been removed. ./  i would rather we check if the state is started. (log warning if not)fixed. ./  given we are tracking the state shouldn't we be testing that here?fixed. ./  i see tests, which is great, however where is this method being called in zookeeper server code proper? (what i mean is the server doesn't seem to be running this)called in quorumpeermain. changes included in the latest patch.   on 2011-07-07 23:   \n",
            "\n",
            "                                                                                                                                                                                                                                                                                                                                                                                                                                                                                                                                                                                                                                                                                                                                                                                                                                                                                                                                                                                                                                                                                                                                                                                                                                                                                                                                                                                                                                                                                                                                                                                                                                                                                                                                                                                                                                                                                                                                                                                                                                                                                                                         Lemmatized_Comment  \n",
            "0  it be not clear to I that we should expose check outside of a multitransaction . that 's a valid point . I do it for completeness , but there 's really no need to have a check op outside a multi op . it would clean up the code as well if I remove it . I will try to get that do tonight as well . should we also have a asynchronous version ? agree . ted 's create a new jira case for this . I think we also need a asynchronous version . agree . ted 's create a new jira case for this . if stat do not return anything , we could skip this altogether . if we be go to return something , should we return more than the version ? I be not sure I understand ... can you elaborate ? I do not think we want to log this at all do we ? agree . I will clean that up tonight . do not use tabs . space ! sorry ... at my day job we use tabs ( I know ) and I forget to switch my setting around -- I be usually very careful about that ;-) . I think we be only half atomic here . if the multi txn fail half way through , it will not be apply to the database , but we will still have record it as pend , so we may fail late change . for example , if there be a create for a znode that would otherwise succeed , but fail do to a late ( in the multi txn ) check fail . there will be a pend change record create , so even though the create fail , late create to that znode will result in a node exist error . I think not apply it to the database be sufficient , but perhaps I be wrong . I think the pend change record would get discard if the multi op fail . do I need to do that explicitly somehow ? what be your thought on how to deal with this ? I do not think we should use txnheader since all we need be the type.agreed . I will see about refactoring that . should not this be a unionit originally be a union but I run into some annoyance when try to use the c api from c++ code as c ++ will not let you use designate initializer unless you compile with a new -- std flag ( which , when enable , cause other zookeeper code not to compile from c ++ ) . e.g. you get warning  \n",
            "1                                                                                                                                                                                                                                                                                                                                                                                                                                                                                                                                          what would you say about deferring this to a separate jira ? do the separate jira you create address both of benjamin 's async request ? I think he want a async multi method as well as a async commit method ...?- marshall----------------------------------------------------------- this be a automatically generate e-mail . to reply , visit: https://reviews.apache.org/r/739/#review706----------------------------------------------------------- ----------------------------------------------------------- this be a automatically generate e-mail . to reply , visit : https://reviews.apache.org/r/739/ ----------------------------------------------------------- ( update 2011-05-19 02:13:14 ) review request for zookeeper and benjamin reed . summary ------- this mega - patch add the multi - op capability to zk . this allow a batch of create , delete , update or version - check operation to succeed or fail together . both c and java binding be provide . this address bug zookeeper - 965 . https://issues.apache.org/jira/browse/zookeeper-965 diff ----- 65830fe 843032f c055edb db715b0 pre-creation f9441ea a75dce6 pre-creation pre-creation pre-creation pre-creation pre-creation 832976f 00b4012 d16537e 2538cf7 50f208d a5c57e2 5c3e8ff 8ece929 3ec7656 49affd5 0ad4dd6 pre-creation pre-creation pre-creation 7d96f32 diff : https://reviews.apache.org/r/739/diff testing ------- a number of unit test have be implement . test coverage be very good . a sample application have be write to do simple operation on a graph of node . thanks , ted  \n",
            "2                                                                                                                                                                                                                                                                                                                                                                                                                                                                                                                                                                                                                                                                                be person just suppose to create their own new zookeeperpurger and call start on it ? I do not see any hook for start this anywhere , or even a main method to use to start it . would be nice to give that to person so they have a utility they can run easily . heh , you beat I to it . ;-) I think it should be start by the server , but the config default should have it turn off ( time=0 ) by default . ( more in my comment ) - patrick----------------------------------------------------------- this be a automatically generate e-mail . to reply , visit: https://reviews.apache.org/r/1043/#review1000----------------------------------------------------------- ----------------------------------------------------------- this be a automatically generate e-mail . to reply , visit : https://reviews.apache.org/r/1043/ ----------------------------------------------------------- ( update 2011-07-07 23:10:13 ) review request for zookeeper , patrick hunt , benjamin reed , and mahadev konar . summary ------- I like to have zk itself manage the amount of snapshot and log keep , instead of rely on the purgetxnlog utility . this address bug zookeeper - 1107 . https://issues.apache.org/jira/browse/zookeeper-1107 diff ----- ./conf/zoo_sample.cfg 1141901 ./ pre-creation ./ 1141901 ./ pre-creation diff : https://reviews.apache.org/r/1043/diff testing ------- test add , pass hudson qa bot . thanks , patrick  \n",
            "3                                                                                                                                                                                                                                                                                                                                                                                                                                                                                                                                                                                                                                                                                                                                                                                                                                                                                                                  ./ , line 74 - 77 move this check to the start method . 1 ) info level log if turn off 2 ) exit the thread if turn offsorry , mean exit the start method if turn off ( do not start the timer / task ) .- patrick----------------------------------------------------------- this be a automatically generate e-mail . to reply , visit: https://reviews.apache.org/r/1043/#review998----------------------------------------------------------- ----------------------------------------------------------- this be a automatically generate e-mail . to reply , visit : https://reviews.apache.org/r/1043/ ----------------------------------------------------------- ( update 2011-07-07 23:10:13 ) review request for zookeeper , patrick hunt , benjamin reed , and mahadev konar . summary ------- I like to have zk itself manage the amount of snapshot and log keep , instead of rely on the purgetxnlog utility . this address bug zookeeper - 1107 . https://issues.apache.org/jira/browse/zookeeper-1107 diff ----- ./conf/zoo_sample.cfg 1141901 ./ pre-creation ./ 1141901 ./ pre-creation diff : https://reviews.apache.org/r/1043/diff testing ------- test add , pass hudson qa bot . thanks , patrick  \n",
            "4                                                                                                                                                                                                                                                                                                                                                                                    the documentation ( ) need to be update - specifically the cleanup section in the admin guide . have you consider hook this into jmx or the 4letterword ? it would be nice for operator to get basic information . in jmx they could also control the setting ... consider for a follow - on jira ? fix the documentation part.@pat : I guess I be not clear about how \" hook into jmx or 4 letter - word \" will be helpful . can you please explain this idea ? I can takeup this task in separate jira . ./conf/zoo_sample.cfg , line 15 - 21 my personal belief be that this should be turn off by default - i.e. comment out the parameter in the sample config. fix . also , rename the configuration key to make they inline with exist . ./ nice ! correct code format issue . ./ , line 384 - 385 what do \" time \" refer to . elapse time ? what be the unit . fix . ./ , line 374 - 375 the doc should reflect that this only control the number of snap to keep , the log be purge base on the corresponding purge snap . fix . comment be move to applicable class datadircleanupmanager and also document in admin guide as suggest . ./ specify explicit default - e.g. 0. fix . ./ specify explicit default , 3 ? fix . ./ zookeeper should be refer to as \" zookeeper \" fix . redundant information in log have be remove . ./ I would rather we check if the state be start . ( log warning if not ) fix . ./ give we be tracking the state should not we be testing that here ? fix . ./ I see test , which be great , however where be this method be call in zookeeper server code proper ? ( what I mean be the server do not seem to be run this ) call in quorumpeermain . change include in the late patch . on 2011-07-07 23 :  \n",
            "Archivo actualizado con éxito: /content/sample_data/cleaned_comments_output.xlsx\n"
          ]
        }
      ],
      "source": [
        "# Verificar los resultados (opcional)\n",
        "print(df[['Cleaned_Comment', 'Lemmatized_Comment']].head())\n",
        "\n",
        "# Exportar el DataFrame actualizado al mismo archivo\n",
        "output_path = '/content/sample_data/cleaned_comments_output.xlsx'  # Archivo original\n",
        "df.to_excel(output_path, index=False)\n",
        "print(f\"Archivo actualizado con éxito: {output_path}\")"
      ]
    },
    {
      "cell_type": "markdown",
      "id": "e0b989f9",
      "metadata": {
        "id": "e0b989f9"
      },
      "source": [
        "### SE PROCEDE A HACER EL ANÁLISIS DE SENTIMIENTO ####"
      ]
    },
    {
      "cell_type": "code",
      "execution_count": 260,
      "id": "16c0554f",
      "metadata": {
        "colab": {
          "base_uri": "https://localhost:8080/",
          "height": 670,
          "referenced_widgets": [
            "72203e613b0d4412a45e5455f3673fca",
            "44f6c524b2444c08991d4b09fb08ddb2",
            "8cab761448a048d1a1e87a500c950474",
            "35ccc3f20e3f4ecfa8a0131db28b8dc5",
            "803ffcba74404699b8af88d4348c3c06",
            "9e5ad5c282584a91a64507661a40c1f8",
            "265801c6526949f4846919152c778934",
            "8d51718818cf4baa98d45c29afd8f284",
            "a8ec4838b84e482a8b7fe002a8044d5f",
            "057c8aba00154d90b69f343419a2fee3",
            "05a4217565cc4ada82b718d63855e262"
          ]
        },
        "id": "16c0554f",
        "lines_to_next_cell": 1,
        "outputId": "3242791a-ed28-44e1-f4e9-9bbad06bb876"
      },
      "outputs": [
        {
          "name": "stderr",
          "output_type": "stream",
          "text": [
            "INFO:stanza:Checking for updates to resources.json in case models have been updated.  Note: this behavior can be turned off with download_method=None or download_method=DownloadMethod.REUSE_RESOURCES\n"
          ]
        },
        {
          "data": {
            "application/vnd.jupyter.widget-view+json": {
              "model_id": "72203e613b0d4412a45e5455f3673fca",
              "version_major": 2,
              "version_minor": 0
            },
            "text/plain": [
              "Downloading https://raw.githubusercontent.com/stanfordnlp/stanza-resources/main/resources_1.10.0.json:   0%|  …"
            ]
          },
          "metadata": {},
          "output_type": "display_data"
        },
        {
          "name": "stderr",
          "output_type": "stream",
          "text": [
            "INFO:stanza:Downloaded file to /root/stanza_resources/resources.json\n",
            "WARNING:stanza:Language en package default expects mwt, which has been added\n",
            "INFO:stanza:Loading these models for language: en (English):\n",
            "=================================\n",
            "| Processor | Package           |\n",
            "---------------------------------\n",
            "| tokenize  | combined          |\n",
            "| mwt       | combined          |\n",
            "| lemma     | combined_nocharlm |\n",
            "| sentiment | sstplus_charlm    |\n",
            "=================================\n",
            "\n",
            "INFO:stanza:Using device: cuda\n",
            "INFO:stanza:Loading: tokenize\n",
            "INFO:stanza:Loading: mwt\n",
            "INFO:stanza:Loading: lemma\n",
            "INFO:stanza:Loading: sentiment\n",
            "INFO:stanza:Done loading processors!\n"
          ]
        },
        {
          "name": "stdout",
          "output_type": "stream",
          "text": [
            "                                                                                                                                                                                                                                                                                                                                                                                                                                                                                                                                                                                                                                                                                                                                                                                                                                                                                                                                                                                                                                                                                                                                                                                                                                                                                                                                                                                                                                                                                                                                                                                                                                                                                                                                                                                                                                                                                                                                                                                                                                                                                                                         Lemmatized_Comment  \\\n",
            "0  it be not clear to I that we should expose check outside of a multitransaction . that 's a valid point . I do it for completeness , but there 's really no need to have a check op outside a multi op . it would clean up the code as well if I remove it . I will try to get that do tonight as well . should we also have a asynchronous version ? agree . ted 's create a new jira case for this . I think we also need a asynchronous version . agree . ted 's create a new jira case for this . if stat do not return anything , we could skip this altogether . if we be go to return something , should we return more than the version ? I be not sure I understand ... can you elaborate ? I do not think we want to log this at all do we ? agree . I will clean that up tonight . do not use tabs . space ! sorry ... at my day job we use tabs ( I know ) and I forget to switch my setting around -- I be usually very careful about that ;-) . I think we be only half atomic here . if the multi txn fail half way through , it will not be apply to the database , but we will still have record it as pend , so we may fail late change . for example , if there be a create for a znode that would otherwise succeed , but fail do to a late ( in the multi txn ) check fail . there will be a pend change record create , so even though the create fail , late create to that znode will result in a node exist error . I think not apply it to the database be sufficient , but perhaps I be wrong . I think the pend change record would get discard if the multi op fail . do I need to do that explicitly somehow ? what be your thought on how to deal with this ? I do not think we should use txnheader since all we need be the type.agreed . I will see about refactoring that . should not this be a unionit originally be a union but I run into some annoyance when try to use the c api from c++ code as c ++ will not let you use designate initializer unless you compile with a new -- std flag ( which , when enable , cause other zookeeper code not to compile from c ++ ) . e.g. you get warning   \n",
            "1                                                                                                                                                                                                                                                                                                                                                                                                                                                                                                                                          what would you say about deferring this to a separate jira ? do the separate jira you create address both of benjamin 's async request ? I think he want a async multi method as well as a async commit method ...?- marshall----------------------------------------------------------- this be a automatically generate e-mail . to reply , visit: https://reviews.apache.org/r/739/#review706----------------------------------------------------------- ----------------------------------------------------------- this be a automatically generate e-mail . to reply , visit : https://reviews.apache.org/r/739/ ----------------------------------------------------------- ( update 2011-05-19 02:13:14 ) review request for zookeeper and benjamin reed . summary ------- this mega - patch add the multi - op capability to zk . this allow a batch of create , delete , update or version - check operation to succeed or fail together . both c and java binding be provide . this address bug zookeeper - 965 . https://issues.apache.org/jira/browse/zookeeper-965 diff ----- 65830fe 843032f c055edb db715b0 pre-creation f9441ea a75dce6 pre-creation pre-creation pre-creation pre-creation pre-creation 832976f 00b4012 d16537e 2538cf7 50f208d a5c57e2 5c3e8ff 8ece929 3ec7656 49affd5 0ad4dd6 pre-creation pre-creation pre-creation 7d96f32 diff : https://reviews.apache.org/r/739/diff testing ------- a number of unit test have be implement . test coverage be very good . a sample application have be write to do simple operation on a graph of node . thanks , ted   \n",
            "2                                                                                                                                                                                                                                                                                                                                                                                                                                                                                                                                                                                                                                                                                be person just suppose to create their own new zookeeperpurger and call start on it ? I do not see any hook for start this anywhere , or even a main method to use to start it . would be nice to give that to person so they have a utility they can run easily . heh , you beat I to it . ;-) I think it should be start by the server , but the config default should have it turn off ( time=0 ) by default . ( more in my comment ) - patrick----------------------------------------------------------- this be a automatically generate e-mail . to reply , visit: https://reviews.apache.org/r/1043/#review1000----------------------------------------------------------- ----------------------------------------------------------- this be a automatically generate e-mail . to reply , visit : https://reviews.apache.org/r/1043/ ----------------------------------------------------------- ( update 2011-07-07 23:10:13 ) review request for zookeeper , patrick hunt , benjamin reed , and mahadev konar . summary ------- I like to have zk itself manage the amount of snapshot and log keep , instead of rely on the purgetxnlog utility . this address bug zookeeper - 1107 . https://issues.apache.org/jira/browse/zookeeper-1107 diff ----- ./conf/zoo_sample.cfg 1141901 ./ pre-creation ./ 1141901 ./ pre-creation diff : https://reviews.apache.org/r/1043/diff testing ------- test add , pass hudson qa bot . thanks , patrick   \n",
            "3                                                                                                                                                                                                                                                                                                                                                                                                                                                                                                                                                                                                                                                                                                                                                                                                                                                                                                                  ./ , line 74 - 77 move this check to the start method . 1 ) info level log if turn off 2 ) exit the thread if turn offsorry , mean exit the start method if turn off ( do not start the timer / task ) .- patrick----------------------------------------------------------- this be a automatically generate e-mail . to reply , visit: https://reviews.apache.org/r/1043/#review998----------------------------------------------------------- ----------------------------------------------------------- this be a automatically generate e-mail . to reply , visit : https://reviews.apache.org/r/1043/ ----------------------------------------------------------- ( update 2011-07-07 23:10:13 ) review request for zookeeper , patrick hunt , benjamin reed , and mahadev konar . summary ------- I like to have zk itself manage the amount of snapshot and log keep , instead of rely on the purgetxnlog utility . this address bug zookeeper - 1107 . https://issues.apache.org/jira/browse/zookeeper-1107 diff ----- ./conf/zoo_sample.cfg 1141901 ./ pre-creation ./ 1141901 ./ pre-creation diff : https://reviews.apache.org/r/1043/diff testing ------- test add , pass hudson qa bot . thanks , patrick   \n",
            "4                                                                                                                                                                                                                                                                                                                                                                                    the documentation ( ) need to be update - specifically the cleanup section in the admin guide . have you consider hook this into jmx or the 4letterword ? it would be nice for operator to get basic information . in jmx they could also control the setting ... consider for a follow - on jira ? fix the documentation part.@pat : I guess I be not clear about how \" hook into jmx or 4 letter - word \" will be helpful . can you please explain this idea ? I can takeup this task in separate jira . ./conf/zoo_sample.cfg , line 15 - 21 my personal belief be that this should be turn off by default - i.e. comment out the parameter in the sample config. fix . also , rename the configuration key to make they inline with exist . ./ nice ! correct code format issue . ./ , line 384 - 385 what do \" time \" refer to . elapse time ? what be the unit . fix . ./ , line 374 - 375 the doc should reflect that this only control the number of snap to keep , the log be purge base on the corresponding purge snap . fix . comment be move to applicable class datadircleanupmanager and also document in admin guide as suggest . ./ specify explicit default - e.g. 0. fix . ./ specify explicit default , 3 ? fix . ./ zookeeper should be refer to as \" zookeeper \" fix . redundant information in log have be remove . ./ I would rather we check if the state be start . ( log warning if not ) fix . ./ give we be tracking the state should not we be testing that here ? fix . ./ I see test , which be great , however where be this method be call in zookeeper server code proper ? ( what I mean be the server do not seem to be run this ) call in quorumpeermain . change include in the late patch . on 2011-07-07 23 :   \n",
            "\n",
            "   Sentiment_Score Sentiment_Category  \n",
            "0         0.642857            Neutral  \n",
            "1         1.250000            Neutral  \n",
            "2         0.857143            Neutral  \n",
            "3         1.000000            Neutral  \n",
            "4         0.285714           Negative  \n",
            "Archivo con análisis de sentimientos exportado con éxito.\n"
          ]
        }
      ],
      "source": [
        "#### SE PROCEDE A HACER EL ANÁLISIS DE SENTIMIENTO ####\n",
        "\n",
        "# Se incluye en el pipeline de Stanza incluye el procesador sentiment\n",
        "nlp = stanza.Pipeline('en', processors='tokenize,lemma,sentiment')\n",
        "\n",
        "\n",
        "def analyze_sentiment_with_stanza(text):\n",
        "    \"\"\"\n",
        "    Analiza el sentimiento del texto usando Stanza.\n",
        "    Devuelve un puntaje promedio de sentimiento (0: Negativo, 1: Neutral, 2: Positivo).\n",
        "    \"\"\"\n",
        "    if not text or pd.isna(text):  # Manejar valores vacíos\n",
        "        return 0  # Neutral\n",
        "    doc = nlp(text)\n",
        "    sentiment_scores = [sentence.sentiment for sentence in doc.sentences]\n",
        "    avg_sentiment = sum(sentiment_scores) / len(sentiment_scores) if sentiment_scores else 0\n",
        "    return avg_sentiment\n",
        "\n",
        "# Aplicar el análisis de sentimientos a la columna 'Lemmatized_Comment'\n",
        "df['Sentiment_Score'] = df['Lemmatized_Comment'].apply(analyze_sentiment_with_stanza)\n",
        "\n",
        "# Categorizar sentimientos\n",
        "def categorize_sentiment(score):\n",
        "    if score >= 1.5:\n",
        "        return \"Positive\"\n",
        "    elif score >= 0.5:\n",
        "        return \"Neutral\"\n",
        "    else:\n",
        "        return \"Negative\"\n",
        "\n",
        "df['Sentiment_Category'] = df['Sentiment_Score'].apply(categorize_sentiment)\n",
        "\n",
        "# Verificar los resultados\n",
        "print(df[['Lemmatized_Comment', 'Sentiment_Score', 'Sentiment_Category']].head())\n",
        "\n",
        "df.to_excel('/content/sample_data/sentiment_analysis_output.xlsx', index=False)\n",
        "print(\"Archivo con análisis de sentimientos exportado con éxito.\")\n",
        "\n"
      ]
    },
    {
      "cell_type": "markdown",
      "id": "9e47932d",
      "metadata": {
        "id": "9e47932d"
      },
      "source": [
        "Combinamos el resultado de sentiment_analysys_output.xlsx con el original de Kaggle para comparar resultados"
      ]
    },
    {
      "cell_type": "code",
      "execution_count": 263,
      "id": "e31ff115",
      "metadata": {
        "colab": {
          "base_uri": "https://localhost:8080/"
        },
        "id": "e31ff115",
        "outputId": "63a4cf16-2bc3-49b4-a86e-d5052b16b945"
      },
      "outputs": [
        {
          "name": "stdout",
          "output_type": "stream",
          "text": [
            "Index(['Comment', 'Benchmark_results_of_politeness',\n",
            "       'Benchmark_results_of_sentiment'],\n",
            "      dtype='object')\n",
            "Index(['Comment', 'Cleaned_Comment', 'Lemmatized_Comment', 'Sentiment_Score',\n",
            "       'Sentiment_Category'],\n",
            "      dtype='object')\n",
            "Index(['Comment', 'Benchmark_results_of_politeness',\n",
            "       'Benchmark_results_of_sentiment', 'Comment', 'Cleaned_Comment',\n",
            "       'Lemmatized_Comment', 'Sentiment_Score', 'Sentiment_Category'],\n",
            "      dtype='object')\n"
          ]
        }
      ],
      "source": [
        "import pandas as pd\n",
        "\n",
        "# Leer los archivos\n",
        "df1 = pd.read_excel('/content/sample_data/ZooKeeper_Project_Dataset.xlsx')\n",
        "df2 = pd.read_excel('/content/sample_data/sentiment_analysis_output.xlsx')\n",
        "\n",
        "# Ver los nombres de las columnas\n",
        "print(df1.columns)\n",
        "print(df2.columns)\n",
        "\n",
        "# Concatenar los DataFrames\n",
        "df_concatenado = pd.concat([df1, df2], axis=1)\n",
        "print(df_concatenado.columns)\n",
        "\n",
        "# Guardar el resultado\n",
        "df_concatenado.to_excel('/content/sample_data/Análisis_final.xlsx', index=False)"
      ]
    },
    {
      "cell_type": "markdown",
      "id": "d0e95c49",
      "metadata": {
        "id": "d0e95c49"
      },
      "source": [
        "### VISUALIZAMOS RESULTADOS STANZA ####"
      ]
    },
    {
      "cell_type": "code",
      "execution_count": 264,
      "id": "fe8ca02f",
      "metadata": {
        "colab": {
          "base_uri": "https://localhost:8080/",
          "height": 343
        },
        "id": "fe8ca02f",
        "outputId": "b53e06af-0b90-4976-fbc3-2afac55cfe05"
      },
      "outputs": [
        {
          "data": {
            "image/png": "[encoded data removed]",
            "text/plain": [
              "<Figure size 1500x500 with 2 Axes>"
            ]
          },
          "metadata": {},
          "output_type": "display_data"
        }
      ],
      "source": [
        "import matplotlib.pyplot as plt\n",
        "import seaborn as sns\n",
        "\n",
        "# ... (tu código para cargar los datos y crear los DataFrames) ...\n",
        "\n",
        "# Crear una figura con 1 fila y 2 columnas\n",
        "fig, axes = plt.subplots(nrows=1, ncols=2, figsize=(15, 5))\n",
        "\n",
        "# Gráfico 1: Distribución de Sentimientos\n",
        "sentiment_counts = df_concatenado['Sentiment_Category'].value_counts()\n",
        "sentiment_counts.plot(kind='bar', color=['green', 'red', 'blue'], ax=axes[0])\n",
        "axes[0].set_title('Distribución de Sentimientos')\n",
        "\n",
        "# Gráfico 2: Histograma de Puntajes de Sentimiento\n",
        "sns.histplot(df_concatenado['Sentiment_Score'], bins=20, kde=True, ax=axes[1])\n",
        "axes[1].set_title('Distribución de Puntajes de Sentimiento')\n",
        "\n",
        "# Ajustar el espaciado entre subplots\n",
        "plt.tight_layout()\n",
        "plt.show()"
      ]
    }
  ],
  "metadata": {
    "accelerator": "GPU",
    "colab": {
      "gpuType": "T4",
      "provenance": []
    },
    "jupytext": {
      "cell_metadata_filter": "-all",
      "main_language": "python",
      "notebook_metadata_filter": "-all"
    },
    "kernelspec": {
      "display_name": "Python 3",
      "name": "python3"
    },
    "language_info": {
      "name": "python"
    },
    "widgets": {
      "application/vnd.jupyter.widget-state+json": {
        "012ce132525342c69cb537e8a3c6795a": {
          "model_module": "@jupyter-widgets/base",
          "model_module_version": "1.2.0",
          "model_name": "LayoutModel",
          "state": {
            "_model_module": "@jupyter-widgets/base",
            "_model_module_version": "1.2.0",
            "_model_name": "LayoutModel",
            "_view_count": null,
            "_view_module": "@jupyter-widgets/base",
            "_view_module_version": "1.2.0",
            "_view_name": "LayoutView",
            "align_content": null,
            "align_items": null,
            "align_self": null,
            "border": null,
            "bottom": null,
            "display": null,
            "flex": null,
            "flex_flow": null,
            "grid_area": null,
            "grid_auto_columns": null,
            "grid_auto_flow": null,
            "grid_auto_rows": null,
            "grid_column": null,
            "grid_gap": null,
            "grid_row": null,
            "grid_template_areas": null,
            "grid_template_columns": null,
            "grid_template_rows": null,
            "height": null,
            "justify_content": null,
            "justify_items": null,
            "left": null,
            "margin": null,
            "max_height": null,
            "max_width": null,
            "min_height": null,
            "min_width": null,
            "object_fit": null,
            "object_position": null,
            "order": null,
            "overflow": null,
            "overflow_x": null,
            "overflow_y": null,
            "padding": null,
            "right": null,
            "top": null,
            "visibility": null,
            "width": null
          }
        },
        "057c8aba00154d90b69f343419a2fee3": {
          "model_module": "@jupyter-widgets/base",
          "model_module_version": "1.2.0",
          "model_name": "LayoutModel",
          "state": {
            "_model_module": "@jupyter-widgets/base",
            "_model_module_version": "1.2.0",
            "_model_name": "LayoutModel",
            "_view_count": null,
            "_view_module": "@jupyter-widgets/base",
            "_view_module_version": "1.2.0",
            "_view_name": "LayoutView",
            "align_content": null,
            "align_items": null,
            "align_self": null,
            "border": null,
            "bottom": null,
            "display": null,
            "flex": null,
            "flex_flow": null,
            "grid_area": null,
            "grid_auto_columns": null,
            "grid_auto_flow": null,
            "grid_auto_rows": null,
            "grid_column": null,
            "grid_gap": null,
            "grid_row": null,
            "grid_template_areas": null,
            "grid_template_columns": null,
            "grid_template_rows": null,
            "height": null,
            "justify_content": null,
            "justify_items": null,
            "left": null,
            "margin": null,
            "max_height": null,
            "max_width": null,
            "min_height": null,
            "min_width": null,
            "object_fit": null,
            "object_position": null,
            "order": null,
            "overflow": null,
            "overflow_x": null,
            "overflow_y": null,
            "padding": null,
            "right": null,
            "top": null,
            "visibility": null,
            "width": null
          }
        },
        "05a4217565cc4ada82b718d63855e262": {
          "model_module": "@jupyter-widgets/controls",
          "model_module_version": "1.5.0",
          "model_name": "DescriptionStyleModel",
          "state": {
            "_model_module": "@jupyter-widgets/controls",
            "_model_module_version": "1.5.0",
            "_model_name": "DescriptionStyleModel",
            "_view_count": null,
            "_view_module": "@jupyter-widgets/base",
            "_view_module_version": "1.2.0",
            "_view_name": "StyleView",
            "description_width": ""
          }
        },
        "265801c6526949f4846919152c778934": {
          "model_module": "@jupyter-widgets/controls",
          "model_module_version": "1.5.0",
          "model_name": "DescriptionStyleModel",
          "state": {
            "_model_module": "@jupyter-widgets/controls",
            "_model_module_version": "1.5.0",
            "_model_name": "DescriptionStyleModel",
            "_view_count": null,
            "_view_module": "@jupyter-widgets/base",
            "_view_module_version": "1.2.0",
            "_view_name": "StyleView",
            "description_width": ""
          }
        },
        "273b85caa39840a38710c30d9a3a6546": {
          "model_module": "@jupyter-widgets/controls",
          "model_module_version": "1.5.0",
          "model_name": "HTMLModel",
          "state": {
            "_dom_classes": [],
            "_model_module": "@jupyter-widgets/controls",
            "_model_module_version": "1.5.0",
            "_model_name": "HTMLModel",
            "_view_count": null,
            "_view_module": "@jupyter-widgets/controls",
            "_view_module_version": "1.5.0",
            "_view_name": "HTMLView",
            "description": "",
            "description_tooltip": null,
            "layout": "IPY_MODEL_012ce132525342c69cb537e8a3c6795a",
            "placeholder": "​",
            "style": "IPY_MODEL_f9f193af537644d0b71aa51fd46982f5",
            "value": "Downloading https://raw.githubusercontent.com/stanfordnlp/stanza-resources/main/resources_1.10.0.json: "
          }
        },
        "35ccc3f20e3f4ecfa8a0131db28b8dc5": {
          "model_module": "@jupyter-widgets/controls",
          "model_module_version": "1.5.0",
          "model_name": "HTMLModel",
          "state": {
            "_dom_classes": [],
            "_model_module": "@jupyter-widgets/controls",
            "_model_module_version": "1.5.0",
            "_model_name": "HTMLModel",
            "_view_count": null,
            "_view_module": "@jupyter-widgets/controls",
            "_view_module_version": "1.5.0",
            "_view_name": "HTMLView",
            "description": "",
            "description_tooltip": null,
            "layout": "IPY_MODEL_057c8aba00154d90b69f343419a2fee3",
            "placeholder": "​",
            "style": "IPY_MODEL_05a4217565cc4ada82b718d63855e262",
            "value": " 424k/? [00:00&lt;00:00, 22.7MB/s]"
          }
        },
        "38fd3cea08604a09916f6588ef7636ab": {
          "model_module": "@jupyter-widgets/controls",
          "model_module_version": "1.5.0",
          "model_name": "ProgressStyleModel",
          "state": {
            "_model_module": "@jupyter-widgets/controls",
            "_model_module_version": "1.5.0",
            "_model_name": "ProgressStyleModel",
            "_view_count": null,
            "_view_module": "@jupyter-widgets/base",
            "_view_module_version": "1.2.0",
            "_view_name": "StyleView",
            "bar_color": null,
            "description_width": ""
          }
        },
        "44f6c524b2444c08991d4b09fb08ddb2": {
          "model_module": "@jupyter-widgets/controls",
          "model_module_version": "1.5.0",
          "model_name": "HTMLModel",
          "state": {
            "_dom_classes": [],
            "_model_module": "@jupyter-widgets/controls",
            "_model_module_version": "1.5.0",
            "_model_name": "HTMLModel",
            "_view_count": null,
            "_view_module": "@jupyter-widgets/controls",
            "_view_module_version": "1.5.0",
            "_view_name": "HTMLView",
            "description": "",
            "description_tooltip": null,
            "layout": "IPY_MODEL_9e5ad5c282584a91a64507661a40c1f8",
            "placeholder": "​",
            "style": "IPY_MODEL_265801c6526949f4846919152c778934",
            "value": "Downloading https://raw.githubusercontent.com/stanfordnlp/stanza-resources/main/resources_1.10.0.json: "
          }
        },
        "484e2d0d35b94119a988ab28a5471952": {
          "model_module": "@jupyter-widgets/controls",
          "model_module_version": "1.5.0",
          "model_name": "DescriptionStyleModel",
          "state": {
            "_model_module": "@jupyter-widgets/controls",
            "_model_module_version": "1.5.0",
            "_model_name": "DescriptionStyleModel",
            "_view_count": null,
            "_view_module": "@jupyter-widgets/base",
            "_view_module_version": "1.2.0",
            "_view_name": "StyleView",
            "description_width": ""
          }
        },
        "4d54e6ddac5b4d90b3899253d389e8eb": {
          "model_module": "@jupyter-widgets/controls",
          "model_module_version": "1.5.0",
          "model_name": "HBoxModel",
          "state": {
            "_dom_classes": [],
            "_model_module": "@jupyter-widgets/controls",
            "_model_module_version": "1.5.0",
            "_model_name": "HBoxModel",
            "_view_count": null,
            "_view_module": "@jupyter-widgets/controls",
            "_view_module_version": "1.5.0",
            "_view_name": "HBoxView",
            "box_style": "",
            "children": [
              "IPY_MODEL_273b85caa39840a38710c30d9a3a6546",
              "IPY_MODEL_eb3eade01f824c0282b83698c7588b91",
              "IPY_MODEL_aae317eda44044e996b02def0e7516ed"
            ],
            "layout": "IPY_MODEL_f35a24fd7f584b40adbbdae49589dda5"
          }
        },
        "4decee2bd7894f98986a1ff38dd31034": {
          "model_module": "@jupyter-widgets/base",
          "model_module_version": "1.2.0",
          "model_name": "LayoutModel",
          "state": {
            "_model_module": "@jupyter-widgets/base",
            "_model_module_version": "1.2.0",
            "_model_name": "LayoutModel",
            "_view_count": null,
            "_view_module": "@jupyter-widgets/base",
            "_view_module_version": "1.2.0",
            "_view_name": "LayoutView",
            "align_content": null,
            "align_items": null,
            "align_self": null,
            "border": null,
            "bottom": null,
            "display": null,
            "flex": null,
            "flex_flow": null,
            "grid_area": null,
            "grid_auto_columns": null,
            "grid_auto_flow": null,
            "grid_auto_rows": null,
            "grid_column": null,
            "grid_gap": null,
            "grid_row": null,
            "grid_template_areas": null,
            "grid_template_columns": null,
            "grid_template_rows": null,
            "height": null,
            "justify_content": null,
            "justify_items": null,
            "left": null,
            "margin": null,
            "max_height": null,
            "max_width": null,
            "min_height": null,
            "min_width": null,
            "object_fit": null,
            "object_position": null,
            "order": null,
            "overflow": null,
            "overflow_x": null,
            "overflow_y": null,
            "padding": null,
            "right": null,
            "top": null,
            "visibility": null,
            "width": null
          }
        },
        "6d7bbef9a3c54d329311971626bbd9cb": {
          "model_module": "@jupyter-widgets/base",
          "model_module_version": "1.2.0",
          "model_name": "LayoutModel",
          "state": {
            "_model_module": "@jupyter-widgets/base",
            "_model_module_version": "1.2.0",
            "_model_name": "LayoutModel",
            "_view_count": null,
            "_view_module": "@jupyter-widgets/base",
            "_view_module_version": "1.2.0",
            "_view_name": "LayoutView",
            "align_content": null,
            "align_items": null,
            "align_self": null,
            "border": null,
            "bottom": null,
            "display": null,
            "flex": null,
            "flex_flow": null,
            "grid_area": null,
            "grid_auto_columns": null,
            "grid_auto_flow": null,
            "grid_auto_rows": null,
            "grid_column": null,
            "grid_gap": null,
            "grid_row": null,
            "grid_template_areas": null,
            "grid_template_columns": null,
            "grid_template_rows": null,
            "height": null,
            "justify_content": null,
            "justify_items": null,
            "left": null,
            "margin": null,
            "max_height": null,
            "max_width": null,
            "min_height": null,
            "min_width": null,
            "object_fit": null,
            "object_position": null,
            "order": null,
            "overflow": null,
            "overflow_x": null,
            "overflow_y": null,
            "padding": null,
            "right": null,
            "top": null,
            "visibility": null,
            "width": null
          }
        },
        "72203e613b0d4412a45e5455f3673fca": {
          "model_module": "@jupyter-widgets/controls",
          "model_module_version": "1.5.0",
          "model_name": "HBoxModel",
          "state": {
            "_dom_classes": [],
            "_model_module": "@jupyter-widgets/controls",
            "_model_module_version": "1.5.0",
            "_model_name": "HBoxModel",
            "_view_count": null,
            "_view_module": "@jupyter-widgets/controls",
            "_view_module_version": "1.5.0",
            "_view_name": "HBoxView",
            "box_style": "",
            "children": [
              "IPY_MODEL_44f6c524b2444c08991d4b09fb08ddb2",
              "IPY_MODEL_8cab761448a048d1a1e87a500c950474",
              "IPY_MODEL_35ccc3f20e3f4ecfa8a0131db28b8dc5"
            ],
            "layout": "IPY_MODEL_803ffcba74404699b8af88d4348c3c06"
          }
        },
        "803ffcba74404699b8af88d4348c3c06": {
          "model_module": "@jupyter-widgets/base",
          "model_module_version": "1.2.0",
          "model_name": "LayoutModel",
          "state": {
            "_model_module": "@jupyter-widgets/base",
            "_model_module_version": "1.2.0",
            "_model_name": "LayoutModel",
            "_view_count": null,
            "_view_module": "@jupyter-widgets/base",
            "_view_module_version": "1.2.0",
            "_view_name": "LayoutView",
            "align_content": null,
            "align_items": null,
            "align_self": null,
            "border": null,
            "bottom": null,
            "display": null,
            "flex": null,
            "flex_flow": null,
            "grid_area": null,
            "grid_auto_columns": null,
            "grid_auto_flow": null,
            "grid_auto_rows": null,
            "grid_column": null,
            "grid_gap": null,
            "grid_row": null,
            "grid_template_areas": null,
            "grid_template_columns": null,
            "grid_template_rows": null,
            "height": null,
            "justify_content": null,
            "justify_items": null,
            "left": null,
            "margin": null,
            "max_height": null,
            "max_width": null,
            "min_height": null,
            "min_width": null,
            "object_fit": null,
            "object_position": null,
            "order": null,
            "overflow": null,
            "overflow_x": null,
            "overflow_y": null,
            "padding": null,
            "right": null,
            "top": null,
            "visibility": null,
            "width": null
          }
        },
        "895271c857cb4343bf351b7c84060d59": {
          "model_module": "@jupyter-widgets/base",
          "model_module_version": "1.2.0",
          "model_name": "LayoutModel",
          "state": {
            "_model_module": "@jupyter-widgets/base",
            "_model_module_version": "1.2.0",
            "_model_name": "LayoutModel",
            "_view_count": null,
            "_view_module": "@jupyter-widgets/base",
            "_view_module_version": "1.2.0",
            "_view_name": "LayoutView",
            "align_content": null,
            "align_items": null,
            "align_self": null,
            "border": null,
            "bottom": null,
            "display": null,
            "flex": null,
            "flex_flow": null,
            "grid_area": null,
            "grid_auto_columns": null,
            "grid_auto_flow": null,
            "grid_auto_rows": null,
            "grid_column": null,
            "grid_gap": null,
            "grid_row": null,
            "grid_template_areas": null,
            "grid_template_columns": null,
            "grid_template_rows": null,
            "height": null,
            "justify_content": null,
            "justify_items": null,
            "left": null,
            "margin": null,
            "max_height": null,
            "max_width": null,
            "min_height": null,
            "min_width": null,
            "object_fit": null,
            "object_position": null,
            "order": null,
            "overflow": null,
            "overflow_x": null,
            "overflow_y": null,
            "padding": null,
            "right": null,
            "top": null,
            "visibility": null,
            "width": null
          }
        },
        "897edf66789b45dba4bfe7599554c1eb": {
          "model_module": "@jupyter-widgets/base",
          "model_module_version": "1.2.0",
          "model_name": "LayoutModel",
          "state": {
            "_model_module": "@jupyter-widgets/base",
            "_model_module_version": "1.2.0",
            "_model_name": "LayoutModel",
            "_view_count": null,
            "_view_module": "@jupyter-widgets/base",
            "_view_module_version": "1.2.0",
            "_view_name": "LayoutView",
            "align_content": null,
            "align_items": null,
            "align_self": null,
            "border": null,
            "bottom": null,
            "display": null,
            "flex": null,
            "flex_flow": null,
            "grid_area": null,
            "grid_auto_columns": null,
            "grid_auto_flow": null,
            "grid_auto_rows": null,
            "grid_column": null,
            "grid_gap": null,
            "grid_row": null,
            "grid_template_areas": null,
            "grid_template_columns": null,
            "grid_template_rows": null,
            "height": null,
            "justify_content": null,
            "justify_items": null,
            "left": null,
            "margin": null,
            "max_height": null,
            "max_width": null,
            "min_height": null,
            "min_width": null,
            "object_fit": null,
            "object_position": null,
            "order": null,
            "overflow": null,
            "overflow_x": null,
            "overflow_y": null,
            "padding": null,
            "right": null,
            "top": null,
            "visibility": null,
            "width": null
          }
        },
        "8cab761448a048d1a1e87a500c950474": {
          "model_module": "@jupyter-widgets/controls",
          "model_module_version": "1.5.0",
          "model_name": "FloatProgressModel",
          "state": {
            "_dom_classes": [],
            "_model_module": "@jupyter-widgets/controls",
            "_model_module_version": "1.5.0",
            "_model_name": "FloatProgressModel",
            "_view_count": null,
            "_view_module": "@jupyter-widgets/controls",
            "_view_module_version": "1.5.0",
            "_view_name": "ProgressView",
            "bar_style": "success",
            "description": "",
            "description_tooltip": null,
            "layout": "IPY_MODEL_8d51718818cf4baa98d45c29afd8f284",
            "max": 52404,
            "min": 0,
            "orientation": "horizontal",
            "style": "IPY_MODEL_a8ec4838b84e482a8b7fe002a8044d5f",
            "value": 52404
          }
        },
        "8d51718818cf4baa98d45c29afd8f284": {
          "model_module": "@jupyter-widgets/base",
          "model_module_version": "1.2.0",
          "model_name": "LayoutModel",
          "state": {
            "_model_module": "@jupyter-widgets/base",
            "_model_module_version": "1.2.0",
            "_model_name": "LayoutModel",
            "_view_count": null,
            "_view_module": "@jupyter-widgets/base",
            "_view_module_version": "1.2.0",
            "_view_name": "LayoutView",
            "align_content": null,
            "align_items": null,
            "align_self": null,
            "border": null,
            "bottom": null,
            "display": null,
            "flex": null,
            "flex_flow": null,
            "grid_area": null,
            "grid_auto_columns": null,
            "grid_auto_flow": null,
            "grid_auto_rows": null,
            "grid_column": null,
            "grid_gap": null,
            "grid_row": null,
            "grid_template_areas": null,
            "grid_template_columns": null,
            "grid_template_rows": null,
            "height": null,
            "justify_content": null,
            "justify_items": null,
            "left": null,
            "margin": null,
            "max_height": null,
            "max_width": null,
            "min_height": null,
            "min_width": null,
            "object_fit": null,
            "object_position": null,
            "order": null,
            "overflow": null,
            "overflow_x": null,
            "overflow_y": null,
            "padding": null,
            "right": null,
            "top": null,
            "visibility": null,
            "width": null
          }
        },
        "9e5ad5c282584a91a64507661a40c1f8": {
          "model_module": "@jupyter-widgets/base",
          "model_module_version": "1.2.0",
          "model_name": "LayoutModel",
          "state": {
            "_model_module": "@jupyter-widgets/base",
            "_model_module_version": "1.2.0",
            "_model_name": "LayoutModel",
            "_view_count": null,
            "_view_module": "@jupyter-widgets/base",
            "_view_module_version": "1.2.0",
            "_view_name": "LayoutView",
            "align_content": null,
            "align_items": null,
            "align_self": null,
            "border": null,
            "bottom": null,
            "display": null,
            "flex": null,
            "flex_flow": null,
            "grid_area": null,
            "grid_auto_columns": null,
            "grid_auto_flow": null,
            "grid_auto_rows": null,
            "grid_column": null,
            "grid_gap": null,
            "grid_row": null,
            "grid_template_areas": null,
            "grid_template_columns": null,
            "grid_template_rows": null,
            "height": null,
            "justify_content": null,
            "justify_items": null,
            "left": null,
            "margin": null,
            "max_height": null,
            "max_width": null,
            "min_height": null,
            "min_width": null,
            "object_fit": null,
            "object_position": null,
            "order": null,
            "overflow": null,
            "overflow_x": null,
            "overflow_y": null,
            "padding": null,
            "right": null,
            "top": null,
            "visibility": null,
            "width": null
          }
        },
        "a8ec4838b84e482a8b7fe002a8044d5f": {
          "model_module": "@jupyter-widgets/controls",
          "model_module_version": "1.5.0",
          "model_name": "ProgressStyleModel",
          "state": {
            "_model_module": "@jupyter-widgets/controls",
            "_model_module_version": "1.5.0",
            "_model_name": "ProgressStyleModel",
            "_view_count": null,
            "_view_module": "@jupyter-widgets/base",
            "_view_module_version": "1.2.0",
            "_view_name": "StyleView",
            "bar_color": null,
            "description_width": ""
          }
        },
        "aae317eda44044e996b02def0e7516ed": {
          "model_module": "@jupyter-widgets/controls",
          "model_module_version": "1.5.0",
          "model_name": "HTMLModel",
          "state": {
            "_dom_classes": [],
            "_model_module": "@jupyter-widgets/controls",
            "_model_module_version": "1.5.0",
            "_model_name": "HTMLModel",
            "_view_count": null,
            "_view_module": "@jupyter-widgets/controls",
            "_view_module_version": "1.5.0",
            "_view_name": "HTMLView",
            "description": "",
            "description_tooltip": null,
            "layout": "IPY_MODEL_6d7bbef9a3c54d329311971626bbd9cb",
            "placeholder": "​",
            "style": "IPY_MODEL_b80aa7cdaa074e9d9924b5b448166552",
            "value": " 424k/? [00:00&lt;00:00, 13.4MB/s]"
          }
        },
        "add06bb1018a434c8622df1cb8c29df3": {
          "model_module": "@jupyter-widgets/controls",
          "model_module_version": "1.5.0",
          "model_name": "HTMLModel",
          "state": {
            "_dom_classes": [],
            "_model_module": "@jupyter-widgets/controls",
            "_model_module_version": "1.5.0",
            "_model_name": "HTMLModel",
            "_view_count": null,
            "_view_module": "@jupyter-widgets/controls",
            "_view_module_version": "1.5.0",
            "_view_name": "HTMLView",
            "description": "",
            "description_tooltip": null,
            "layout": "IPY_MODEL_4decee2bd7894f98986a1ff38dd31034",
            "placeholder": "​",
            "style": "IPY_MODEL_fc90a1a82945469c9439852736e3c866",
            "value": "Downloading https://raw.githubusercontent.com/stanfordnlp/stanza-resources/main/resources_1.10.0.json: "
          }
        },
        "b80aa7cdaa074e9d9924b5b448166552": {
          "model_module": "@jupyter-widgets/controls",
          "model_module_version": "1.5.0",
          "model_name": "DescriptionStyleModel",
          "state": {
            "_model_module": "@jupyter-widgets/controls",
            "_model_module_version": "1.5.0",
            "_model_name": "DescriptionStyleModel",
            "_view_count": null,
            "_view_module": "@jupyter-widgets/base",
            "_view_module_version": "1.2.0",
            "_view_name": "StyleView",
            "description_width": ""
          }
        },
        "b8b4b9d2d6a746fe9f1dce60bdbfc5d6": {
          "model_module": "@jupyter-widgets/controls",
          "model_module_version": "1.5.0",
          "model_name": "FloatProgressModel",
          "state": {
            "_dom_classes": [],
            "_model_module": "@jupyter-widgets/controls",
            "_model_module_version": "1.5.0",
            "_model_name": "FloatProgressModel",
            "_view_count": null,
            "_view_module": "@jupyter-widgets/controls",
            "_view_module_version": "1.5.0",
            "_view_name": "ProgressView",
            "bar_style": "success",
            "description": "",
            "description_tooltip": null,
            "layout": "IPY_MODEL_fcdcd7266ea04995adc42c5d3ac9ffdb",
            "max": 52404,
            "min": 0,
            "orientation": "horizontal",
            "style": "IPY_MODEL_38fd3cea08604a09916f6588ef7636ab",
            "value": 52404
          }
        },
        "c3f34a7004cc4f1a9d4c664e61db7546": {
          "model_module": "@jupyter-widgets/base",
          "model_module_version": "1.2.0",
          "model_name": "LayoutModel",
          "state": {
            "_model_module": "@jupyter-widgets/base",
            "_model_module_version": "1.2.0",
            "_model_name": "LayoutModel",
            "_view_count": null,
            "_view_module": "@jupyter-widgets/base",
            "_view_module_version": "1.2.0",
            "_view_name": "LayoutView",
            "align_content": null,
            "align_items": null,
            "align_self": null,
            "border": null,
            "bottom": null,
            "display": null,
            "flex": null,
            "flex_flow": null,
            "grid_area": null,
            "grid_auto_columns": null,
            "grid_auto_flow": null,
            "grid_auto_rows": null,
            "grid_column": null,
            "grid_gap": null,
            "grid_row": null,
            "grid_template_areas": null,
            "grid_template_columns": null,
            "grid_template_rows": null,
            "height": null,
            "justify_content": null,
            "justify_items": null,
            "left": null,
            "margin": null,
            "max_height": null,
            "max_width": null,
            "min_height": null,
            "min_width": null,
            "object_fit": null,
            "object_position": null,
            "order": null,
            "overflow": null,
            "overflow_x": null,
            "overflow_y": null,
            "padding": null,
            "right": null,
            "top": null,
            "visibility": null,
            "width": null
          }
        },
        "c4f8f3d65d4943e2ace75c1bd4e90942": {
          "model_module": "@jupyter-widgets/controls",
          "model_module_version": "1.5.0",
          "model_name": "HBoxModel",
          "state": {
            "_dom_classes": [],
            "_model_module": "@jupyter-widgets/controls",
            "_model_module_version": "1.5.0",
            "_model_name": "HBoxModel",
            "_view_count": null,
            "_view_module": "@jupyter-widgets/controls",
            "_view_module_version": "1.5.0",
            "_view_name": "HBoxView",
            "box_style": "",
            "children": [
              "IPY_MODEL_add06bb1018a434c8622df1cb8c29df3",
              "IPY_MODEL_b8b4b9d2d6a746fe9f1dce60bdbfc5d6",
              "IPY_MODEL_e11e83c8beb245a4be4f63118c3c1a7d"
            ],
            "layout": "IPY_MODEL_897edf66789b45dba4bfe7599554c1eb"
          }
        },
        "c7315907ada24a559f16e8214d39de17": {
          "model_module": "@jupyter-widgets/controls",
          "model_module_version": "1.5.0",
          "model_name": "ProgressStyleModel",
          "state": {
            "_model_module": "@jupyter-widgets/controls",
            "_model_module_version": "1.5.0",
            "_model_name": "ProgressStyleModel",
            "_view_count": null,
            "_view_module": "@jupyter-widgets/base",
            "_view_module_version": "1.2.0",
            "_view_name": "StyleView",
            "bar_color": null,
            "description_width": ""
          }
        },
        "e11e83c8beb245a4be4f63118c3c1a7d": {
          "model_module": "@jupyter-widgets/controls",
          "model_module_version": "1.5.0",
          "model_name": "HTMLModel",
          "state": {
            "_dom_classes": [],
            "_model_module": "@jupyter-widgets/controls",
            "_model_module_version": "1.5.0",
            "_model_name": "HTMLModel",
            "_view_count": null,
            "_view_module": "@jupyter-widgets/controls",
            "_view_module_version": "1.5.0",
            "_view_name": "HTMLView",
            "description": "",
            "description_tooltip": null,
            "layout": "IPY_MODEL_c3f34a7004cc4f1a9d4c664e61db7546",
            "placeholder": "​",
            "style": "IPY_MODEL_484e2d0d35b94119a988ab28a5471952",
            "value": " 424k/? [00:00&lt;00:00, 23.2MB/s]"
          }
        },
        "eb3eade01f824c0282b83698c7588b91": {
          "model_module": "@jupyter-widgets/controls",
          "model_module_version": "1.5.0",
          "model_name": "FloatProgressModel",
          "state": {
            "_dom_classes": [],
            "_model_module": "@jupyter-widgets/controls",
            "_model_module_version": "1.5.0",
            "_model_name": "FloatProgressModel",
            "_view_count": null,
            "_view_module": "@jupyter-widgets/controls",
            "_view_module_version": "1.5.0",
            "_view_name": "ProgressView",
            "bar_style": "success",
            "description": "",
            "description_tooltip": null,
            "layout": "IPY_MODEL_895271c857cb4343bf351b7c84060d59",
            "max": 52404,
            "min": 0,
            "orientation": "horizontal",
            "style": "IPY_MODEL_c7315907ada24a559f16e8214d39de17",
            "value": 52404
          }
        },
        "f35a24fd7f584b40adbbdae49589dda5": {
          "model_module": "@jupyter-widgets/base",
          "model_module_version": "1.2.0",
          "model_name": "LayoutModel",
          "state": {
            "_model_module": "@jupyter-widgets/base",
            "_model_module_version": "1.2.0",
            "_model_name": "LayoutModel",
            "_view_count": null,
            "_view_module": "@jupyter-widgets/base",
            "_view_module_version": "1.2.0",
            "_view_name": "LayoutView",
            "align_content": null,
            "align_items": null,
            "align_self": null,
            "border": null,
            "bottom": null,
            "display": null,
            "flex": null,
            "flex_flow": null,
            "grid_area": null,
            "grid_auto_columns": null,
            "grid_auto_flow": null,
            "grid_auto_rows": null,
            "grid_column": null,
            "grid_gap": null,
            "grid_row": null,
            "grid_template_areas": null,
            "grid_template_columns": null,
            "grid_template_rows": null,
            "height": null,
            "justify_content": null,
            "justify_items": null,
            "left": null,
            "margin": null,
            "max_height": null,
            "max_width": null,
            "min_height": null,
            "min_width": null,
            "object_fit": null,
            "object_position": null,
            "order": null,
            "overflow": null,
            "overflow_x": null,
            "overflow_y": null,
            "padding": null,
            "right": null,
            "top": null,
            "visibility": null,
            "width": null
          }
        },
        "f9f193af537644d0b71aa51fd46982f5": {
          "model_module": "@jupyter-widgets/controls",
          "model_module_version": "1.5.0",
          "model_name": "DescriptionStyleModel",
          "state": {
            "_model_module": "@jupyter-widgets/controls",
            "_model_module_version": "1.5.0",
            "_model_name": "DescriptionStyleModel",
            "_view_count": null,
            "_view_module": "@jupyter-widgets/base",
            "_view_module_version": "1.2.0",
            "_view_name": "StyleView",
            "description_width": ""
          }
        },
        "fc90a1a82945469c9439852736e3c866": {
          "model_module": "@jupyter-widgets/controls",
          "model_module_version": "1.5.0",
          "model_name": "DescriptionStyleModel",
          "state": {
            "_model_module": "@jupyter-widgets/controls",
            "_model_module_version": "1.5.0",
            "_model_name": "DescriptionStyleModel",
            "_view_count": null,
            "_view_module": "@jupyter-widgets/base",
            "_view_module_version": "1.2.0",
            "_view_name": "StyleView",
            "description_width": ""
          }
        },
        "fcdcd7266ea04995adc42c5d3ac9ffdb": {
          "model_module": "@jupyter-widgets/base",
          "model_module_version": "1.2.0",
          "model_name": "LayoutModel",
          "state": {
            "_model_module": "@jupyter-widgets/base",
            "_model_module_version": "1.2.0",
            "_model_name": "LayoutModel",
            "_view_count": null,
            "_view_module": "@jupyter-widgets/base",
            "_view_module_version": "1.2.0",
            "_view_name": "LayoutView",
            "align_content": null,
            "align_items": null,
            "align_self": null,
            "border": null,
            "bottom": null,
            "display": null,
            "flex": null,
            "flex_flow": null,
            "grid_area": null,
            "grid_auto_columns": null,
            "grid_auto_flow": null,
            "grid_auto_rows": null,
            "grid_column": null,
            "grid_gap": null,
            "grid_row": null,
            "grid_template_areas": null,
            "grid_template_columns": null,
            "grid_template_rows": null,
            "height": null,
            "justify_content": null,
            "justify_items": null,
            "left": null,
            "margin": null,
            "max_height": null,
            "max_width": null,
            "min_height": null,
            "min_width": null,
            "object_fit": null,
            "object_position": null,
            "order": null,
            "overflow": null,
            "overflow_x": null,
            "overflow_y": null,
            "padding": null,
            "right": null,
            "top": null,
            "visibility": null,
            "width": null
          }
        }
      }
    }
  },
  "nbformat": 4,
  "nbformat_minor": 5
}
